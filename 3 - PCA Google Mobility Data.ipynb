{
 "cells": [
  {
   "cell_type": "markdown",
   "metadata": {},
   "source": [
    "# Studying mobility changes due to covid 19 political measures"
   ]
  },
  {
   "cell_type": "markdown",
   "metadata": {},
   "source": [
    "#### simple PCA analysis\n",
    "\n",
    "input:\n",
    "- df_param as Google_mobility_fit_df_param.csv\n",
    "- df_param as Google_mobility_raw_df.csv\n",
    "\n",
    "no output"
   ]
  },
  {
   "cell_type": "code",
   "execution_count": 1,
   "metadata": {},
   "outputs": [
    {
     "data": {
      "text/html": [
       "        <script type=\"text/javascript\">\n",
       "        window.PlotlyConfig = {MathJaxConfig: 'local'};\n",
       "        if (window.MathJax) {MathJax.Hub.Config({SVG: {font: \"STIX-Web\"}});}\n",
       "        if (typeof require !== 'undefined') {\n",
       "        require.undef(\"plotly\");\n",
       "        requirejs.config({\n",
       "            paths: {\n",
       "                'plotly': ['https://cdn.plot.ly/plotly-latest.min']\n",
       "            }\n",
       "        });\n",
       "        require(['plotly'], function(Plotly) {\n",
       "            window._Plotly = Plotly;\n",
       "        });\n",
       "        }\n",
       "        </script>\n",
       "        "
      ]
     },
     "metadata": {},
     "output_type": "display_data"
    }
   ],
   "source": [
    "import numpy as np\n",
    "import matplotlib.pyplot as plt\n",
    "import pandas as pd\n",
    "import pyodbc as pyo\n",
    "import time\n",
    "from datetime import datetime\n",
    "from dateutil.parser import  *\n",
    "import itertools\n",
    "\n",
    "import plotly.express as px\n",
    "from plotly.offline import init_notebook_mode\n",
    "init_notebook_mode(connected=True) \n",
    "from plotly.subplots import make_subplots\n",
    "import plotly.graph_objects as go\n",
    "\n",
    "from sklearn import decomposition"
   ]
  },
  {
   "cell_type": "code",
   "execution_count": 2,
   "metadata": {},
   "outputs": [
    {
     "data": {
      "text/html": [
       "<div>\n",
       "<style scoped>\n",
       "    .dataframe tbody tr th:only-of-type {\n",
       "        vertical-align: middle;\n",
       "    }\n",
       "\n",
       "    .dataframe tbody tr th {\n",
       "        vertical-align: top;\n",
       "    }\n",
       "\n",
       "    .dataframe thead tr th {\n",
       "        text-align: left;\n",
       "    }\n",
       "\n",
       "    .dataframe thead tr:last-of-type th {\n",
       "        text-align: right;\n",
       "    }\n",
       "</style>\n",
       "<table border=\"1\" class=\"dataframe\">\n",
       "  <thead>\n",
       "    <tr>\n",
       "      <th>Country</th>\n",
       "      <th colspan=\"6\" halign=\"left\">Afghanistan</th>\n",
       "      <th colspan=\"4\" halign=\"left\">Angola</th>\n",
       "      <th>...</th>\n",
       "      <th colspan=\"4\" halign=\"left\">Zambia</th>\n",
       "      <th colspan=\"6\" halign=\"left\">Zimbabwe</th>\n",
       "    </tr>\n",
       "    <tr>\n",
       "      <th>Sector</th>\n",
       "      <th>Grocery &amp; pharmacy</th>\n",
       "      <th>Parks</th>\n",
       "      <th>Residential</th>\n",
       "      <th>Retail &amp; recreation</th>\n",
       "      <th>Transit stations</th>\n",
       "      <th>Workplace</th>\n",
       "      <th>Grocery &amp; pharmacy</th>\n",
       "      <th>Parks</th>\n",
       "      <th>Residential</th>\n",
       "      <th>Retail &amp; recreation</th>\n",
       "      <th>...</th>\n",
       "      <th>Residential</th>\n",
       "      <th>Retail &amp; recreation</th>\n",
       "      <th>Transit stations</th>\n",
       "      <th>Workplace</th>\n",
       "      <th>Grocery &amp; pharmacy</th>\n",
       "      <th>Parks</th>\n",
       "      <th>Residential</th>\n",
       "      <th>Retail &amp; recreation</th>\n",
       "      <th>Transit stations</th>\n",
       "      <th>Workplace</th>\n",
       "    </tr>\n",
       "    <tr>\n",
       "      <th>date</th>\n",
       "      <th></th>\n",
       "      <th></th>\n",
       "      <th></th>\n",
       "      <th></th>\n",
       "      <th></th>\n",
       "      <th></th>\n",
       "      <th></th>\n",
       "      <th></th>\n",
       "      <th></th>\n",
       "      <th></th>\n",
       "      <th></th>\n",
       "      <th></th>\n",
       "      <th></th>\n",
       "      <th></th>\n",
       "      <th></th>\n",
       "      <th></th>\n",
       "      <th></th>\n",
       "      <th></th>\n",
       "      <th></th>\n",
       "      <th></th>\n",
       "      <th></th>\n",
       "    </tr>\n",
       "  </thead>\n",
       "  <tbody>\n",
       "    <tr>\n",
       "      <th>2020-02-15</th>\n",
       "      <td>-10.0</td>\n",
       "      <td>0.0</td>\n",
       "      <td>-5.0</td>\n",
       "      <td>-9.0</td>\n",
       "      <td>-2.0</td>\n",
       "      <td>-28.0</td>\n",
       "      <td>-2.0</td>\n",
       "      <td>7.0</td>\n",
       "      <td>-1.0</td>\n",
       "      <td>3.0</td>\n",
       "      <td>...</td>\n",
       "      <td>-4.0</td>\n",
       "      <td>-1.0</td>\n",
       "      <td>-5.0</td>\n",
       "      <td>7.0</td>\n",
       "      <td>0.0</td>\n",
       "      <td>-1.0</td>\n",
       "      <td>-1.0</td>\n",
       "      <td>-4.0</td>\n",
       "      <td>-11.0</td>\n",
       "      <td>0.0</td>\n",
       "    </tr>\n",
       "    <tr>\n",
       "      <th>2020-02-16</th>\n",
       "      <td>11.0</td>\n",
       "      <td>1.0</td>\n",
       "      <td>-0.0</td>\n",
       "      <td>3.0</td>\n",
       "      <td>10.0</td>\n",
       "      <td>4.0</td>\n",
       "      <td>0.0</td>\n",
       "      <td>-11.0</td>\n",
       "      <td>-2.0</td>\n",
       "      <td>-4.0</td>\n",
       "      <td>...</td>\n",
       "      <td>-3.0</td>\n",
       "      <td>-4.0</td>\n",
       "      <td>-7.0</td>\n",
       "      <td>2.0</td>\n",
       "      <td>-3.0</td>\n",
       "      <td>-6.0</td>\n",
       "      <td>-3.0</td>\n",
       "      <td>-8.0</td>\n",
       "      <td>-11.0</td>\n",
       "      <td>-2.0</td>\n",
       "    </tr>\n",
       "    <tr>\n",
       "      <th>2020-02-17</th>\n",
       "      <td>11.0</td>\n",
       "      <td>2.0</td>\n",
       "      <td>1.0</td>\n",
       "      <td>6.0</td>\n",
       "      <td>9.0</td>\n",
       "      <td>5.0</td>\n",
       "      <td>-4.0</td>\n",
       "      <td>2.0</td>\n",
       "      <td>-0.0</td>\n",
       "      <td>-6.0</td>\n",
       "      <td>...</td>\n",
       "      <td>-3.0</td>\n",
       "      <td>-8.0</td>\n",
       "      <td>-8.0</td>\n",
       "      <td>8.0</td>\n",
       "      <td>-2.0</td>\n",
       "      <td>-1.0</td>\n",
       "      <td>-1.0</td>\n",
       "      <td>-3.0</td>\n",
       "      <td>-7.0</td>\n",
       "      <td>8.0</td>\n",
       "    </tr>\n",
       "    <tr>\n",
       "      <th>2020-02-18</th>\n",
       "      <td>5.0</td>\n",
       "      <td>3.0</td>\n",
       "      <td>1.0</td>\n",
       "      <td>3.0</td>\n",
       "      <td>9.0</td>\n",
       "      <td>6.0</td>\n",
       "      <td>-4.0</td>\n",
       "      <td>-4.0</td>\n",
       "      <td>1.0</td>\n",
       "      <td>-3.0</td>\n",
       "      <td>...</td>\n",
       "      <td>-2.0</td>\n",
       "      <td>-6.0</td>\n",
       "      <td>-4.0</td>\n",
       "      <td>6.0</td>\n",
       "      <td>4.0</td>\n",
       "      <td>0.0</td>\n",
       "      <td>-2.0</td>\n",
       "      <td>1.0</td>\n",
       "      <td>-6.0</td>\n",
       "      <td>7.0</td>\n",
       "    </tr>\n",
       "    <tr>\n",
       "      <th>2020-02-19</th>\n",
       "      <td>3.0</td>\n",
       "      <td>1.0</td>\n",
       "      <td>-1.0</td>\n",
       "      <td>-1.0</td>\n",
       "      <td>0.0</td>\n",
       "      <td>5.0</td>\n",
       "      <td>-12.0</td>\n",
       "      <td>-3.0</td>\n",
       "      <td>-1.0</td>\n",
       "      <td>-10.0</td>\n",
       "      <td>...</td>\n",
       "      <td>-3.0</td>\n",
       "      <td>-8.0</td>\n",
       "      <td>-7.0</td>\n",
       "      <td>4.0</td>\n",
       "      <td>1.0</td>\n",
       "      <td>-4.0</td>\n",
       "      <td>-1.0</td>\n",
       "      <td>-2.0</td>\n",
       "      <td>-8.0</td>\n",
       "      <td>5.0</td>\n",
       "    </tr>\n",
       "    <tr>\n",
       "      <th>...</th>\n",
       "      <td>...</td>\n",
       "      <td>...</td>\n",
       "      <td>...</td>\n",
       "      <td>...</td>\n",
       "      <td>...</td>\n",
       "      <td>...</td>\n",
       "      <td>...</td>\n",
       "      <td>...</td>\n",
       "      <td>...</td>\n",
       "      <td>...</td>\n",
       "      <td>...</td>\n",
       "      <td>...</td>\n",
       "      <td>...</td>\n",
       "      <td>...</td>\n",
       "      <td>...</td>\n",
       "      <td>...</td>\n",
       "      <td>...</td>\n",
       "      <td>...</td>\n",
       "      <td>...</td>\n",
       "      <td>...</td>\n",
       "      <td>...</td>\n",
       "    </tr>\n",
       "    <tr>\n",
       "      <th>2020-04-13</th>\n",
       "      <td>-27.0</td>\n",
       "      <td>-13.0</td>\n",
       "      <td>-14.0</td>\n",
       "      <td>-46.0</td>\n",
       "      <td>-51.0</td>\n",
       "      <td>-41.0</td>\n",
       "      <td>-40.0</td>\n",
       "      <td>-39.0</td>\n",
       "      <td>-29.0</td>\n",
       "      <td>-55.0</td>\n",
       "      <td>...</td>\n",
       "      <td>-21.0</td>\n",
       "      <td>-32.0</td>\n",
       "      <td>-32.0</td>\n",
       "      <td>-51.0</td>\n",
       "      <td>-63.0</td>\n",
       "      <td>-51.0</td>\n",
       "      <td>-49.0</td>\n",
       "      <td>-71.0</td>\n",
       "      <td>-83.0</td>\n",
       "      <td>-80.0</td>\n",
       "    </tr>\n",
       "    <tr>\n",
       "      <th>2020-04-14</th>\n",
       "      <td>-32.0</td>\n",
       "      <td>-14.0</td>\n",
       "      <td>-15.0</td>\n",
       "      <td>-48.0</td>\n",
       "      <td>-52.0</td>\n",
       "      <td>-42.0</td>\n",
       "      <td>-35.0</td>\n",
       "      <td>-40.0</td>\n",
       "      <td>-27.0</td>\n",
       "      <td>-52.0</td>\n",
       "      <td>...</td>\n",
       "      <td>-11.0</td>\n",
       "      <td>-16.0</td>\n",
       "      <td>-20.0</td>\n",
       "      <td>-16.0</td>\n",
       "      <td>-53.0</td>\n",
       "      <td>-47.0</td>\n",
       "      <td>-41.0</td>\n",
       "      <td>-63.0</td>\n",
       "      <td>-78.0</td>\n",
       "      <td>-64.0</td>\n",
       "    </tr>\n",
       "    <tr>\n",
       "      <th>2020-04-15</th>\n",
       "      <td>-31.0</td>\n",
       "      <td>-10.0</td>\n",
       "      <td>-14.0</td>\n",
       "      <td>-42.0</td>\n",
       "      <td>-51.0</td>\n",
       "      <td>-42.0</td>\n",
       "      <td>-40.0</td>\n",
       "      <td>-41.0</td>\n",
       "      <td>-29.0</td>\n",
       "      <td>-54.0</td>\n",
       "      <td>...</td>\n",
       "      <td>-13.0</td>\n",
       "      <td>-19.0</td>\n",
       "      <td>-25.0</td>\n",
       "      <td>-18.0</td>\n",
       "      <td>-50.0</td>\n",
       "      <td>-51.0</td>\n",
       "      <td>-42.0</td>\n",
       "      <td>-62.0</td>\n",
       "      <td>-77.0</td>\n",
       "      <td>-65.0</td>\n",
       "    </tr>\n",
       "    <tr>\n",
       "      <th>2020-04-16</th>\n",
       "      <td>-34.0</td>\n",
       "      <td>-13.0</td>\n",
       "      <td>-16.0</td>\n",
       "      <td>-46.0</td>\n",
       "      <td>-51.0</td>\n",
       "      <td>-39.0</td>\n",
       "      <td>-34.0</td>\n",
       "      <td>-36.0</td>\n",
       "      <td>-25.0</td>\n",
       "      <td>-52.0</td>\n",
       "      <td>...</td>\n",
       "      <td>-12.0</td>\n",
       "      <td>-18.0</td>\n",
       "      <td>-23.0</td>\n",
       "      <td>-19.0</td>\n",
       "      <td>-50.0</td>\n",
       "      <td>-48.0</td>\n",
       "      <td>-42.0</td>\n",
       "      <td>-62.0</td>\n",
       "      <td>-77.0</td>\n",
       "      <td>-64.0</td>\n",
       "    </tr>\n",
       "    <tr>\n",
       "      <th>2020-04-17</th>\n",
       "      <td>-21.0</td>\n",
       "      <td>-12.0</td>\n",
       "      <td>-11.0</td>\n",
       "      <td>-41.0</td>\n",
       "      <td>-51.0</td>\n",
       "      <td>-13.0</td>\n",
       "      <td>-37.0</td>\n",
       "      <td>-43.0</td>\n",
       "      <td>-31.0</td>\n",
       "      <td>-56.0</td>\n",
       "      <td>...</td>\n",
       "      <td>-13.0</td>\n",
       "      <td>-23.0</td>\n",
       "      <td>-26.0</td>\n",
       "      <td>-15.0</td>\n",
       "      <td>-48.0</td>\n",
       "      <td>-47.0</td>\n",
       "      <td>-43.0</td>\n",
       "      <td>-62.0</td>\n",
       "      <td>-79.0</td>\n",
       "      <td>-62.0</td>\n",
       "    </tr>\n",
       "  </tbody>\n",
       "</table>\n",
       "<p>63 rows × 775 columns</p>\n",
       "</div>"
      ],
      "text/plain": [
       "Country           Afghanistan                                        \\\n",
       "Sector     Grocery & pharmacy Parks Residential Retail & recreation   \n",
       "date                                                                  \n",
       "2020-02-15              -10.0   0.0        -5.0                -9.0   \n",
       "2020-02-16               11.0   1.0        -0.0                 3.0   \n",
       "2020-02-17               11.0   2.0         1.0                 6.0   \n",
       "2020-02-18                5.0   3.0         1.0                 3.0   \n",
       "2020-02-19                3.0   1.0        -1.0                -1.0   \n",
       "...                       ...   ...         ...                 ...   \n",
       "2020-04-13              -27.0 -13.0       -14.0               -46.0   \n",
       "2020-04-14              -32.0 -14.0       -15.0               -48.0   \n",
       "2020-04-15              -31.0 -10.0       -14.0               -42.0   \n",
       "2020-04-16              -34.0 -13.0       -16.0               -46.0   \n",
       "2020-04-17              -21.0 -12.0       -11.0               -41.0   \n",
       "\n",
       "Country                                           Angola                    \\\n",
       "Sector     Transit stations Workplace Grocery & pharmacy Parks Residential   \n",
       "date                                                                         \n",
       "2020-02-15             -2.0     -28.0               -2.0   7.0        -1.0   \n",
       "2020-02-16             10.0       4.0                0.0 -11.0        -2.0   \n",
       "2020-02-17              9.0       5.0               -4.0   2.0        -0.0   \n",
       "2020-02-18              9.0       6.0               -4.0  -4.0         1.0   \n",
       "2020-02-19              0.0       5.0              -12.0  -3.0        -1.0   \n",
       "...                     ...       ...                ...   ...         ...   \n",
       "2020-04-13            -51.0     -41.0              -40.0 -39.0       -29.0   \n",
       "2020-04-14            -52.0     -42.0              -35.0 -40.0       -27.0   \n",
       "2020-04-15            -51.0     -42.0              -40.0 -41.0       -29.0   \n",
       "2020-04-16            -51.0     -39.0              -34.0 -36.0       -25.0   \n",
       "2020-04-17            -51.0     -13.0              -37.0 -43.0       -31.0   \n",
       "\n",
       "Country                         ...      Zambia                      \\\n",
       "Sector     Retail & recreation  ... Residential Retail & recreation   \n",
       "date                            ...                                   \n",
       "2020-02-15                 3.0  ...        -4.0                -1.0   \n",
       "2020-02-16                -4.0  ...        -3.0                -4.0   \n",
       "2020-02-17                -6.0  ...        -3.0                -8.0   \n",
       "2020-02-18                -3.0  ...        -2.0                -6.0   \n",
       "2020-02-19               -10.0  ...        -3.0                -8.0   \n",
       "...                        ...  ...         ...                 ...   \n",
       "2020-04-13               -55.0  ...       -21.0               -32.0   \n",
       "2020-04-14               -52.0  ...       -11.0               -16.0   \n",
       "2020-04-15               -54.0  ...       -13.0               -19.0   \n",
       "2020-04-16               -52.0  ...       -12.0               -18.0   \n",
       "2020-04-17               -56.0  ...       -13.0               -23.0   \n",
       "\n",
       "Country                                         Zimbabwe                    \\\n",
       "Sector     Transit stations Workplace Grocery & pharmacy Parks Residential   \n",
       "date                                                                         \n",
       "2020-02-15             -5.0       7.0                0.0  -1.0        -1.0   \n",
       "2020-02-16             -7.0       2.0               -3.0  -6.0        -3.0   \n",
       "2020-02-17             -8.0       8.0               -2.0  -1.0        -1.0   \n",
       "2020-02-18             -4.0       6.0                4.0   0.0        -2.0   \n",
       "2020-02-19             -7.0       4.0                1.0  -4.0        -1.0   \n",
       "...                     ...       ...                ...   ...         ...   \n",
       "2020-04-13            -32.0     -51.0              -63.0 -51.0       -49.0   \n",
       "2020-04-14            -20.0     -16.0              -53.0 -47.0       -41.0   \n",
       "2020-04-15            -25.0     -18.0              -50.0 -51.0       -42.0   \n",
       "2020-04-16            -23.0     -19.0              -50.0 -48.0       -42.0   \n",
       "2020-04-17            -26.0     -15.0              -48.0 -47.0       -43.0   \n",
       "\n",
       "Country                                                    \n",
       "Sector     Retail & recreation Transit stations Workplace  \n",
       "date                                                       \n",
       "2020-02-15                -4.0            -11.0       0.0  \n",
       "2020-02-16                -8.0            -11.0      -2.0  \n",
       "2020-02-17                -3.0             -7.0       8.0  \n",
       "2020-02-18                 1.0             -6.0       7.0  \n",
       "2020-02-19                -2.0             -8.0       5.0  \n",
       "...                        ...              ...       ...  \n",
       "2020-04-13               -71.0            -83.0     -80.0  \n",
       "2020-04-14               -63.0            -78.0     -64.0  \n",
       "2020-04-15               -62.0            -77.0     -65.0  \n",
       "2020-04-16               -62.0            -77.0     -64.0  \n",
       "2020-04-17               -62.0            -79.0     -62.0  \n",
       "\n",
       "[63 rows x 775 columns]"
      ]
     },
     "execution_count": 2,
     "metadata": {},
     "output_type": "execute_result"
    }
   ],
   "source": [
    "url = \"https://raw.githubusercontent.com/sylvainhislaire/projects/master/Google_Mobility_raw_df.csv\"\n",
    "df = pd.read_csv(url, header = [0,1], index_col = [0])\n",
    "df"
   ]
  },
  {
   "cell_type": "code",
   "execution_count": 3,
   "metadata": {
    "scrolled": false
   },
   "outputs": [
    {
     "data": {
      "text/html": [
       "<div>\n",
       "<style scoped>\n",
       "    .dataframe tbody tr th:only-of-type {\n",
       "        vertical-align: middle;\n",
       "    }\n",
       "\n",
       "    .dataframe tbody tr th {\n",
       "        vertical-align: top;\n",
       "    }\n",
       "\n",
       "    .dataframe thead tr th {\n",
       "        text-align: left;\n",
       "    }\n",
       "\n",
       "    .dataframe thead tr:last-of-type th {\n",
       "        text-align: right;\n",
       "    }\n",
       "</style>\n",
       "<table border=\"1\" class=\"dataframe\">\n",
       "  <thead>\n",
       "    <tr>\n",
       "      <th>Country</th>\n",
       "      <th colspan=\"6\" halign=\"left\">Afghanistan</th>\n",
       "      <th colspan=\"4\" halign=\"left\">Angola</th>\n",
       "      <th>...</th>\n",
       "      <th colspan=\"4\" halign=\"left\">Zambia</th>\n",
       "      <th colspan=\"6\" halign=\"left\">Zimbabwe</th>\n",
       "    </tr>\n",
       "    <tr>\n",
       "      <th>Sector</th>\n",
       "      <th>Grocery &amp; pharmacy</th>\n",
       "      <th>Parks</th>\n",
       "      <th>Residential</th>\n",
       "      <th>Retail &amp; recreation</th>\n",
       "      <th>Transit stations</th>\n",
       "      <th>Workplace</th>\n",
       "      <th>Grocery &amp; pharmacy</th>\n",
       "      <th>Parks</th>\n",
       "      <th>Residential</th>\n",
       "      <th>Retail &amp; recreation</th>\n",
       "      <th>...</th>\n",
       "      <th>Residential</th>\n",
       "      <th>Retail &amp; recreation</th>\n",
       "      <th>Transit stations</th>\n",
       "      <th>Workplace</th>\n",
       "      <th>Grocery &amp; pharmacy</th>\n",
       "      <th>Parks</th>\n",
       "      <th>Residential</th>\n",
       "      <th>Retail &amp; recreation</th>\n",
       "      <th>Transit stations</th>\n",
       "      <th>Workplace</th>\n",
       "    </tr>\n",
       "    <tr>\n",
       "      <th>parameters</th>\n",
       "      <th></th>\n",
       "      <th></th>\n",
       "      <th></th>\n",
       "      <th></th>\n",
       "      <th></th>\n",
       "      <th></th>\n",
       "      <th></th>\n",
       "      <th></th>\n",
       "      <th></th>\n",
       "      <th></th>\n",
       "      <th></th>\n",
       "      <th></th>\n",
       "      <th></th>\n",
       "      <th></th>\n",
       "      <th></th>\n",
       "      <th></th>\n",
       "      <th></th>\n",
       "      <th></th>\n",
       "      <th></th>\n",
       "      <th></th>\n",
       "      <th></th>\n",
       "    </tr>\n",
       "  </thead>\n",
       "  <tbody>\n",
       "    <tr>\n",
       "      <th>acuteness</th>\n",
       "      <td>10.000000</td>\n",
       "      <td>0.624789</td>\n",
       "      <td>0.284801</td>\n",
       "      <td>0.319800</td>\n",
       "      <td>0.209542</td>\n",
       "      <td>3.089872</td>\n",
       "      <td>10.000000</td>\n",
       "      <td>0.323832</td>\n",
       "      <td>0.420756</td>\n",
       "      <td>3.043538</td>\n",
       "      <td>...</td>\n",
       "      <td>0.245632</td>\n",
       "      <td>0.200000</td>\n",
       "      <td>0.200000</td>\n",
       "      <td>0.200000</td>\n",
       "      <td>10.000000</td>\n",
       "      <td>0.468455</td>\n",
       "      <td>0.498078</td>\n",
       "      <td>10.000000</td>\n",
       "      <td>10.000000</td>\n",
       "      <td>0.599979</td>\n",
       "    </tr>\n",
       "    <tr>\n",
       "      <th>transition day</th>\n",
       "      <td>41.857616</td>\n",
       "      <td>40.362680</td>\n",
       "      <td>41.173570</td>\n",
       "      <td>39.386526</td>\n",
       "      <td>38.719832</td>\n",
       "      <td>41.621038</td>\n",
       "      <td>40.946044</td>\n",
       "      <td>37.074623</td>\n",
       "      <td>37.654515</td>\n",
       "      <td>40.501179</td>\n",
       "      <td>...</td>\n",
       "      <td>41.888258</td>\n",
       "      <td>41.499351</td>\n",
       "      <td>41.417020</td>\n",
       "      <td>44.821920</td>\n",
       "      <td>43.519254</td>\n",
       "      <td>42.017633</td>\n",
       "      <td>41.400674</td>\n",
       "      <td>43.415239</td>\n",
       "      <td>43.584050</td>\n",
       "      <td>42.457331</td>\n",
       "    </tr>\n",
       "    <tr>\n",
       "      <th>intensity</th>\n",
       "      <td>-29.895426</td>\n",
       "      <td>-14.646242</td>\n",
       "      <td>-12.959441</td>\n",
       "      <td>-46.476161</td>\n",
       "      <td>-52.000000</td>\n",
       "      <td>-35.980899</td>\n",
       "      <td>-37.516984</td>\n",
       "      <td>-45.320953</td>\n",
       "      <td>-27.296113</td>\n",
       "      <td>-51.716102</td>\n",
       "      <td>...</td>\n",
       "      <td>-11.148057</td>\n",
       "      <td>-22.289023</td>\n",
       "      <td>-21.916520</td>\n",
       "      <td>-27.602718</td>\n",
       "      <td>-60.424010</td>\n",
       "      <td>-46.444337</td>\n",
       "      <td>-40.921894</td>\n",
       "      <td>-63.639418</td>\n",
       "      <td>-65.611296</td>\n",
       "      <td>-68.743481</td>\n",
       "    </tr>\n",
       "    <tr>\n",
       "      <th>offset</th>\n",
       "      <td>4.095363</td>\n",
       "      <td>2.463956</td>\n",
       "      <td>-0.674879</td>\n",
       "      <td>0.798643</td>\n",
       "      <td>4.622126</td>\n",
       "      <td>1.085921</td>\n",
       "      <td>1.707271</td>\n",
       "      <td>4.925963</td>\n",
       "      <td>-0.171635</td>\n",
       "      <td>-3.703236</td>\n",
       "      <td>...</td>\n",
       "      <td>-2.364054</td>\n",
       "      <td>0.170077</td>\n",
       "      <td>-3.577105</td>\n",
       "      <td>4.490555</td>\n",
       "      <td>5.093659</td>\n",
       "      <td>-3.868086</td>\n",
       "      <td>-1.326554</td>\n",
       "      <td>-2.683319</td>\n",
       "      <td>-13.860382</td>\n",
       "      <td>4.346077</td>\n",
       "    </tr>\n",
       "    <tr>\n",
       "      <th>error</th>\n",
       "      <td>32.298828</td>\n",
       "      <td>5.601513</td>\n",
       "      <td>3.371539</td>\n",
       "      <td>18.888179</td>\n",
       "      <td>22.668155</td>\n",
       "      <td>90.130409</td>\n",
       "      <td>52.949917</td>\n",
       "      <td>42.287646</td>\n",
       "      <td>15.765583</td>\n",
       "      <td>77.804041</td>\n",
       "      <td>...</td>\n",
       "      <td>5.859250</td>\n",
       "      <td>35.274266</td>\n",
       "      <td>18.709830</td>\n",
       "      <td>123.015129</td>\n",
       "      <td>33.668760</td>\n",
       "      <td>35.943083</td>\n",
       "      <td>21.148464</td>\n",
       "      <td>41.060552</td>\n",
       "      <td>43.221788</td>\n",
       "      <td>193.039495</td>\n",
       "    </tr>\n",
       "  </tbody>\n",
       "</table>\n",
       "<p>5 rows × 775 columns</p>\n",
       "</div>"
      ],
      "text/plain": [
       "Country               Afghanistan                                             \\\n",
       "Sector         Grocery & pharmacy      Parks Residential Retail & recreation   \n",
       "parameters                                                                     \n",
       "acuteness               10.000000   0.624789    0.284801            0.319800   \n",
       "transition day          41.857616  40.362680   41.173570           39.386526   \n",
       "intensity              -29.895426 -14.646242  -12.959441          -46.476161   \n",
       "offset                   4.095363   2.463956   -0.674879            0.798643   \n",
       "error                   32.298828   5.601513    3.371539           18.888179   \n",
       "\n",
       "Country                                                Angola             \\\n",
       "Sector         Transit stations  Workplace Grocery & pharmacy      Parks   \n",
       "parameters                                                                 \n",
       "acuteness              0.209542   3.089872          10.000000   0.323832   \n",
       "transition day        38.719832  41.621038          40.946044  37.074623   \n",
       "intensity            -52.000000 -35.980899         -37.516984 -45.320953   \n",
       "offset                 4.622126   1.085921           1.707271   4.925963   \n",
       "error                 22.668155  90.130409          52.949917  42.287646   \n",
       "\n",
       "Country                                         ...      Zambia  \\\n",
       "Sector         Residential Retail & recreation  ... Residential   \n",
       "parameters                                      ...               \n",
       "acuteness         0.420756            3.043538  ...    0.245632   \n",
       "transition day   37.654515           40.501179  ...   41.888258   \n",
       "intensity       -27.296113          -51.716102  ...  -11.148057   \n",
       "offset           -0.171635           -3.703236  ...   -2.364054   \n",
       "error            15.765583           77.804041  ...    5.859250   \n",
       "\n",
       "Country                                                          \\\n",
       "Sector         Retail & recreation Transit stations   Workplace   \n",
       "parameters                                                        \n",
       "acuteness                 0.200000         0.200000    0.200000   \n",
       "transition day           41.499351        41.417020   44.821920   \n",
       "intensity               -22.289023       -21.916520  -27.602718   \n",
       "offset                    0.170077        -3.577105    4.490555   \n",
       "error                    35.274266        18.709830  123.015129   \n",
       "\n",
       "Country                  Zimbabwe                                             \\\n",
       "Sector         Grocery & pharmacy      Parks Residential Retail & recreation   \n",
       "parameters                                                                     \n",
       "acuteness               10.000000   0.468455    0.498078           10.000000   \n",
       "transition day          43.519254  42.017633   41.400674           43.415239   \n",
       "intensity              -60.424010 -46.444337  -40.921894          -63.639418   \n",
       "offset                   5.093659  -3.868086   -1.326554           -2.683319   \n",
       "error                   33.668760  35.943083   21.148464           41.060552   \n",
       "\n",
       "Country                                      \n",
       "Sector         Transit stations   Workplace  \n",
       "parameters                                   \n",
       "acuteness             10.000000    0.599979  \n",
       "transition day        43.584050   42.457331  \n",
       "intensity            -65.611296  -68.743481  \n",
       "offset               -13.860382    4.346077  \n",
       "error                 43.221788  193.039495  \n",
       "\n",
       "[5 rows x 775 columns]"
      ]
     },
     "execution_count": 3,
     "metadata": {},
     "output_type": "execute_result"
    }
   ],
   "source": [
    "url = \"https://raw.githubusercontent.com/sylvainhislaire/projects/master/Google_Mobility_fit_df_param.csv\"\n",
    "df_param = pd.read_csv(url, header = [0,1], index_col = [0])\n",
    "df_param"
   ]
  },
  {
   "cell_type": "code",
   "execution_count": 4,
   "metadata": {},
   "outputs": [
    {
     "data": {
      "text/plain": [
       "['Grocery & pharmacy',\n",
       " 'Parks',\n",
       " 'Residential',\n",
       " 'Retail & recreation',\n",
       " 'Transit stations',\n",
       " 'Workplace']"
      ]
     },
     "execution_count": 4,
     "metadata": {},
     "output_type": "execute_result"
    }
   ],
   "source": [
    "sectors = list(df_param.groupby('Sector',axis=1).min().columns.get_level_values('Sector'))\n",
    "countries = list(df_param.groupby('Country',axis=1).min().columns.get_level_values('Country'))\n",
    "sectors"
   ]
  },
  {
   "cell_type": "markdown",
   "metadata": {},
   "source": [
    "### filling values in the dataset (all countries do not have 6 sectors)"
   ]
  },
  {
   "cell_type": "markdown",
   "metadata": {},
   "source": [
    "#### finding incorrect and missing values"
   ]
  },
  {
   "cell_type": "code",
   "execution_count": 5,
   "metadata": {},
   "outputs": [
    {
     "name": "stdout",
     "output_type": "stream",
     "text": [
      "('Guinea-Bissau', 'Grocery & pharmacy')\n",
      "('Liechtenstein', 'Transit stations')\n"
     ]
    }
   ],
   "source": [
    "# finding Nan values in original dataset\n",
    "for i in df_param:\n",
    "    for j in df_param[i]:\n",
    "        if j != j:\n",
    "            print(i)"
   ]
  },
  {
   "cell_type": "code",
   "execution_count": 6,
   "metadata": {},
   "outputs": [
    {
     "data": {
      "text/html": [
       "<div>\n",
       "<style scoped>\n",
       "    .dataframe tbody tr th:only-of-type {\n",
       "        vertical-align: middle;\n",
       "    }\n",
       "\n",
       "    .dataframe tbody tr th {\n",
       "        vertical-align: top;\n",
       "    }\n",
       "\n",
       "    .dataframe thead th {\n",
       "        text-align: right;\n",
       "    }\n",
       "</style>\n",
       "<table border=\"1\" class=\"dataframe\">\n",
       "  <thead>\n",
       "    <tr style=\"text-align: right;\">\n",
       "      <th>Sector</th>\n",
       "      <th>Grocery &amp; pharmacy</th>\n",
       "      <th>Parks</th>\n",
       "      <th>Retail &amp; recreation</th>\n",
       "      <th>Workplace</th>\n",
       "    </tr>\n",
       "    <tr>\n",
       "      <th>parameters</th>\n",
       "      <th></th>\n",
       "      <th></th>\n",
       "      <th></th>\n",
       "      <th></th>\n",
       "    </tr>\n",
       "  </thead>\n",
       "  <tbody>\n",
       "    <tr>\n",
       "      <th>acuteness</th>\n",
       "      <td>0.200217</td>\n",
       "      <td>0.334193</td>\n",
       "      <td>0.200000</td>\n",
       "      <td>0.424183</td>\n",
       "    </tr>\n",
       "    <tr>\n",
       "      <th>transition day</th>\n",
       "      <td>0.000999</td>\n",
       "      <td>35.155300</td>\n",
       "      <td>31.497936</td>\n",
       "      <td>36.957646</td>\n",
       "    </tr>\n",
       "    <tr>\n",
       "      <th>intensity</th>\n",
       "      <td>-6.248544</td>\n",
       "      <td>-12.945721</td>\n",
       "      <td>-53.433707</td>\n",
       "      <td>-33.054701</td>\n",
       "    </tr>\n",
       "    <tr>\n",
       "      <th>offset</th>\n",
       "      <td>-6.237073</td>\n",
       "      <td>-10.993339</td>\n",
       "      <td>-4.317520</td>\n",
       "      <td>-2.677836</td>\n",
       "    </tr>\n",
       "    <tr>\n",
       "      <th>error</th>\n",
       "      <td>NaN</td>\n",
       "      <td>23.547987</td>\n",
       "      <td>31.617966</td>\n",
       "      <td>88.527928</td>\n",
       "    </tr>\n",
       "  </tbody>\n",
       "</table>\n",
       "</div>"
      ],
      "text/plain": [
       "Sector          Grocery & pharmacy      Parks  Retail & recreation  Workplace\n",
       "parameters                                                                   \n",
       "acuteness                 0.200217   0.334193             0.200000   0.424183\n",
       "transition day            0.000999  35.155300            31.497936  36.957646\n",
       "intensity                -6.248544 -12.945721           -53.433707 -33.054701\n",
       "offset                   -6.237073 -10.993339            -4.317520  -2.677836\n",
       "error                          NaN  23.547987            31.617966  88.527928"
      ]
     },
     "execution_count": 6,
     "metadata": {},
     "output_type": "execute_result"
    }
   ],
   "source": [
    "df_param['Guinea-Bissau']"
   ]
  },
  {
   "cell_type": "markdown",
   "metadata": {},
   "source": [
    "#### here I simply exclude these countries. See below for further analysis"
   ]
  },
  {
   "cell_type": "code",
   "execution_count": 7,
   "metadata": {},
   "outputs": [
    {
     "name": "stdout",
     "output_type": "stream",
     "text": [
      "Guinea-Bissau 4\n",
      "Liechtenstein 4\n",
      "Réunion 5\n"
     ]
    }
   ],
   "source": [
    "# find and delete countries with less than 6 sectors\n",
    "to_be_deleted = []\n",
    "\n",
    "for country in countries:\n",
    "    if len(df[country].columns) < 6:\n",
    "        print(country + ' ' + str(len(df[country].columns)))\n",
    "        to_be_deleted.append(country)\n",
    "        \n",
    "df_param_clean = df_param.drop(to_be_deleted,axis=1)"
   ]
  },
  {
   "cell_type": "code",
   "execution_count": 8,
   "metadata": {},
   "outputs": [],
   "source": [
    "# find and delete NaN values\n",
    "to_be_deleted = []\n",
    "\n",
    "for column in df_param_clean:\n",
    "    for i in df_param_clean[column]:\n",
    "        if i != i:\n",
    "            print(column)\n",
    "            to_be_deleted.append(column[0])\n",
    "            \n",
    "df_param_clean = df_param_clean.drop(to_be_deleted,axis=1)"
   ]
  },
  {
   "cell_type": "markdown",
   "metadata": {},
   "source": [
    "### now back to the pca"
   ]
  },
  {
   "cell_type": "markdown",
   "metadata": {},
   "source": [
    "#### normalising and centering the data"
   ]
  },
  {
   "cell_type": "code",
   "execution_count": 9,
   "metadata": {},
   "outputs": [
    {
     "data": {
      "text/html": [
       "<div>\n",
       "<style scoped>\n",
       "    .dataframe tbody tr th:only-of-type {\n",
       "        vertical-align: middle;\n",
       "    }\n",
       "\n",
       "    .dataframe tbody tr th {\n",
       "        vertical-align: top;\n",
       "    }\n",
       "\n",
       "    .dataframe thead tr th {\n",
       "        text-align: left;\n",
       "    }\n",
       "\n",
       "    .dataframe thead tr:last-of-type th {\n",
       "        text-align: right;\n",
       "    }\n",
       "</style>\n",
       "<table border=\"1\" class=\"dataframe\">\n",
       "  <thead>\n",
       "    <tr>\n",
       "      <th>parameters</th>\n",
       "      <th colspan=\"6\" halign=\"left\">acuteness</th>\n",
       "      <th colspan=\"4\" halign=\"left\">transition day</th>\n",
       "      <th>...</th>\n",
       "      <th colspan=\"4\" halign=\"left\">offset</th>\n",
       "      <th colspan=\"6\" halign=\"left\">error</th>\n",
       "    </tr>\n",
       "    <tr>\n",
       "      <th>Sector</th>\n",
       "      <th>Grocery &amp; pharmacy</th>\n",
       "      <th>Parks</th>\n",
       "      <th>Residential</th>\n",
       "      <th>Retail &amp; recreation</th>\n",
       "      <th>Transit stations</th>\n",
       "      <th>Workplace</th>\n",
       "      <th>Grocery &amp; pharmacy</th>\n",
       "      <th>Parks</th>\n",
       "      <th>Residential</th>\n",
       "      <th>Retail &amp; recreation</th>\n",
       "      <th>...</th>\n",
       "      <th>Residential</th>\n",
       "      <th>Retail &amp; recreation</th>\n",
       "      <th>Transit stations</th>\n",
       "      <th>Workplace</th>\n",
       "      <th>Grocery &amp; pharmacy</th>\n",
       "      <th>Parks</th>\n",
       "      <th>Residential</th>\n",
       "      <th>Retail &amp; recreation</th>\n",
       "      <th>Transit stations</th>\n",
       "      <th>Workplace</th>\n",
       "    </tr>\n",
       "    <tr>\n",
       "      <th>Country</th>\n",
       "      <th></th>\n",
       "      <th></th>\n",
       "      <th></th>\n",
       "      <th></th>\n",
       "      <th></th>\n",
       "      <th></th>\n",
       "      <th></th>\n",
       "      <th></th>\n",
       "      <th></th>\n",
       "      <th></th>\n",
       "      <th></th>\n",
       "      <th></th>\n",
       "      <th></th>\n",
       "      <th></th>\n",
       "      <th></th>\n",
       "      <th></th>\n",
       "      <th></th>\n",
       "      <th></th>\n",
       "      <th></th>\n",
       "      <th></th>\n",
       "      <th></th>\n",
       "    </tr>\n",
       "  </thead>\n",
       "  <tbody>\n",
       "    <tr>\n",
       "      <th>Afghanistan</th>\n",
       "      <td>10.000000</td>\n",
       "      <td>0.624789</td>\n",
       "      <td>0.284801</td>\n",
       "      <td>0.319800</td>\n",
       "      <td>0.209542</td>\n",
       "      <td>3.089872</td>\n",
       "      <td>41.857616</td>\n",
       "      <td>40.362680</td>\n",
       "      <td>41.173570</td>\n",
       "      <td>39.386526</td>\n",
       "      <td>...</td>\n",
       "      <td>-0.674879</td>\n",
       "      <td>0.798643</td>\n",
       "      <td>4.622126</td>\n",
       "      <td>1.085921</td>\n",
       "      <td>32.298828</td>\n",
       "      <td>5.601513</td>\n",
       "      <td>3.371539</td>\n",
       "      <td>18.888179</td>\n",
       "      <td>22.668155</td>\n",
       "      <td>90.130409</td>\n",
       "    </tr>\n",
       "    <tr>\n",
       "      <th>Angola</th>\n",
       "      <td>10.000000</td>\n",
       "      <td>0.323832</td>\n",
       "      <td>0.420756</td>\n",
       "      <td>3.043538</td>\n",
       "      <td>0.319943</td>\n",
       "      <td>0.435809</td>\n",
       "      <td>40.946044</td>\n",
       "      <td>37.074623</td>\n",
       "      <td>37.654515</td>\n",
       "      <td>40.501179</td>\n",
       "      <td>...</td>\n",
       "      <td>-0.171635</td>\n",
       "      <td>-3.703236</td>\n",
       "      <td>-3.360670</td>\n",
       "      <td>0.436508</td>\n",
       "      <td>52.949917</td>\n",
       "      <td>42.287646</td>\n",
       "      <td>15.765583</td>\n",
       "      <td>77.804041</td>\n",
       "      <td>56.460615</td>\n",
       "      <td>276.566362</td>\n",
       "    </tr>\n",
       "    <tr>\n",
       "      <th>Antigua and Barbuda</th>\n",
       "      <td>10.000000</td>\n",
       "      <td>0.200000</td>\n",
       "      <td>0.396819</td>\n",
       "      <td>0.200000</td>\n",
       "      <td>0.206991</td>\n",
       "      <td>0.215458</td>\n",
       "      <td>46.491289</td>\n",
       "      <td>40.372261</td>\n",
       "      <td>31.662594</td>\n",
       "      <td>41.616746</td>\n",
       "      <td>...</td>\n",
       "      <td>-0.739536</td>\n",
       "      <td>-0.178886</td>\n",
       "      <td>0.960789</td>\n",
       "      <td>1.902554</td>\n",
       "      <td>97.143062</td>\n",
       "      <td>72.295354</td>\n",
       "      <td>3.032127</td>\n",
       "      <td>98.093659</td>\n",
       "      <td>56.383513</td>\n",
       "      <td>42.547220</td>\n",
       "    </tr>\n",
       "    <tr>\n",
       "      <th>Argentina</th>\n",
       "      <td>10.000000</td>\n",
       "      <td>0.405857</td>\n",
       "      <td>0.691398</td>\n",
       "      <td>0.538336</td>\n",
       "      <td>0.671672</td>\n",
       "      <td>1.061981</td>\n",
       "      <td>33.795974</td>\n",
       "      <td>29.440728</td>\n",
       "      <td>31.795877</td>\n",
       "      <td>31.163765</td>\n",
       "      <td>...</td>\n",
       "      <td>-0.264951</td>\n",
       "      <td>-0.222552</td>\n",
       "      <td>3.791428</td>\n",
       "      <td>4.291623</td>\n",
       "      <td>87.476638</td>\n",
       "      <td>72.865221</td>\n",
       "      <td>7.860074</td>\n",
       "      <td>38.342451</td>\n",
       "      <td>82.455015</td>\n",
       "      <td>176.300563</td>\n",
       "    </tr>\n",
       "    <tr>\n",
       "      <th>Aruba</th>\n",
       "      <td>0.220844</td>\n",
       "      <td>0.482337</td>\n",
       "      <td>0.444646</td>\n",
       "      <td>0.386600</td>\n",
       "      <td>0.288523</td>\n",
       "      <td>0.347621</td>\n",
       "      <td>38.103240</td>\n",
       "      <td>31.651704</td>\n",
       "      <td>31.068580</td>\n",
       "      <td>30.032808</td>\n",
       "      <td>...</td>\n",
       "      <td>-0.839422</td>\n",
       "      <td>2.327211</td>\n",
       "      <td>6.734491</td>\n",
       "      <td>-3.794693</td>\n",
       "      <td>338.343920</td>\n",
       "      <td>74.935535</td>\n",
       "      <td>16.775494</td>\n",
       "      <td>77.158412</td>\n",
       "      <td>64.544290</td>\n",
       "      <td>145.599528</td>\n",
       "    </tr>\n",
       "    <tr>\n",
       "      <th>...</th>\n",
       "      <td>...</td>\n",
       "      <td>...</td>\n",
       "      <td>...</td>\n",
       "      <td>...</td>\n",
       "      <td>...</td>\n",
       "      <td>...</td>\n",
       "      <td>...</td>\n",
       "      <td>...</td>\n",
       "      <td>...</td>\n",
       "      <td>...</td>\n",
       "      <td>...</td>\n",
       "      <td>...</td>\n",
       "      <td>...</td>\n",
       "      <td>...</td>\n",
       "      <td>...</td>\n",
       "      <td>...</td>\n",
       "      <td>...</td>\n",
       "      <td>...</td>\n",
       "      <td>...</td>\n",
       "      <td>...</td>\n",
       "      <td>...</td>\n",
       "    </tr>\n",
       "    <tr>\n",
       "      <th>Venezuela</th>\n",
       "      <td>1.399607</td>\n",
       "      <td>0.806661</td>\n",
       "      <td>1.493675</td>\n",
       "      <td>1.092437</td>\n",
       "      <td>1.481133</td>\n",
       "      <td>3.644635</td>\n",
       "      <td>31.083857</td>\n",
       "      <td>29.281635</td>\n",
       "      <td>29.833479</td>\n",
       "      <td>29.626160</td>\n",
       "      <td>...</td>\n",
       "      <td>0.008227</td>\n",
       "      <td>4.066943</td>\n",
       "      <td>1.535895</td>\n",
       "      <td>2.994225</td>\n",
       "      <td>40.338675</td>\n",
       "      <td>38.298914</td>\n",
       "      <td>7.181472</td>\n",
       "      <td>38.520068</td>\n",
       "      <td>38.152727</td>\n",
       "      <td>191.334212</td>\n",
       "    </tr>\n",
       "    <tr>\n",
       "      <th>Vietnam</th>\n",
       "      <td>0.340003</td>\n",
       "      <td>0.200000</td>\n",
       "      <td>0.353560</td>\n",
       "      <td>0.249809</td>\n",
       "      <td>0.200000</td>\n",
       "      <td>0.673311</td>\n",
       "      <td>41.101127</td>\n",
       "      <td>38.171971</td>\n",
       "      <td>40.716705</td>\n",
       "      <td>38.917187</td>\n",
       "      <td>...</td>\n",
       "      <td>-5.719351</td>\n",
       "      <td>-9.715687</td>\n",
       "      <td>-11.140773</td>\n",
       "      <td>3.573551</td>\n",
       "      <td>21.388197</td>\n",
       "      <td>19.047994</td>\n",
       "      <td>5.113807</td>\n",
       "      <td>20.720728</td>\n",
       "      <td>20.102159</td>\n",
       "      <td>52.623694</td>\n",
       "    </tr>\n",
       "    <tr>\n",
       "      <th>Yemen</th>\n",
       "      <td>10.000000</td>\n",
       "      <td>0.339830</td>\n",
       "      <td>0.391589</td>\n",
       "      <td>0.226827</td>\n",
       "      <td>0.309555</td>\n",
       "      <td>0.200000</td>\n",
       "      <td>37.523667</td>\n",
       "      <td>33.448287</td>\n",
       "      <td>35.263459</td>\n",
       "      <td>30.594762</td>\n",
       "      <td>...</td>\n",
       "      <td>-1.085641</td>\n",
       "      <td>4.289854</td>\n",
       "      <td>5.084334</td>\n",
       "      <td>6.058160</td>\n",
       "      <td>5.642972</td>\n",
       "      <td>4.860904</td>\n",
       "      <td>0.272064</td>\n",
       "      <td>6.932130</td>\n",
       "      <td>10.175284</td>\n",
       "      <td>16.206841</td>\n",
       "    </tr>\n",
       "    <tr>\n",
       "      <th>Zambia</th>\n",
       "      <td>3.519566</td>\n",
       "      <td>10.000000</td>\n",
       "      <td>0.245632</td>\n",
       "      <td>0.200000</td>\n",
       "      <td>0.200000</td>\n",
       "      <td>0.200000</td>\n",
       "      <td>10.785162</td>\n",
       "      <td>2.071450</td>\n",
       "      <td>41.888258</td>\n",
       "      <td>41.499351</td>\n",
       "      <td>...</td>\n",
       "      <td>-2.364054</td>\n",
       "      <td>0.170077</td>\n",
       "      <td>-3.577105</td>\n",
       "      <td>4.490555</td>\n",
       "      <td>39.581609</td>\n",
       "      <td>26.670385</td>\n",
       "      <td>5.859250</td>\n",
       "      <td>35.274266</td>\n",
       "      <td>18.709830</td>\n",
       "      <td>123.015129</td>\n",
       "    </tr>\n",
       "    <tr>\n",
       "      <th>Zimbabwe</th>\n",
       "      <td>10.000000</td>\n",
       "      <td>0.468455</td>\n",
       "      <td>0.498078</td>\n",
       "      <td>10.000000</td>\n",
       "      <td>10.000000</td>\n",
       "      <td>0.599979</td>\n",
       "      <td>43.519254</td>\n",
       "      <td>42.017633</td>\n",
       "      <td>41.400674</td>\n",
       "      <td>43.415239</td>\n",
       "      <td>...</td>\n",
       "      <td>-1.326554</td>\n",
       "      <td>-2.683319</td>\n",
       "      <td>-13.860382</td>\n",
       "      <td>4.346077</td>\n",
       "      <td>33.668760</td>\n",
       "      <td>35.943083</td>\n",
       "      <td>21.148464</td>\n",
       "      <td>41.060552</td>\n",
       "      <td>43.221788</td>\n",
       "      <td>193.039495</td>\n",
       "    </tr>\n",
       "  </tbody>\n",
       "</table>\n",
       "<p>127 rows × 30 columns</p>\n",
       "</div>"
      ],
      "text/plain": [
       "parameters                   acuteness                         \\\n",
       "Sector              Grocery & pharmacy      Parks Residential   \n",
       "Country                                                         \n",
       "Afghanistan                  10.000000   0.624789    0.284801   \n",
       "Angola                       10.000000   0.323832    0.420756   \n",
       "Antigua and Barbuda          10.000000   0.200000    0.396819   \n",
       "Argentina                    10.000000   0.405857    0.691398   \n",
       "Aruba                         0.220844   0.482337    0.444646   \n",
       "...                                ...        ...         ...   \n",
       "Venezuela                     1.399607   0.806661    1.493675   \n",
       "Vietnam                       0.340003   0.200000    0.353560   \n",
       "Yemen                        10.000000   0.339830    0.391589   \n",
       "Zambia                        3.519566  10.000000    0.245632   \n",
       "Zimbabwe                     10.000000   0.468455    0.498078   \n",
       "\n",
       "parameters                                                          \\\n",
       "Sector              Retail & recreation Transit stations Workplace   \n",
       "Country                                                              \n",
       "Afghanistan                    0.319800         0.209542  3.089872   \n",
       "Angola                         3.043538         0.319943  0.435809   \n",
       "Antigua and Barbuda            0.200000         0.206991  0.215458   \n",
       "Argentina                      0.538336         0.671672  1.061981   \n",
       "Aruba                          0.386600         0.288523  0.347621   \n",
       "...                                 ...              ...       ...   \n",
       "Venezuela                      1.092437         1.481133  3.644635   \n",
       "Vietnam                        0.249809         0.200000  0.673311   \n",
       "Yemen                          0.226827         0.309555  0.200000   \n",
       "Zambia                         0.200000         0.200000  0.200000   \n",
       "Zimbabwe                      10.000000        10.000000  0.599979   \n",
       "\n",
       "parameters              transition day                         \\\n",
       "Sector              Grocery & pharmacy      Parks Residential   \n",
       "Country                                                         \n",
       "Afghanistan                  41.857616  40.362680   41.173570   \n",
       "Angola                       40.946044  37.074623   37.654515   \n",
       "Antigua and Barbuda          46.491289  40.372261   31.662594   \n",
       "Argentina                    33.795974  29.440728   31.795877   \n",
       "Aruba                        38.103240  31.651704   31.068580   \n",
       "...                                ...        ...         ...   \n",
       "Venezuela                    31.083857  29.281635   29.833479   \n",
       "Vietnam                      41.101127  38.171971   40.716705   \n",
       "Yemen                        37.523667  33.448287   35.263459   \n",
       "Zambia                       10.785162   2.071450   41.888258   \n",
       "Zimbabwe                     43.519254  42.017633   41.400674   \n",
       "\n",
       "parameters                               ...      offset                      \\\n",
       "Sector              Retail & recreation  ... Residential Retail & recreation   \n",
       "Country                                  ...                                   \n",
       "Afghanistan                   39.386526  ...   -0.674879            0.798643   \n",
       "Angola                        40.501179  ...   -0.171635           -3.703236   \n",
       "Antigua and Barbuda           41.616746  ...   -0.739536           -0.178886   \n",
       "Argentina                     31.163765  ...   -0.264951           -0.222552   \n",
       "Aruba                         30.032808  ...   -0.839422            2.327211   \n",
       "...                                 ...  ...         ...                 ...   \n",
       "Venezuela                     29.626160  ...    0.008227            4.066943   \n",
       "Vietnam                       38.917187  ...   -5.719351           -9.715687   \n",
       "Yemen                         30.594762  ...   -1.085641            4.289854   \n",
       "Zambia                        41.499351  ...   -2.364054            0.170077   \n",
       "Zimbabwe                      43.415239  ...   -1.326554           -2.683319   \n",
       "\n",
       "parameters                                                  error             \\\n",
       "Sector              Transit stations Workplace Grocery & pharmacy      Parks   \n",
       "Country                                                                        \n",
       "Afghanistan                 4.622126  1.085921          32.298828   5.601513   \n",
       "Angola                     -3.360670  0.436508          52.949917  42.287646   \n",
       "Antigua and Barbuda         0.960789  1.902554          97.143062  72.295354   \n",
       "Argentina                   3.791428  4.291623          87.476638  72.865221   \n",
       "Aruba                       6.734491 -3.794693         338.343920  74.935535   \n",
       "...                              ...       ...                ...        ...   \n",
       "Venezuela                   1.535895  2.994225          40.338675  38.298914   \n",
       "Vietnam                   -11.140773  3.573551          21.388197  19.047994   \n",
       "Yemen                       5.084334  6.058160           5.642972   4.860904   \n",
       "Zambia                     -3.577105  4.490555          39.581609  26.670385   \n",
       "Zimbabwe                  -13.860382  4.346077          33.668760  35.943083   \n",
       "\n",
       "parameters                                                            \\\n",
       "Sector              Residential Retail & recreation Transit stations   \n",
       "Country                                                                \n",
       "Afghanistan            3.371539           18.888179        22.668155   \n",
       "Angola                15.765583           77.804041        56.460615   \n",
       "Antigua and Barbuda    3.032127           98.093659        56.383513   \n",
       "Argentina              7.860074           38.342451        82.455015   \n",
       "Aruba                 16.775494           77.158412        64.544290   \n",
       "...                         ...                 ...              ...   \n",
       "Venezuela              7.181472           38.520068        38.152727   \n",
       "Vietnam                5.113807           20.720728        20.102159   \n",
       "Yemen                  0.272064            6.932130        10.175284   \n",
       "Zambia                 5.859250           35.274266        18.709830   \n",
       "Zimbabwe              21.148464           41.060552        43.221788   \n",
       "\n",
       "parameters                       \n",
       "Sector                Workplace  \n",
       "Country                          \n",
       "Afghanistan           90.130409  \n",
       "Angola               276.566362  \n",
       "Antigua and Barbuda   42.547220  \n",
       "Argentina            176.300563  \n",
       "Aruba                145.599528  \n",
       "...                         ...  \n",
       "Venezuela            191.334212  \n",
       "Vietnam               52.623694  \n",
       "Yemen                 16.206841  \n",
       "Zambia               123.015129  \n",
       "Zimbabwe             193.039495  \n",
       "\n",
       "[127 rows x 30 columns]"
      ]
     },
     "execution_count": 9,
     "metadata": {},
     "output_type": "execute_result"
    }
   ],
   "source": [
    "X = df_param_clean.transpose().reset_index('Sector').pivot(columns='Sector')\n",
    "X"
   ]
  },
  {
   "cell_type": "code",
   "execution_count": 10,
   "metadata": {},
   "outputs": [
    {
     "data": {
      "text/html": [
       "<div>\n",
       "<style scoped>\n",
       "    .dataframe tbody tr th:only-of-type {\n",
       "        vertical-align: middle;\n",
       "    }\n",
       "\n",
       "    .dataframe tbody tr th {\n",
       "        vertical-align: top;\n",
       "    }\n",
       "\n",
       "    .dataframe thead tr th {\n",
       "        text-align: left;\n",
       "    }\n",
       "\n",
       "    .dataframe thead tr:last-of-type th {\n",
       "        text-align: right;\n",
       "    }\n",
       "</style>\n",
       "<table border=\"1\" class=\"dataframe\">\n",
       "  <thead>\n",
       "    <tr>\n",
       "      <th>parameters</th>\n",
       "      <th colspan=\"6\" halign=\"left\">acuteness</th>\n",
       "      <th colspan=\"4\" halign=\"left\">transition day</th>\n",
       "      <th>...</th>\n",
       "      <th colspan=\"4\" halign=\"left\">offset</th>\n",
       "      <th colspan=\"6\" halign=\"left\">error</th>\n",
       "    </tr>\n",
       "    <tr>\n",
       "      <th>Sector</th>\n",
       "      <th>Grocery &amp; pharmacy</th>\n",
       "      <th>Parks</th>\n",
       "      <th>Residential</th>\n",
       "      <th>Retail &amp; recreation</th>\n",
       "      <th>Transit stations</th>\n",
       "      <th>Workplace</th>\n",
       "      <th>Grocery &amp; pharmacy</th>\n",
       "      <th>Parks</th>\n",
       "      <th>Residential</th>\n",
       "      <th>Retail &amp; recreation</th>\n",
       "      <th>...</th>\n",
       "      <th>Residential</th>\n",
       "      <th>Retail &amp; recreation</th>\n",
       "      <th>Transit stations</th>\n",
       "      <th>Workplace</th>\n",
       "      <th>Grocery &amp; pharmacy</th>\n",
       "      <th>Parks</th>\n",
       "      <th>Residential</th>\n",
       "      <th>Retail &amp; recreation</th>\n",
       "      <th>Transit stations</th>\n",
       "      <th>Workplace</th>\n",
       "    </tr>\n",
       "    <tr>\n",
       "      <th>Country</th>\n",
       "      <th></th>\n",
       "      <th></th>\n",
       "      <th></th>\n",
       "      <th></th>\n",
       "      <th></th>\n",
       "      <th></th>\n",
       "      <th></th>\n",
       "      <th></th>\n",
       "      <th></th>\n",
       "      <th></th>\n",
       "      <th></th>\n",
       "      <th></th>\n",
       "      <th></th>\n",
       "      <th></th>\n",
       "      <th></th>\n",
       "      <th></th>\n",
       "      <th></th>\n",
       "      <th></th>\n",
       "      <th></th>\n",
       "      <th></th>\n",
       "      <th></th>\n",
       "    </tr>\n",
       "  </thead>\n",
       "  <tbody>\n",
       "    <tr>\n",
       "      <th>Afghanistan</th>\n",
       "      <td>1.471320</td>\n",
       "      <td>-0.529871</td>\n",
       "      <td>-0.348075</td>\n",
       "      <td>-0.414294</td>\n",
       "      <td>-0.380735</td>\n",
       "      <td>0.720427</td>\n",
       "      <td>0.968013</td>\n",
       "      <td>0.913007</td>\n",
       "      <td>1.126154</td>\n",
       "      <td>1.144614</td>\n",
       "      <td>...</td>\n",
       "      <td>-0.067831</td>\n",
       "      <td>0.134484</td>\n",
       "      <td>0.780057</td>\n",
       "      <td>-0.217625</td>\n",
       "      <td>-0.597677</td>\n",
       "      <td>-0.700515</td>\n",
       "      <td>-0.872795</td>\n",
       "      <td>-0.653770</td>\n",
       "      <td>-0.276319</td>\n",
       "      <td>0.084028</td>\n",
       "    </tr>\n",
       "    <tr>\n",
       "      <th>Angola</th>\n",
       "      <td>1.471320</td>\n",
       "      <td>-0.608337</td>\n",
       "      <td>-0.269746</td>\n",
       "      <td>0.877405</td>\n",
       "      <td>-0.317284</td>\n",
       "      <td>-0.394730</td>\n",
       "      <td>0.866947</td>\n",
       "      <td>0.599842</td>\n",
       "      <td>0.688596</td>\n",
       "      <td>1.332796</td>\n",
       "      <td>...</td>\n",
       "      <td>0.180604</td>\n",
       "      <td>-0.974634</td>\n",
       "      <td>-0.440358</td>\n",
       "      <td>-0.310526</td>\n",
       "      <td>-0.387219</td>\n",
       "      <td>-0.525865</td>\n",
       "      <td>0.671957</td>\n",
       "      <td>1.167240</td>\n",
       "      <td>0.324160</td>\n",
       "      <td>3.220828</td>\n",
       "    </tr>\n",
       "    <tr>\n",
       "      <th>Antigua and Barbuda</th>\n",
       "      <td>1.471320</td>\n",
       "      <td>-0.640622</td>\n",
       "      <td>-0.283538</td>\n",
       "      <td>-0.471107</td>\n",
       "      <td>-0.382201</td>\n",
       "      <td>-0.487315</td>\n",
       "      <td>1.481747</td>\n",
       "      <td>0.913920</td>\n",
       "      <td>-0.056437</td>\n",
       "      <td>1.521133</td>\n",
       "      <td>...</td>\n",
       "      <td>-0.099750</td>\n",
       "      <td>-0.106347</td>\n",
       "      <td>0.220310</td>\n",
       "      <td>-0.100801</td>\n",
       "      <td>0.063159</td>\n",
       "      <td>-0.383009</td>\n",
       "      <td>-0.915098</td>\n",
       "      <td>1.794364</td>\n",
       "      <td>0.322790</td>\n",
       "      <td>-0.716563</td>\n",
       "    </tr>\n",
       "    <tr>\n",
       "      <th>Argentina</th>\n",
       "      <td>1.471320</td>\n",
       "      <td>-0.586951</td>\n",
       "      <td>-0.113818</td>\n",
       "      <td>-0.310655</td>\n",
       "      <td>-0.115136</td>\n",
       "      <td>-0.131632</td>\n",
       "      <td>0.074221</td>\n",
       "      <td>-0.127234</td>\n",
       "      <td>-0.039864</td>\n",
       "      <td>-0.243602</td>\n",
       "      <td>...</td>\n",
       "      <td>0.134537</td>\n",
       "      <td>-0.117105</td>\n",
       "      <td>0.653059</td>\n",
       "      <td>0.240967</td>\n",
       "      <td>-0.035353</td>\n",
       "      <td>-0.380296</td>\n",
       "      <td>-0.313359</td>\n",
       "      <td>-0.052465</td>\n",
       "      <td>0.786071</td>\n",
       "      <td>1.533848</td>\n",
       "    </tr>\n",
       "    <tr>\n",
       "      <th>Aruba</th>\n",
       "      <td>-0.860074</td>\n",
       "      <td>-0.567011</td>\n",
       "      <td>-0.255982</td>\n",
       "      <td>-0.382615</td>\n",
       "      <td>-0.335342</td>\n",
       "      <td>-0.431784</td>\n",
       "      <td>0.551766</td>\n",
       "      <td>0.083346</td>\n",
       "      <td>-0.130296</td>\n",
       "      <td>-0.434537</td>\n",
       "      <td>...</td>\n",
       "      <td>-0.149060</td>\n",
       "      <td>0.511074</td>\n",
       "      <td>1.102997</td>\n",
       "      <td>-0.915820</td>\n",
       "      <td>2.521271</td>\n",
       "      <td>-0.370440</td>\n",
       "      <td>0.797829</td>\n",
       "      <td>1.147284</td>\n",
       "      <td>0.467804</td>\n",
       "      <td>1.017301</td>\n",
       "    </tr>\n",
       "    <tr>\n",
       "      <th>...</th>\n",
       "      <td>...</td>\n",
       "      <td>...</td>\n",
       "      <td>...</td>\n",
       "      <td>...</td>\n",
       "      <td>...</td>\n",
       "      <td>...</td>\n",
       "      <td>...</td>\n",
       "      <td>...</td>\n",
       "      <td>...</td>\n",
       "      <td>...</td>\n",
       "      <td>...</td>\n",
       "      <td>...</td>\n",
       "      <td>...</td>\n",
       "      <td>...</td>\n",
       "      <td>...</td>\n",
       "      <td>...</td>\n",
       "      <td>...</td>\n",
       "      <td>...</td>\n",
       "      <td>...</td>\n",
       "      <td>...</td>\n",
       "      <td>...</td>\n",
       "    </tr>\n",
       "    <tr>\n",
       "      <th>Venezuela</th>\n",
       "      <td>-0.579051</td>\n",
       "      <td>-0.482453</td>\n",
       "      <td>0.348406</td>\n",
       "      <td>-0.047880</td>\n",
       "      <td>0.350084</td>\n",
       "      <td>0.953521</td>\n",
       "      <td>-0.226471</td>\n",
       "      <td>-0.142387</td>\n",
       "      <td>-0.283868</td>\n",
       "      <td>-0.503190</td>\n",
       "      <td>...</td>\n",
       "      <td>0.269395</td>\n",
       "      <td>0.939689</td>\n",
       "      <td>0.308232</td>\n",
       "      <td>0.055368</td>\n",
       "      <td>-0.515742</td>\n",
       "      <td>-0.544854</td>\n",
       "      <td>-0.397938</td>\n",
       "      <td>-0.046975</td>\n",
       "      <td>-0.001164</td>\n",
       "      <td>1.786790</td>\n",
       "    </tr>\n",
       "    <tr>\n",
       "      <th>Vietnam</th>\n",
       "      <td>-0.831666</td>\n",
       "      <td>-0.640622</td>\n",
       "      <td>-0.308461</td>\n",
       "      <td>-0.447486</td>\n",
       "      <td>-0.386219</td>\n",
       "      <td>-0.294939</td>\n",
       "      <td>0.884141</td>\n",
       "      <td>0.704357</td>\n",
       "      <td>1.069347</td>\n",
       "      <td>1.065377</td>\n",
       "      <td>...</td>\n",
       "      <td>-2.558112</td>\n",
       "      <td>-2.455909</td>\n",
       "      <td>-1.629784</td>\n",
       "      <td>0.138243</td>\n",
       "      <td>-0.708869</td>\n",
       "      <td>-0.636501</td>\n",
       "      <td>-0.655645</td>\n",
       "      <td>-0.597128</td>\n",
       "      <td>-0.321916</td>\n",
       "      <td>-0.547025</td>\n",
       "    </tr>\n",
       "    <tr>\n",
       "      <th>Yemen</th>\n",
       "      <td>1.471320</td>\n",
       "      <td>-0.604166</td>\n",
       "      <td>-0.286551</td>\n",
       "      <td>-0.458385</td>\n",
       "      <td>-0.323255</td>\n",
       "      <td>-0.493810</td>\n",
       "      <td>0.487509</td>\n",
       "      <td>0.254458</td>\n",
       "      <td>0.391293</td>\n",
       "      <td>-0.339665</td>\n",
       "      <td>...</td>\n",
       "      <td>-0.270610</td>\n",
       "      <td>0.994607</td>\n",
       "      <td>0.850720</td>\n",
       "      <td>0.493679</td>\n",
       "      <td>-0.869331</td>\n",
       "      <td>-0.704041</td>\n",
       "      <td>-1.259103</td>\n",
       "      <td>-1.023315</td>\n",
       "      <td>-0.498312</td>\n",
       "      <td>-1.159741</td>\n",
       "    </tr>\n",
       "    <tr>\n",
       "      <th>Zambia</th>\n",
       "      <td>-0.073644</td>\n",
       "      <td>1.914447</td>\n",
       "      <td>-0.370643</td>\n",
       "      <td>-0.471107</td>\n",
       "      <td>-0.386219</td>\n",
       "      <td>-0.493810</td>\n",
       "      <td>-2.476983</td>\n",
       "      <td>-2.733972</td>\n",
       "      <td>1.215018</td>\n",
       "      <td>1.501313</td>\n",
       "      <td>...</td>\n",
       "      <td>-0.901718</td>\n",
       "      <td>-0.020374</td>\n",
       "      <td>-0.473446</td>\n",
       "      <td>0.269425</td>\n",
       "      <td>-0.523458</td>\n",
       "      <td>-0.600214</td>\n",
       "      <td>-0.562735</td>\n",
       "      <td>-0.147298</td>\n",
       "      <td>-0.346657</td>\n",
       "      <td>0.637316</td>\n",
       "    </tr>\n",
       "    <tr>\n",
       "      <th>Zimbabwe</th>\n",
       "      <td>1.471320</td>\n",
       "      <td>-0.570630</td>\n",
       "      <td>-0.225198</td>\n",
       "      <td>4.176421</td>\n",
       "      <td>5.246115</td>\n",
       "      <td>-0.325751</td>\n",
       "      <td>1.152239</td>\n",
       "      <td>1.070630</td>\n",
       "      <td>1.154392</td>\n",
       "      <td>1.824765</td>\n",
       "      <td>...</td>\n",
       "      <td>-0.389540</td>\n",
       "      <td>-0.723359</td>\n",
       "      <td>-2.045560</td>\n",
       "      <td>0.248757</td>\n",
       "      <td>-0.583716</td>\n",
       "      <td>-0.556070</td>\n",
       "      <td>1.342861</td>\n",
       "      <td>0.031548</td>\n",
       "      <td>0.088911</td>\n",
       "      <td>1.815482</td>\n",
       "    </tr>\n",
       "  </tbody>\n",
       "</table>\n",
       "<p>127 rows × 30 columns</p>\n",
       "</div>"
      ],
      "text/plain": [
       "parameters                   acuteness                        \\\n",
       "Sector              Grocery & pharmacy     Parks Residential   \n",
       "Country                                                        \n",
       "Afghanistan                   1.471320 -0.529871   -0.348075   \n",
       "Angola                        1.471320 -0.608337   -0.269746   \n",
       "Antigua and Barbuda           1.471320 -0.640622   -0.283538   \n",
       "Argentina                     1.471320 -0.586951   -0.113818   \n",
       "Aruba                        -0.860074 -0.567011   -0.255982   \n",
       "...                                ...       ...         ...   \n",
       "Venezuela                    -0.579051 -0.482453    0.348406   \n",
       "Vietnam                      -0.831666 -0.640622   -0.308461   \n",
       "Yemen                         1.471320 -0.604166   -0.286551   \n",
       "Zambia                       -0.073644  1.914447   -0.370643   \n",
       "Zimbabwe                      1.471320 -0.570630   -0.225198   \n",
       "\n",
       "parameters                                                          \\\n",
       "Sector              Retail & recreation Transit stations Workplace   \n",
       "Country                                                              \n",
       "Afghanistan                   -0.414294        -0.380735  0.720427   \n",
       "Angola                         0.877405        -0.317284 -0.394730   \n",
       "Antigua and Barbuda           -0.471107        -0.382201 -0.487315   \n",
       "Argentina                     -0.310655        -0.115136 -0.131632   \n",
       "Aruba                         -0.382615        -0.335342 -0.431784   \n",
       "...                                 ...              ...       ...   \n",
       "Venezuela                     -0.047880         0.350084  0.953521   \n",
       "Vietnam                       -0.447486        -0.386219 -0.294939   \n",
       "Yemen                         -0.458385        -0.323255 -0.493810   \n",
       "Zambia                        -0.471107        -0.386219 -0.493810   \n",
       "Zimbabwe                       4.176421         5.246115 -0.325751   \n",
       "\n",
       "parameters              transition day                        \\\n",
       "Sector              Grocery & pharmacy     Parks Residential   \n",
       "Country                                                        \n",
       "Afghanistan                   0.968013  0.913007    1.126154   \n",
       "Angola                        0.866947  0.599842    0.688596   \n",
       "Antigua and Barbuda           1.481747  0.913920   -0.056437   \n",
       "Argentina                     0.074221 -0.127234   -0.039864   \n",
       "Aruba                         0.551766  0.083346   -0.130296   \n",
       "...                                ...       ...         ...   \n",
       "Venezuela                    -0.226471 -0.142387   -0.283868   \n",
       "Vietnam                       0.884141  0.704357    1.069347   \n",
       "Yemen                         0.487509  0.254458    0.391293   \n",
       "Zambia                       -2.476983 -2.733972    1.215018   \n",
       "Zimbabwe                      1.152239  1.070630    1.154392   \n",
       "\n",
       "parameters                               ...      offset                      \\\n",
       "Sector              Retail & recreation  ... Residential Retail & recreation   \n",
       "Country                                  ...                                   \n",
       "Afghanistan                    1.144614  ...   -0.067831            0.134484   \n",
       "Angola                         1.332796  ...    0.180604           -0.974634   \n",
       "Antigua and Barbuda            1.521133  ...   -0.099750           -0.106347   \n",
       "Argentina                     -0.243602  ...    0.134537           -0.117105   \n",
       "Aruba                         -0.434537  ...   -0.149060            0.511074   \n",
       "...                                 ...  ...         ...                 ...   \n",
       "Venezuela                     -0.503190  ...    0.269395            0.939689   \n",
       "Vietnam                        1.065377  ...   -2.558112           -2.455909   \n",
       "Yemen                         -0.339665  ...   -0.270610            0.994607   \n",
       "Zambia                         1.501313  ...   -0.901718           -0.020374   \n",
       "Zimbabwe                       1.824765  ...   -0.389540           -0.723359   \n",
       "\n",
       "parameters                                                  error            \\\n",
       "Sector              Transit stations Workplace Grocery & pharmacy     Parks   \n",
       "Country                                                                       \n",
       "Afghanistan                 0.780057 -0.217625          -0.597677 -0.700515   \n",
       "Angola                     -0.440358 -0.310526          -0.387219 -0.525865   \n",
       "Antigua and Barbuda         0.220310 -0.100801           0.063159 -0.383009   \n",
       "Argentina                   0.653059  0.240967          -0.035353 -0.380296   \n",
       "Aruba                       1.102997 -0.915820           2.521271 -0.370440   \n",
       "...                              ...       ...                ...       ...   \n",
       "Venezuela                   0.308232  0.055368          -0.515742 -0.544854   \n",
       "Vietnam                    -1.629784  0.138243          -0.708869 -0.636501   \n",
       "Yemen                       0.850720  0.493679          -0.869331 -0.704041   \n",
       "Zambia                     -0.473446  0.269425          -0.523458 -0.600214   \n",
       "Zimbabwe                   -2.045560  0.248757          -0.583716 -0.556070   \n",
       "\n",
       "parameters                                                                      \n",
       "Sector              Residential Retail & recreation Transit stations Workplace  \n",
       "Country                                                                         \n",
       "Afghanistan           -0.872795           -0.653770        -0.276319  0.084028  \n",
       "Angola                 0.671957            1.167240         0.324160  3.220828  \n",
       "Antigua and Barbuda   -0.915098            1.794364         0.322790 -0.716563  \n",
       "Argentina             -0.313359           -0.052465         0.786071  1.533848  \n",
       "Aruba                  0.797829            1.147284         0.467804  1.017301  \n",
       "...                         ...                 ...              ...       ...  \n",
       "Venezuela             -0.397938           -0.046975        -0.001164  1.786790  \n",
       "Vietnam               -0.655645           -0.597128        -0.321916 -0.547025  \n",
       "Yemen                 -1.259103           -1.023315        -0.498312 -1.159741  \n",
       "Zambia                -0.562735           -0.147298        -0.346657  0.637316  \n",
       "Zimbabwe               1.342861            0.031548         0.088911  1.815482  \n",
       "\n",
       "[127 rows x 30 columns]"
      ]
     },
     "execution_count": 10,
     "metadata": {},
     "output_type": "execute_result"
    }
   ],
   "source": [
    "for i in X:\n",
    "    X[i] = (X[i] - np.mean(X[i])) / np.std(X[i])\n",
    "X"
   ]
  },
  {
   "cell_type": "code",
   "execution_count": 11,
   "metadata": {},
   "outputs": [
    {
     "name": "stdout",
     "output_type": "stream",
     "text": [
      "number of componants: 8\n",
      "explained variance per component: [0.22310365 0.15943661 0.10239884 0.0815621  0.06545651 0.04490163\n",
      " 0.04286793 0.03866482]\n",
      "total explained variance: 0.7583921018274334\n"
     ]
    },
    {
     "data": {
      "text/plain": [
       "Text(0.5, 1.0, 'Cumulative proportion of variance explained')"
      ]
     },
     "execution_count": 11,
     "metadata": {},
     "output_type": "execute_result"
    },
    {
     "data": {
      "image/png": "[encoded data removed]",
      "text/plain": [
       "<Figure size 936x288 with 2 Axes>"
      ]
     },
     "metadata": {
      "needs_background": "light"
     },
     "output_type": "display_data"
    }
   ],
   "source": [
    "pca = decomposition.PCA(n_components=0.75)\n",
    "pca.fit(X)\n",
    "Xpca = pca.transform(X)\n",
    "print('number of componants: ' + str(pca.n_components_))\n",
    "print('explained variance per component: ' + str(pca.explained_variance_ratio_))\n",
    "print('total explained variance: ' + str(sum(pca.explained_variance_ratio_)))\n",
    "\n",
    "plt.figure(figsize = (13,4))\n",
    "plt.subplot(1,2, 1)\n",
    "plt.bar(range(1,pca.n_components_+1),pca.explained_variance_ratio_)\n",
    "plt.title('Proportion of variance explained')\n",
    "\n",
    "plt.subplot(1,2, 2)\n",
    "data = []\n",
    "for i in range(1,pca.n_components_+1):\n",
    "    data.append(sum(pca.explained_variance_ratio_[0:i]))\n",
    "plt.bar(range(1,pca.n_components_+1),data)\n",
    "plt.title('Cumulative proportion of variance explained')"
   ]
  },
  {
   "cell_type": "code",
   "execution_count": 12,
   "metadata": {},
   "outputs": [
    {
     "data": {
      "application/vnd.plotly.v1+json": {
       "config": {
        "plotlyServerURL": "https://plot.ly"
       },
       "data": [
        {
         "hovertemplate": "1st=%{x}<br>2nd=%{y}<br>3rd=%{z}<br>4th=%{marker.color}<extra></extra>",
         "legendgroup": "",
         "marker": {
          "color": [
           0.5627566709505264,
           -0.4003052822818442,
           -0.21744595391173743,
           0.39714143901992505,
           -0.8538485189412705,
           1.0687839903813217,
           -1.8211982031724392,
           -0.06982167663518672,
           0.9217937289518129,
           -0.05884405227094184,
           -2.2320607262168837,
           -1.5612110812725142,
           0.033308336426052666,
           0.04440510276933801,
           -0.04912137915288443,
           0.553352260678756,
           -0.13874682602550376,
           0.14346579207183044,
           -0.9847590166802686,
           0.8664538519672096,
           0.17797598137920098,
           0.5683305320634435,
           -0.0943426615488666,
           0.0764957323647095,
           0.8527024348394312,
           1.239809884463132,
           0.7690227437396648,
           -0.4003220898942523,
           -1.6908141613861314,
           0.8035097744133332,
           -1.8178088432371853,
           0.21752669956314488,
           -0.10445203610689724,
           -0.050920486190241684,
           0.8325177988292161,
           -2.508359280332742,
           0.42130122482700605,
           -1.991993178594065,
           -0.33816988958220157,
           -1.1642396520793261,
           0.7226169633498458,
           -1.9935788810269686,
           -0.23709904093077405,
           -1.585729488090259,
           0.9535295469644659,
           -1.0866598132005574,
           1.1296438532959707,
           -5.699540038066011,
           -0.8184975858302995,
           0.17430431737372348,
           0.8206251201015662,
           1.3826131352849858,
           -1.9319163991840664,
           -2.089516675462745,
           -0.5319004139417449,
           -0.6944437847432468,
           -4.420242354145889,
           -2.154333187583667,
           1.448807836126026,
           1.0799693627405422,
           -0.09629280056184694,
           1.819897884335945,
           0.564610255789795,
           -1.4855853345845624,
           0.40374305387801596,
           0.9477557018564651,
           -1.6993566420979398,
           -1.1003463960346158,
           1.1912892747791644,
           0.15538966101046459,
           0.422649266515641,
           -0.02008679945520276,
           0.8889923383453553,
           0.9644039614748279,
           1.4290453562932195,
           3.0422756507938513,
           -0.23405053989517693,
           1.3999334150007243,
           -0.7101842552864738,
           0.9687904559080501,
           0.7107346912519998,
           1.185821298032411,
           0.5480047888086472,
           0.19805291539712805,
           -3.2841329337694893,
           0.8276993648828556,
           1.8772762457011185,
           -0.4638086651142046,
           4.425753339331205,
           0.8802943760078105,
           0.912299090657513,
           0.672394873941011,
           0.07738552849125074,
           -0.13843242404687015,
           0.465555273446344,
           0.5260460630399751,
           1.1688537967489294,
           0.7495957380276614,
           0.18690659278878488,
           0.6312157478537156,
           -2.451867847148915,
           -2.3597522287524777,
           -0.74752452323755,
           -0.7405154913815845,
           4.10434706271564,
           0.6287501243754069,
           0.49234903007748043,
           -0.6836840151945617,
           -3.435486448062598,
           2.783397622552822,
           6.704785880210075,
           0.12472656738238762,
           0.169832709240329,
           -1.2305303327283037,
           -1.002639595075171,
           -1.9845654161745476,
           0.48117452916795667,
           1.1573581606248236,
           0.16109548613245367,
           -0.2824211503590054,
           -1.081966902456972,
           0.6951727157649911,
           1.4578487024935294,
           -0.7721232784229827,
           1.4100701415139123,
           -2.514913665949011,
           1.4361714959318035
          ],
          "coloraxis": "coloraxis",
          "symbol": "circle"
         },
         "mode": "markers",
         "name": "",
         "scene": "scene",
         "showlegend": false,
         "type": "scatter3d",
         "x": [
          -0.28266848981001624,
          -0.6859526319355959,
          -2.971453380679351,
          -1.4977078273658135,
          -2.078415927896792,
          -1.3012328463658294,
          0.6357683468248885,
          1.7967754223748749,
          -2.4079475406747255,
          -4.643667262362914,
          2.0961208184267632,
          0.2945767635294709,
          -3.755298495971663,
          2.243639043156072,
          -2.60812608630142,
          -0.47076746116834955,
          -2.1856457886666463,
          0.27859309533382204,
          1.1295329104209548,
          0.7078225233910965,
          1.2202946820225684,
          1.4115480960026376,
          -0.6844535632520103,
          -1.912581133605059,
          -1.1126136727955642,
          -2.505512698704663,
          -1.1821767516964259,
          -1.1814711686388777,
          1.573485756547581,
          0.2293552667290502,
          3.4449891441440266,
          -1.619833372207616,
          -1.1477662454325708,
          -0.26618894457516773,
          -2.1926577945827073,
          2.9390202342020393,
          -1.8466728297224348,
          2.2568100721723647,
          -0.9911582679183395,
          0.7288798838816603,
          -1.0225447557199403,
          1.5780549940288517,
          -1.2572204568350391,
          -0.25725657511251376,
          -0.7140705272517485,
          3.1855062321310443,
          -0.8771994915439011,
          9.340216181007117,
          -0.37209875608033705,
          -1.576083720140577,
          0.35046853760408747,
          -0.8696188099303721,
          1.359939360181475,
          -0.6965555785544036,
          -1.0545051025384549,
          -0.30032158633167794,
          3.0789167365609584,
          -0.5592356258744895,
          -1.6037924079194874,
          -0.7594210220111927,
          -0.3068343856133379,
          -2.9636659188347423,
          -1.6631290692174399,
          2.4200794869559408,
          -0.34921540821434216,
          -0.2413091143445799,
          2.5381182683470076,
          -0.9912505947970048,
          -0.8147076250783758,
          1.6731909646994736,
          -1.2270958757674468,
          -0.908341055689369,
          -0.847755061765227,
          -0.4467654492295541,
          10.673088175243892,
          2.1487681234724563,
          -3.5636571469648497,
          -2.1568725434242912,
          1.7719663061610254,
          -3.0948430570934877,
          0.8217374405148314,
          0.5645084197455551,
          -1.893923662049328,
          -0.7762172004640356,
          3.2092681959199867,
          -0.7839598093345671,
          -0.6446237109952769,
          -2.8737500718289293,
          5.346402062522179,
          -1.14935425263704,
          -1.5091104283185102,
          -1.6847077648282798,
          0.08231533751532691,
          -1.7715426070133367,
          -1.20230761999756,
          -0.18877493316135968,
          -1.3036375622020293,
          -1.9827298602397498,
          -1.266161995266008,
          0.5373158718251735,
          -0.8058964149189805,
          0.3132788007732681,
          -0.3203477936344063,
          -1.7318699706603173,
          11.629526737402527,
          -2.167846491229759,
          -2.227812439986132,
          2.7463963625658967,
          1.3225220887569997,
          7.815673004852242,
          7.3250568649515415,
          0.09144223963771109,
          0.1431185320843803,
          -3.0373522526077,
          1.7224684346033974,
          -2.51467847124646,
          -1.604218383700714,
          -2.7784119260277915,
          -1.921405199470627,
          -1.607764901829869,
          0.7936463912760822,
          0.189029123691239,
          -0.17951867887230977,
          0.35150914129587213,
          2.821538465325898,
          3.180668405318875,
          -1.1576860394023725
         ],
         "y": [
          -2.2216890681339656,
          -0.4978874630970571,
          -0.23966729546532517,
          1.0739726810412058,
          2.152297819804297,
          1.7119985323247517,
          2.7426099625727907,
          -3.003937480900538,
          -0.7899227594213849,
          0.23307887913022524,
          -0.6242617320049275,
          1.5411765690734607,
          0.7737314980683683,
          -3.618978373794283,
          0.602048613023743,
          0.3919093824700366,
          -1.2837318925064896,
          -0.025673832200181407,
          2.10509073864917,
          -2.2870499631798316,
          -2.981159579184289,
          -3.170299525021136,
          0.7101590423658509,
          -1.8643576719643422,
          0.036668291034839026,
          0.5566830671839557,
          0.6280598768824951,
          1.2509501106980672,
          1.978062024935142,
          -2.4396260843089332,
          1.7223216290539431,
          -0.22394561637126661,
          1.2533302131821353,
          1.3034194776263368,
          -0.06052174789437043,
          1.3893067242305286,
          -1.8476741890350716,
          0.0013530534852968443,
          1.5740080209156866,
          -1.6987382840066492,
          0.2402568470571906,
          0.9695510763165948,
          -2.325195803508277,
          3.481278716076315,
          0.25132034221907296,
          -2.1657432365140594,
          0.9191002529575137,
          -4.510684539584138,
          2.9083432271703207,
          -0.5022908339870606,
          -2.0784922304333944,
          1.0335351853623242,
          0.3569304690195762,
          3.547866327754578,
          2.149284107678147,
          0.6992172422703209,
          -4.9243149202168395,
          2.363400966320579,
          0.009451659283457994,
          -1.7825945697676098,
          0.02926986241876673,
          0.3470087181368748,
          -2.722196056315464,
          0.5155193587184926,
          0.7107362745358239,
          -0.5834867966640841,
          2.0866209081480616,
          1.539992493209345,
          -0.4944316164583582,
          -3.353714501075873,
          2.4330889230332033,
          1.9763437310181329,
          0.9527027027032811,
          0.42409114988993807,
          7.856698549939397,
          -1.8466806274064482,
          -2.686882459105778,
          -0.41000669032785864,
          -0.07030837319581928,
          0.4098386162460732,
          -1.6294041757482975,
          -2.9887169817996435,
          -2.49558054226945,
          2.227167785595523,
          3.2968732644646175,
          -1.9002368832739354,
          -0.5976446527795869,
          1.9013366822377882,
          0.5160072124224274,
          0.10647830142802298,
          1.1501258753890744,
          0.1367086562063751,
          2.2888472556354755,
          2.5623937338093303,
          1.2165846361420534,
          -0.6271333487512181,
          0.8824680352715023,
          -0.5256560181929455,
          -1.083796650102723,
          -2.7236891975260384,
          -5.595558783482288,
          4.6157333947370365,
          2.4896484591097976,
          0.5167512239023345,
          3.459285215642546,
          2.2085677194538627,
          2.0823855637276063,
          -0.9535024793178574,
          1.8936513828232582,
          -0.3745894346592621,
          0.8130603067866589,
          -4.771349410514236,
          -3.036636905112007,
          2.9424445455777297,
          -3.483487380534755,
          3.864890861805698,
          1.2812490932830096,
          -2.037394435954493,
          -1.089697504420886,
          -0.3193064200444153,
          0.32915656424638007,
          -0.5241552239036535,
          1.043825509379945,
          -4.814108716393573,
          -2.352224685231202,
          -4.397158940134297,
          -0.11215061111588925
         ],
         "z": [
          -0.6059659132643481,
          2.2024675661376407,
          1.4111994794932254,
          1.3153970487284683,
          0.23366807083993194,
          -1.8627509931953043,
          0.5839434988962852,
          -0.07528427563078559,
          -0.5138334118508934,
          0.6800790013177103,
          -3.5687279189033516,
          0.36147809731083635,
          -0.3150546847700906,
          -2.191749809632862,
          2.909670877240624,
          -1.444217189179172,
          4.971922464439602,
          0.29060624571665816,
          -0.906359401662574,
          -1.4449633495203726,
          -0.40338274907817895,
          -1.7761832309595438,
          -1.1619047705691798,
          0.7948995936514028,
          -0.586426540955645,
          1.2316275493137034,
          0.20580320091248694,
          -0.9868038113474653,
          -1.8413743668915177,
          -1.9831659332735248,
          -0.9669079757879949,
          1.2676120211689794,
          2.8107076908949717,
          -0.8177995204869423,
          0.3310998097365106,
          -1.5687078662797327,
          -0.15595532717061047,
          -1.6190408812814032,
          1.368272556657205,
          0.13173019701090122,
          -1.4777616933801234,
          -0.44951910346957075,
          1.2339412784123331,
          -0.8633770287669874,
          0.21101395847906848,
          1.8473110734338691,
          1.6096816295613712,
          4.768676597291863,
          -1.709146880120207,
          1.5707724771064158,
          -1.1856273321987125,
          -1.8707917555787161,
          -0.5339848294575266,
          -1.0936385579193084,
          0.3802004180991997,
          0.02937485671739473,
          0.23383786459245207,
          3.3258697111426305,
          -1.6127068375418576,
          -1.6795015607442094,
          -0.12340996334121743,
          -1.1670662356107255,
          -0.11410080615020488,
          -2.2662165647134986,
          -0.9289428607210721,
          -1.9776448562139959,
          -0.5395316901210325,
          0.687305867449005,
          2.035624996079996,
          -2.0322821268643754,
          -2.5245212493789158,
          4.751966902459161,
          -1.2713719450416079,
          -1.2563336468563577,
          3.2634046045694585,
          -0.8937870316435806,
          0.6467342271602882,
          0.9860357723357268,
          -1.1258543024914385,
          1.6770458992458697,
          -0.9480606393849618,
          -2.150819753292711,
          -0.10207515016632385,
          -1.4727161456767104,
          0.14668336217938244,
          -0.27670319722789877,
          -0.4025456796324023,
          1.1837054311684925,
          1.314462798762778,
          0.41391256054487546,
          1.5536974408992477,
          0.8815631215994724,
          -0.42582945211701567,
          -0.7283495650452616,
          0.3766936405227124,
          -1.2344702873231108,
          -1.6492131759670376,
          -0.09749707361960833,
          0.33600694571498646,
          -0.5719378460030066,
          5.8467076851652555,
          -1.622762139388156,
          -0.32820994469011405,
          3.6976069539783594,
          2.948706435442906,
          -0.026536147152444414,
          1.5089502463530113,
          -1.9407702063704095,
          -2.033357537798715,
          -0.5297234818328664,
          1.1370580204542517,
          -1.3539214003899294,
          -0.2131052632102999,
          0.3907199242815549,
          0.02291360328715318,
          -0.6349897812211428,
          -1.6562843639013407,
          0.31828992046207305,
          0.12641501979741582,
          -0.16790707935543703,
          -3.1480540229676466,
          0.11231256619033092,
          -0.16323972674899834,
          1.9042781624155087,
          -2.71052516516886,
          -0.648937928815612,
          6.150553991661743
         ]
        }
       ],
       "layout": {
        "coloraxis": {
         "colorbar": {
          "title": {
           "text": "4th"
          }
         },
         "colorscale": [
          [
           0,
           "#0d0887"
          ],
          [
           0.1111111111111111,
           "#46039f"
          ],
          [
           0.2222222222222222,
           "#7201a8"
          ],
          [
           0.3333333333333333,
           "#9c179e"
          ],
          [
           0.4444444444444444,
           "#bd3786"
          ],
          [
           0.5555555555555556,
           "#d8576b"
          ],
          [
           0.6666666666666666,
           "#ed7953"
          ],
          [
           0.7777777777777778,
           "#fb9f3a"
          ],
          [
           0.8888888888888888,
           "#fdca26"
          ],
          [
           1,
           "#f0f921"
          ]
         ]
        },
        "legend": {
         "tracegroupgap": 0
        },
        "margin": {
         "t": 60
        },
        "scene": {
         "domain": {
          "x": [
           0,
           1
          ],
          "y": [
           0,
           1
          ]
         },
         "xaxis": {
          "title": {
           "text": "1st"
          }
         },
         "yaxis": {
          "title": {
           "text": "2nd"
          }
         },
         "zaxis": {
          "title": {
           "text": "3rd"
          }
         }
        },
        "template": {
         "data": {
          "bar": [
           {
            "error_x": {
             "color": "#2a3f5f"
            },
            "error_y": {
             "color": "#2a3f5f"
            },
            "marker": {
             "line": {
              "color": "#E5ECF6",
              "width": 0.5
             }
            },
            "type": "bar"
           }
          ],
          "barpolar": [
           {
            "marker": {
             "line": {
              "color": "#E5ECF6",
              "width": 0.5
             }
            },
            "type": "barpolar"
           }
          ],
          "carpet": [
           {
            "aaxis": {
             "endlinecolor": "#2a3f5f",
             "gridcolor": "white",
             "linecolor": "white",
             "minorgridcolor": "white",
             "startlinecolor": "#2a3f5f"
            },
            "baxis": {
             "endlinecolor": "#2a3f5f",
             "gridcolor": "white",
             "linecolor": "white",
             "minorgridcolor": "white",
             "startlinecolor": "#2a3f5f"
            },
            "type": "carpet"
           }
          ],
          "choropleth": [
           {
            "colorbar": {
             "outlinewidth": 0,
             "ticks": ""
            },
            "type": "choropleth"
           }
          ],
          "contour": [
           {
            "colorbar": {
             "outlinewidth": 0,
             "ticks": ""
            },
            "colorscale": [
             [
              0,
              "#0d0887"
             ],
             [
              0.1111111111111111,
              "#46039f"
             ],
             [
              0.2222222222222222,
              "#7201a8"
             ],
             [
              0.3333333333333333,
              "#9c179e"
             ],
             [
              0.4444444444444444,
              "#bd3786"
             ],
             [
              0.5555555555555556,
              "#d8576b"
             ],
             [
              0.6666666666666666,
              "#ed7953"
             ],
             [
              0.7777777777777778,
              "#fb9f3a"
             ],
             [
              0.8888888888888888,
              "#fdca26"
             ],
             [
              1,
              "#f0f921"
             ]
            ],
            "type": "contour"
           }
          ],
          "contourcarpet": [
           {
            "colorbar": {
             "outlinewidth": 0,
             "ticks": ""
            },
            "type": "contourcarpet"
           }
          ],
          "heatmap": [
           {
            "colorbar": {
             "outlinewidth": 0,
             "ticks": ""
            },
            "colorscale": [
             [
              0,
              "#0d0887"
             ],
             [
              0.1111111111111111,
              "#46039f"
             ],
             [
              0.2222222222222222,
              "#7201a8"
             ],
             [
              0.3333333333333333,
              "#9c179e"
             ],
             [
              0.4444444444444444,
              "#bd3786"
             ],
             [
              0.5555555555555556,
              "#d8576b"
             ],
             [
              0.6666666666666666,
              "#ed7953"
             ],
             [
              0.7777777777777778,
              "#fb9f3a"
             ],
             [
              0.8888888888888888,
              "#fdca26"
             ],
             [
              1,
              "#f0f921"
             ]
            ],
            "type": "heatmap"
           }
          ],
          "heatmapgl": [
           {
            "colorbar": {
             "outlinewidth": 0,
             "ticks": ""
            },
            "colorscale": [
             [
              0,
              "#0d0887"
             ],
             [
              0.1111111111111111,
              "#46039f"
             ],
             [
              0.2222222222222222,
              "#7201a8"
             ],
             [
              0.3333333333333333,
              "#9c179e"
             ],
             [
              0.4444444444444444,
              "#bd3786"
             ],
             [
              0.5555555555555556,
              "#d8576b"
             ],
             [
              0.6666666666666666,
              "#ed7953"
             ],
             [
              0.7777777777777778,
              "#fb9f3a"
             ],
             [
              0.8888888888888888,
              "#fdca26"
             ],
             [
              1,
              "#f0f921"
             ]
            ],
            "type": "heatmapgl"
           }
          ],
          "histogram": [
           {
            "marker": {
             "colorbar": {
              "outlinewidth": 0,
              "ticks": ""
             }
            },
            "type": "histogram"
           }
          ],
          "histogram2d": [
           {
            "colorbar": {
             "outlinewidth": 0,
             "ticks": ""
            },
            "colorscale": [
             [
              0,
              "#0d0887"
             ],
             [
              0.1111111111111111,
              "#46039f"
             ],
             [
              0.2222222222222222,
              "#7201a8"
             ],
             [
              0.3333333333333333,
              "#9c179e"
             ],
             [
              0.4444444444444444,
              "#bd3786"
             ],
             [
              0.5555555555555556,
              "#d8576b"
             ],
             [
              0.6666666666666666,
              "#ed7953"
             ],
             [
              0.7777777777777778,
              "#fb9f3a"
             ],
             [
              0.8888888888888888,
              "#fdca26"
             ],
             [
              1,
              "#f0f921"
             ]
            ],
            "type": "histogram2d"
           }
          ],
          "histogram2dcontour": [
           {
            "colorbar": {
             "outlinewidth": 0,
             "ticks": ""
            },
            "colorscale": [
             [
              0,
              "#0d0887"
             ],
             [
              0.1111111111111111,
              "#46039f"
             ],
             [
              0.2222222222222222,
              "#7201a8"
             ],
             [
              0.3333333333333333,
              "#9c179e"
             ],
             [
              0.4444444444444444,
              "#bd3786"
             ],
             [
              0.5555555555555556,
              "#d8576b"
             ],
             [
              0.6666666666666666,
              "#ed7953"
             ],
             [
              0.7777777777777778,
              "#fb9f3a"
             ],
             [
              0.8888888888888888,
              "#fdca26"
             ],
             [
              1,
              "#f0f921"
             ]
            ],
            "type": "histogram2dcontour"
           }
          ],
          "mesh3d": [
           {
            "colorbar": {
             "outlinewidth": 0,
             "ticks": ""
            },
            "type": "mesh3d"
           }
          ],
          "parcoords": [
           {
            "line": {
             "colorbar": {
              "outlinewidth": 0,
              "ticks": ""
             }
            },
            "type": "parcoords"
           }
          ],
          "pie": [
           {
            "automargin": true,
            "type": "pie"
           }
          ],
          "scatter": [
           {
            "marker": {
             "colorbar": {
              "outlinewidth": 0,
              "ticks": ""
             }
            },
            "type": "scatter"
           }
          ],
          "scatter3d": [
           {
            "line": {
             "colorbar": {
              "outlinewidth": 0,
              "ticks": ""
             }
            },
            "marker": {
             "colorbar": {
              "outlinewidth": 0,
              "ticks": ""
             }
            },
            "type": "scatter3d"
           }
          ],
          "scattercarpet": [
           {
            "marker": {
             "colorbar": {
              "outlinewidth": 0,
              "ticks": ""
             }
            },
            "type": "scattercarpet"
           }
          ],
          "scattergeo": [
           {
            "marker": {
             "colorbar": {
              "outlinewidth": 0,
              "ticks": ""
             }
            },
            "type": "scattergeo"
           }
          ],
          "scattergl": [
           {
            "marker": {
             "colorbar": {
              "outlinewidth": 0,
              "ticks": ""
             }
            },
            "type": "scattergl"
           }
          ],
          "scattermapbox": [
           {
            "marker": {
             "colorbar": {
              "outlinewidth": 0,
              "ticks": ""
             }
            },
            "type": "scattermapbox"
           }
          ],
          "scatterpolar": [
           {
            "marker": {
             "colorbar": {
              "outlinewidth": 0,
              "ticks": ""
             }
            },
            "type": "scatterpolar"
           }
          ],
          "scatterpolargl": [
           {
            "marker": {
             "colorbar": {
              "outlinewidth": 0,
              "ticks": ""
             }
            },
            "type": "scatterpolargl"
           }
          ],
          "scatterternary": [
           {
            "marker": {
             "colorbar": {
              "outlinewidth": 0,
              "ticks": ""
             }
            },
            "type": "scatterternary"
           }
          ],
          "surface": [
           {
            "colorbar": {
             "outlinewidth": 0,
             "ticks": ""
            },
            "colorscale": [
             [
              0,
              "#0d0887"
             ],
             [
              0.1111111111111111,
              "#46039f"
             ],
             [
              0.2222222222222222,
              "#7201a8"
             ],
             [
              0.3333333333333333,
              "#9c179e"
             ],
             [
              0.4444444444444444,
              "#bd3786"
             ],
             [
              0.5555555555555556,
              "#d8576b"
             ],
             [
              0.6666666666666666,
              "#ed7953"
             ],
             [
              0.7777777777777778,
              "#fb9f3a"
             ],
             [
              0.8888888888888888,
              "#fdca26"
             ],
             [
              1,
              "#f0f921"
             ]
            ],
            "type": "surface"
           }
          ],
          "table": [
           {
            "cells": {
             "fill": {
              "color": "#EBF0F8"
             },
             "line": {
              "color": "white"
             }
            },
            "header": {
             "fill": {
              "color": "#C8D4E3"
             },
             "line": {
              "color": "white"
             }
            },
            "type": "table"
           }
          ]
         },
         "layout": {
          "annotationdefaults": {
           "arrowcolor": "#2a3f5f",
           "arrowhead": 0,
           "arrowwidth": 1
          },
          "coloraxis": {
           "colorbar": {
            "outlinewidth": 0,
            "ticks": ""
           }
          },
          "colorscale": {
           "diverging": [
            [
             0,
             "#8e0152"
            ],
            [
             0.1,
             "#c51b7d"
            ],
            [
             0.2,
             "#de77ae"
            ],
            [
             0.3,
             "#f1b6da"
            ],
            [
             0.4,
             "#fde0ef"
            ],
            [
             0.5,
             "#f7f7f7"
            ],
            [
             0.6,
             "#e6f5d0"
            ],
            [
             0.7,
             "#b8e186"
            ],
            [
             0.8,
             "#7fbc41"
            ],
            [
             0.9,
             "#4d9221"
            ],
            [
             1,
             "#276419"
            ]
           ],
           "sequential": [
            [
             0,
             "#0d0887"
            ],
            [
             0.1111111111111111,
             "#46039f"
            ],
            [
             0.2222222222222222,
             "#7201a8"
            ],
            [
             0.3333333333333333,
             "#9c179e"
            ],
            [
             0.4444444444444444,
             "#bd3786"
            ],
            [
             0.5555555555555556,
             "#d8576b"
            ],
            [
             0.6666666666666666,
             "#ed7953"
            ],
            [
             0.7777777777777778,
             "#fb9f3a"
            ],
            [
             0.8888888888888888,
             "#fdca26"
            ],
            [
             1,
             "#f0f921"
            ]
           ],
           "sequentialminus": [
            [
             0,
             "#0d0887"
            ],
            [
             0.1111111111111111,
             "#46039f"
            ],
            [
             0.2222222222222222,
             "#7201a8"
            ],
            [
             0.3333333333333333,
             "#9c179e"
            ],
            [
             0.4444444444444444,
             "#bd3786"
            ],
            [
             0.5555555555555556,
             "#d8576b"
            ],
            [
             0.6666666666666666,
             "#ed7953"
            ],
            [
             0.7777777777777778,
             "#fb9f3a"
            ],
            [
             0.8888888888888888,
             "#fdca26"
            ],
            [
             1,
             "#f0f921"
            ]
           ]
          },
          "colorway": [
           "#636efa",
           "#EF553B",
           "#00cc96",
           "#ab63fa",
           "#FFA15A",
           "#19d3f3",
           "#FF6692",
           "#B6E880",
           "#FF97FF",
           "#FECB52"
          ],
          "font": {
           "color": "#2a3f5f"
          },
          "geo": {
           "bgcolor": "white",
           "lakecolor": "white",
           "landcolor": "#E5ECF6",
           "showlakes": true,
           "showland": true,
           "subunitcolor": "white"
          },
          "hoverlabel": {
           "align": "left"
          },
          "hovermode": "closest",
          "mapbox": {
           "style": "light"
          },
          "paper_bgcolor": "white",
          "plot_bgcolor": "#E5ECF6",
          "polar": {
           "angularaxis": {
            "gridcolor": "white",
            "linecolor": "white",
            "ticks": ""
           },
           "bgcolor": "#E5ECF6",
           "radialaxis": {
            "gridcolor": "white",
            "linecolor": "white",
            "ticks": ""
           }
          },
          "scene": {
           "xaxis": {
            "backgroundcolor": "#E5ECF6",
            "gridcolor": "white",
            "gridwidth": 2,
            "linecolor": "white",
            "showbackground": true,
            "ticks": "",
            "zerolinecolor": "white"
           },
           "yaxis": {
            "backgroundcolor": "#E5ECF6",
            "gridcolor": "white",
            "gridwidth": 2,
            "linecolor": "white",
            "showbackground": true,
            "ticks": "",
            "zerolinecolor": "white"
           },
           "zaxis": {
            "backgroundcolor": "#E5ECF6",
            "gridcolor": "white",
            "gridwidth": 2,
            "linecolor": "white",
            "showbackground": true,
            "ticks": "",
            "zerolinecolor": "white"
           }
          },
          "shapedefaults": {
           "line": {
            "color": "#2a3f5f"
           }
          },
          "ternary": {
           "aaxis": {
            "gridcolor": "white",
            "linecolor": "white",
            "ticks": ""
           },
           "baxis": {
            "gridcolor": "white",
            "linecolor": "white",
            "ticks": ""
           },
           "bgcolor": "#E5ECF6",
           "caxis": {
            "gridcolor": "white",
            "linecolor": "white",
            "ticks": ""
           }
          },
          "title": {
           "x": 0.05
          },
          "xaxis": {
           "automargin": true,
           "gridcolor": "white",
           "linecolor": "white",
           "ticks": "",
           "title": {
            "standoff": 15
           },
           "zerolinecolor": "white",
           "zerolinewidth": 2
          },
          "yaxis": {
           "automargin": true,
           "gridcolor": "white",
           "linecolor": "white",
           "ticks": "",
           "title": {
            "standoff": 15
           },
           "zerolinecolor": "white",
           "zerolinewidth": 2
          }
         }
        }
       }
      },
      "text/html": [
       "<div>\n",
       "        \n",
       "        \n",
       "            <div id=\"89020ea8-1e6d-4ca9-81ed-edd17b41a796\" class=\"plotly-graph-div\" style=\"height:525px; width:100%;\"></div>\n",
       "            <script type=\"text/javascript\">\n",
       "                require([\"plotly\"], function(Plotly) {\n",
       "                    window.PLOTLYENV=window.PLOTLYENV || {};\n",
       "                    \n",
       "                if (document.getElementById(\"89020ea8-1e6d-4ca9-81ed-edd17b41a796\")) {\n",
       "                    Plotly.newPlot(\n",
       "                        '89020ea8-1e6d-4ca9-81ed-edd17b41a796',\n",
       "                        [{\"hovertemplate\": \"1st=%{x}<br>2nd=%{y}<br>3rd=%{z}<br>4th=%{marker.color}<extra></extra>\", \"legendgroup\": \"\", \"marker\": {\"color\": [0.5627566709505264, -0.4003052822818442, -0.21744595391173743, 0.39714143901992505, -0.8538485189412705, 1.0687839903813217, -1.8211982031724392, -0.06982167663518672, 0.9217937289518129, -0.05884405227094184, -2.2320607262168837, -1.5612110812725142, 0.033308336426052666, 0.04440510276933801, -0.04912137915288443, 0.553352260678756, -0.13874682602550376, 0.14346579207183044, -0.9847590166802686, 0.8664538519672096, 0.17797598137920098, 0.5683305320634435, -0.0943426615488666, 0.0764957323647095, 0.8527024348394312, 1.239809884463132, 0.7690227437396648, -0.4003220898942523, -1.6908141613861314, 0.8035097744133332, -1.8178088432371853, 0.21752669956314488, -0.10445203610689724, -0.050920486190241684, 0.8325177988292161, -2.508359280332742, 0.42130122482700605, -1.991993178594065, -0.33816988958220157, -1.1642396520793261, 0.7226169633498458, -1.9935788810269686, -0.23709904093077405, -1.585729488090259, 0.9535295469644659, -1.0866598132005574, 1.1296438532959707, -5.699540038066011, -0.8184975858302995, 0.17430431737372348, 0.8206251201015662, 1.3826131352849858, -1.9319163991840664, -2.089516675462745, -0.5319004139417449, -0.6944437847432468, -4.420242354145889, -2.154333187583667, 1.448807836126026, 1.0799693627405422, -0.09629280056184694, 1.819897884335945, 0.564610255789795, -1.4855853345845624, 0.40374305387801596, 0.9477557018564651, -1.6993566420979398, -1.1003463960346158, 1.1912892747791644, 0.15538966101046459, 0.422649266515641, -0.02008679945520276, 0.8889923383453553, 0.9644039614748279, 1.4290453562932195, 3.0422756507938513, -0.23405053989517693, 1.3999334150007243, -0.7101842552864738, 0.9687904559080501, 0.7107346912519998, 1.185821298032411, 0.5480047888086472, 0.19805291539712805, -3.2841329337694893, 0.8276993648828556, 1.8772762457011185, -0.4638086651142046, 4.425753339331205, 0.8802943760078105, 0.912299090657513, 0.672394873941011, 0.07738552849125074, -0.13843242404687015, 0.465555273446344, 0.5260460630399751, 1.1688537967489294, 0.7495957380276614, 0.18690659278878488, 0.6312157478537156, -2.451867847148915, -2.3597522287524777, -0.74752452323755, -0.7405154913815845, 4.10434706271564, 0.6287501243754069, 0.49234903007748043, -0.6836840151945617, -3.435486448062598, 2.783397622552822, 6.704785880210075, 0.12472656738238762, 0.169832709240329, -1.2305303327283037, -1.002639595075171, -1.9845654161745476, 0.48117452916795667, 1.1573581606248236, 0.16109548613245367, -0.2824211503590054, -1.081966902456972, 0.6951727157649911, 1.4578487024935294, -0.7721232784229827, 1.4100701415139123, -2.514913665949011, 1.4361714959318035], \"coloraxis\": \"coloraxis\", \"symbol\": \"circle\"}, \"mode\": \"markers\", \"name\": \"\", \"scene\": \"scene\", \"showlegend\": false, \"type\": \"scatter3d\", \"x\": [-0.28266848981001624, -0.6859526319355959, -2.971453380679351, -1.4977078273658135, -2.078415927896792, -1.3012328463658294, 0.6357683468248885, 1.7967754223748749, -2.4079475406747255, -4.643667262362914, 2.0961208184267632, 0.2945767635294709, -3.755298495971663, 2.243639043156072, -2.60812608630142, -0.47076746116834955, -2.1856457886666463, 0.27859309533382204, 1.1295329104209548, 0.7078225233910965, 1.2202946820225684, 1.4115480960026376, -0.6844535632520103, -1.912581133605059, -1.1126136727955642, -2.505512698704663, -1.1821767516964259, -1.1814711686388777, 1.573485756547581, 0.2293552667290502, 3.4449891441440266, -1.619833372207616, -1.1477662454325708, -0.26618894457516773, -2.1926577945827073, 2.9390202342020393, -1.8466728297224348, 2.2568100721723647, -0.9911582679183395, 0.7288798838816603, -1.0225447557199403, 1.5780549940288517, -1.2572204568350391, -0.25725657511251376, -0.7140705272517485, 3.1855062321310443, -0.8771994915439011, 9.340216181007117, -0.37209875608033705, -1.576083720140577, 0.35046853760408747, -0.8696188099303721, 1.359939360181475, -0.6965555785544036, -1.0545051025384549, -0.30032158633167794, 3.0789167365609584, -0.5592356258744895, -1.6037924079194874, -0.7594210220111927, -0.3068343856133379, -2.9636659188347423, -1.6631290692174399, 2.4200794869559408, -0.34921540821434216, -0.2413091143445799, 2.5381182683470076, -0.9912505947970048, -0.8147076250783758, 1.6731909646994736, -1.2270958757674468, -0.908341055689369, -0.847755061765227, -0.4467654492295541, 10.673088175243892, 2.1487681234724563, -3.5636571469648497, -2.1568725434242912, 1.7719663061610254, -3.0948430570934877, 0.8217374405148314, 0.5645084197455551, -1.893923662049328, -0.7762172004640356, 3.2092681959199867, -0.7839598093345671, -0.6446237109952769, -2.8737500718289293, 5.346402062522179, -1.14935425263704, -1.5091104283185102, -1.6847077648282798, 0.08231533751532691, -1.7715426070133367, -1.20230761999756, -0.18877493316135968, -1.3036375622020293, -1.9827298602397498, -1.266161995266008, 0.5373158718251735, -0.8058964149189805, 0.3132788007732681, -0.3203477936344063, -1.7318699706603173, 11.629526737402527, -2.167846491229759, -2.227812439986132, 2.7463963625658967, 1.3225220887569997, 7.815673004852242, 7.3250568649515415, 0.09144223963771109, 0.1431185320843803, -3.0373522526077, 1.7224684346033974, -2.51467847124646, -1.604218383700714, -2.7784119260277915, -1.921405199470627, -1.607764901829869, 0.7936463912760822, 0.189029123691239, -0.17951867887230977, 0.35150914129587213, 2.821538465325898, 3.180668405318875, -1.1576860394023725], \"y\": [-2.2216890681339656, -0.4978874630970571, -0.23966729546532517, 1.0739726810412058, 2.152297819804297, 1.7119985323247517, 2.7426099625727907, -3.003937480900538, -0.7899227594213849, 0.23307887913022524, -0.6242617320049275, 1.5411765690734607, 0.7737314980683683, -3.618978373794283, 0.602048613023743, 0.3919093824700366, -1.2837318925064896, -0.025673832200181407, 2.10509073864917, -2.2870499631798316, -2.981159579184289, -3.170299525021136, 0.7101590423658509, -1.8643576719643422, 0.036668291034839026, 0.5566830671839557, 0.6280598768824951, 1.2509501106980672, 1.978062024935142, -2.4396260843089332, 1.7223216290539431, -0.22394561637126661, 1.2533302131821353, 1.3034194776263368, -0.06052174789437043, 1.3893067242305286, -1.8476741890350716, 0.0013530534852968443, 1.5740080209156866, -1.6987382840066492, 0.2402568470571906, 0.9695510763165948, -2.325195803508277, 3.481278716076315, 0.25132034221907296, -2.1657432365140594, 0.9191002529575137, -4.510684539584138, 2.9083432271703207, -0.5022908339870606, -2.0784922304333944, 1.0335351853623242, 0.3569304690195762, 3.547866327754578, 2.149284107678147, 0.6992172422703209, -4.9243149202168395, 2.363400966320579, 0.009451659283457994, -1.7825945697676098, 0.02926986241876673, 0.3470087181368748, -2.722196056315464, 0.5155193587184926, 0.7107362745358239, -0.5834867966640841, 2.0866209081480616, 1.539992493209345, -0.4944316164583582, -3.353714501075873, 2.4330889230332033, 1.9763437310181329, 0.9527027027032811, 0.42409114988993807, 7.856698549939397, -1.8466806274064482, -2.686882459105778, -0.41000669032785864, -0.07030837319581928, 0.4098386162460732, -1.6294041757482975, -2.9887169817996435, -2.49558054226945, 2.227167785595523, 3.2968732644646175, -1.9002368832739354, -0.5976446527795869, 1.9013366822377882, 0.5160072124224274, 0.10647830142802298, 1.1501258753890744, 0.1367086562063751, 2.2888472556354755, 2.5623937338093303, 1.2165846361420534, -0.6271333487512181, 0.8824680352715023, -0.5256560181929455, -1.083796650102723, -2.7236891975260384, -5.595558783482288, 4.6157333947370365, 2.4896484591097976, 0.5167512239023345, 3.459285215642546, 2.2085677194538627, 2.0823855637276063, -0.9535024793178574, 1.8936513828232582, -0.3745894346592621, 0.8130603067866589, -4.771349410514236, -3.036636905112007, 2.9424445455777297, -3.483487380534755, 3.864890861805698, 1.2812490932830096, -2.037394435954493, -1.089697504420886, -0.3193064200444153, 0.32915656424638007, -0.5241552239036535, 1.043825509379945, -4.814108716393573, -2.352224685231202, -4.397158940134297, -0.11215061111588925], \"z\": [-0.6059659132643481, 2.2024675661376407, 1.4111994794932254, 1.3153970487284683, 0.23366807083993194, -1.8627509931953043, 0.5839434988962852, -0.07528427563078559, -0.5138334118508934, 0.6800790013177103, -3.5687279189033516, 0.36147809731083635, -0.3150546847700906, -2.191749809632862, 2.909670877240624, -1.444217189179172, 4.971922464439602, 0.29060624571665816, -0.906359401662574, -1.4449633495203726, -0.40338274907817895, -1.7761832309595438, -1.1619047705691798, 0.7948995936514028, -0.586426540955645, 1.2316275493137034, 0.20580320091248694, -0.9868038113474653, -1.8413743668915177, -1.9831659332735248, -0.9669079757879949, 1.2676120211689794, 2.8107076908949717, -0.8177995204869423, 0.3310998097365106, -1.5687078662797327, -0.15595532717061047, -1.6190408812814032, 1.368272556657205, 0.13173019701090122, -1.4777616933801234, -0.44951910346957075, 1.2339412784123331, -0.8633770287669874, 0.21101395847906848, 1.8473110734338691, 1.6096816295613712, 4.768676597291863, -1.709146880120207, 1.5707724771064158, -1.1856273321987125, -1.8707917555787161, -0.5339848294575266, -1.0936385579193084, 0.3802004180991997, 0.02937485671739473, 0.23383786459245207, 3.3258697111426305, -1.6127068375418576, -1.6795015607442094, -0.12340996334121743, -1.1670662356107255, -0.11410080615020488, -2.2662165647134986, -0.9289428607210721, -1.9776448562139959, -0.5395316901210325, 0.687305867449005, 2.035624996079996, -2.0322821268643754, -2.5245212493789158, 4.751966902459161, -1.2713719450416079, -1.2563336468563577, 3.2634046045694585, -0.8937870316435806, 0.6467342271602882, 0.9860357723357268, -1.1258543024914385, 1.6770458992458697, -0.9480606393849618, -2.150819753292711, -0.10207515016632385, -1.4727161456767104, 0.14668336217938244, -0.27670319722789877, -0.4025456796324023, 1.1837054311684925, 1.314462798762778, 0.41391256054487546, 1.5536974408992477, 0.8815631215994724, -0.42582945211701567, -0.7283495650452616, 0.3766936405227124, -1.2344702873231108, -1.6492131759670376, -0.09749707361960833, 0.33600694571498646, -0.5719378460030066, 5.8467076851652555, -1.622762139388156, -0.32820994469011405, 3.6976069539783594, 2.948706435442906, -0.026536147152444414, 1.5089502463530113, -1.9407702063704095, -2.033357537798715, -0.5297234818328664, 1.1370580204542517, -1.3539214003899294, -0.2131052632102999, 0.3907199242815549, 0.02291360328715318, -0.6349897812211428, -1.6562843639013407, 0.31828992046207305, 0.12641501979741582, -0.16790707935543703, -3.1480540229676466, 0.11231256619033092, -0.16323972674899834, 1.9042781624155087, -2.71052516516886, -0.648937928815612, 6.150553991661743]}],\n",
       "                        {\"coloraxis\": {\"colorbar\": {\"title\": {\"text\": \"4th\"}}, \"colorscale\": [[0.0, \"#0d0887\"], [0.1111111111111111, \"#46039f\"], [0.2222222222222222, \"#7201a8\"], [0.3333333333333333, \"#9c179e\"], [0.4444444444444444, \"#bd3786\"], [0.5555555555555556, \"#d8576b\"], [0.6666666666666666, \"#ed7953\"], [0.7777777777777778, \"#fb9f3a\"], [0.8888888888888888, \"#fdca26\"], [1.0, \"#f0f921\"]]}, \"legend\": {\"tracegroupgap\": 0}, \"margin\": {\"t\": 60}, \"scene\": {\"domain\": {\"x\": [0.0, 1.0], \"y\": [0.0, 1.0]}, \"xaxis\": {\"title\": {\"text\": \"1st\"}}, \"yaxis\": {\"title\": {\"text\": \"2nd\"}}, \"zaxis\": {\"title\": {\"text\": \"3rd\"}}}, \"template\": {\"data\": {\"bar\": [{\"error_x\": {\"color\": \"#2a3f5f\"}, \"error_y\": {\"color\": \"#2a3f5f\"}, \"marker\": {\"line\": {\"color\": \"#E5ECF6\", \"width\": 0.5}}, \"type\": \"bar\"}], \"barpolar\": [{\"marker\": {\"line\": {\"color\": \"#E5ECF6\", \"width\": 0.5}}, \"type\": \"barpolar\"}], \"carpet\": [{\"aaxis\": {\"endlinecolor\": \"#2a3f5f\", \"gridcolor\": \"white\", \"linecolor\": \"white\", \"minorgridcolor\": \"white\", \"startlinecolor\": \"#2a3f5f\"}, \"baxis\": {\"endlinecolor\": \"#2a3f5f\", \"gridcolor\": \"white\", \"linecolor\": \"white\", \"minorgridcolor\": \"white\", \"startlinecolor\": \"#2a3f5f\"}, \"type\": \"carpet\"}], \"choropleth\": [{\"colorbar\": {\"outlinewidth\": 0, \"ticks\": \"\"}, \"type\": \"choropleth\"}], \"contour\": [{\"colorbar\": {\"outlinewidth\": 0, \"ticks\": \"\"}, \"colorscale\": [[0.0, \"#0d0887\"], [0.1111111111111111, \"#46039f\"], [0.2222222222222222, \"#7201a8\"], [0.3333333333333333, \"#9c179e\"], [0.4444444444444444, \"#bd3786\"], [0.5555555555555556, \"#d8576b\"], [0.6666666666666666, \"#ed7953\"], [0.7777777777777778, \"#fb9f3a\"], [0.8888888888888888, \"#fdca26\"], [1.0, \"#f0f921\"]], \"type\": \"contour\"}], \"contourcarpet\": [{\"colorbar\": {\"outlinewidth\": 0, \"ticks\": \"\"}, \"type\": \"contourcarpet\"}], \"heatmap\": [{\"colorbar\": {\"outlinewidth\": 0, \"ticks\": \"\"}, \"colorscale\": [[0.0, \"#0d0887\"], [0.1111111111111111, \"#46039f\"], [0.2222222222222222, \"#7201a8\"], [0.3333333333333333, \"#9c179e\"], [0.4444444444444444, \"#bd3786\"], [0.5555555555555556, \"#d8576b\"], [0.6666666666666666, \"#ed7953\"], [0.7777777777777778, \"#fb9f3a\"], [0.8888888888888888, \"#fdca26\"], [1.0, \"#f0f921\"]], \"type\": \"heatmap\"}], \"heatmapgl\": [{\"colorbar\": {\"outlinewidth\": 0, \"ticks\": \"\"}, \"colorscale\": [[0.0, \"#0d0887\"], [0.1111111111111111, \"#46039f\"], [0.2222222222222222, \"#7201a8\"], [0.3333333333333333, \"#9c179e\"], [0.4444444444444444, \"#bd3786\"], [0.5555555555555556, \"#d8576b\"], [0.6666666666666666, \"#ed7953\"], [0.7777777777777778, \"#fb9f3a\"], [0.8888888888888888, \"#fdca26\"], [1.0, \"#f0f921\"]], \"type\": \"heatmapgl\"}], \"histogram\": [{\"marker\": {\"colorbar\": {\"outlinewidth\": 0, \"ticks\": \"\"}}, \"type\": \"histogram\"}], \"histogram2d\": [{\"colorbar\": {\"outlinewidth\": 0, \"ticks\": \"\"}, \"colorscale\": [[0.0, \"#0d0887\"], [0.1111111111111111, \"#46039f\"], [0.2222222222222222, \"#7201a8\"], [0.3333333333333333, \"#9c179e\"], [0.4444444444444444, \"#bd3786\"], [0.5555555555555556, \"#d8576b\"], [0.6666666666666666, \"#ed7953\"], [0.7777777777777778, \"#fb9f3a\"], [0.8888888888888888, \"#fdca26\"], [1.0, \"#f0f921\"]], \"type\": \"histogram2d\"}], \"histogram2dcontour\": [{\"colorbar\": {\"outlinewidth\": 0, \"ticks\": \"\"}, \"colorscale\": [[0.0, \"#0d0887\"], [0.1111111111111111, \"#46039f\"], [0.2222222222222222, \"#7201a8\"], [0.3333333333333333, \"#9c179e\"], [0.4444444444444444, \"#bd3786\"], [0.5555555555555556, \"#d8576b\"], [0.6666666666666666, \"#ed7953\"], [0.7777777777777778, \"#fb9f3a\"], [0.8888888888888888, \"#fdca26\"], [1.0, \"#f0f921\"]], \"type\": \"histogram2dcontour\"}], \"mesh3d\": [{\"colorbar\": {\"outlinewidth\": 0, \"ticks\": \"\"}, \"type\": \"mesh3d\"}], \"parcoords\": [{\"line\": {\"colorbar\": {\"outlinewidth\": 0, \"ticks\": \"\"}}, \"type\": \"parcoords\"}], \"pie\": [{\"automargin\": true, \"type\": \"pie\"}], \"scatter\": [{\"marker\": {\"colorbar\": {\"outlinewidth\": 0, \"ticks\": \"\"}}, \"type\": \"scatter\"}], \"scatter3d\": [{\"line\": {\"colorbar\": {\"outlinewidth\": 0, \"ticks\": \"\"}}, \"marker\": {\"colorbar\": {\"outlinewidth\": 0, \"ticks\": \"\"}}, \"type\": \"scatter3d\"}], \"scattercarpet\": [{\"marker\": {\"colorbar\": {\"outlinewidth\": 0, \"ticks\": \"\"}}, \"type\": \"scattercarpet\"}], \"scattergeo\": [{\"marker\": {\"colorbar\": {\"outlinewidth\": 0, \"ticks\": \"\"}}, \"type\": \"scattergeo\"}], \"scattergl\": [{\"marker\": {\"colorbar\": {\"outlinewidth\": 0, \"ticks\": \"\"}}, \"type\": \"scattergl\"}], \"scattermapbox\": [{\"marker\": {\"colorbar\": {\"outlinewidth\": 0, \"ticks\": \"\"}}, \"type\": \"scattermapbox\"}], \"scatterpolar\": [{\"marker\": {\"colorbar\": {\"outlinewidth\": 0, \"ticks\": \"\"}}, \"type\": \"scatterpolar\"}], \"scatterpolargl\": [{\"marker\": {\"colorbar\": {\"outlinewidth\": 0, \"ticks\": \"\"}}, \"type\": \"scatterpolargl\"}], \"scatterternary\": [{\"marker\": {\"colorbar\": {\"outlinewidth\": 0, \"ticks\": \"\"}}, \"type\": \"scatterternary\"}], \"surface\": [{\"colorbar\": {\"outlinewidth\": 0, \"ticks\": \"\"}, \"colorscale\": [[0.0, \"#0d0887\"], [0.1111111111111111, \"#46039f\"], [0.2222222222222222, \"#7201a8\"], [0.3333333333333333, \"#9c179e\"], [0.4444444444444444, \"#bd3786\"], [0.5555555555555556, \"#d8576b\"], [0.6666666666666666, \"#ed7953\"], [0.7777777777777778, \"#fb9f3a\"], [0.8888888888888888, \"#fdca26\"], [1.0, \"#f0f921\"]], \"type\": \"surface\"}], \"table\": [{\"cells\": {\"fill\": {\"color\": \"#EBF0F8\"}, \"line\": {\"color\": \"white\"}}, \"header\": {\"fill\": {\"color\": \"#C8D4E3\"}, \"line\": {\"color\": \"white\"}}, \"type\": \"table\"}]}, \"layout\": {\"annotationdefaults\": {\"arrowcolor\": \"#2a3f5f\", \"arrowhead\": 0, \"arrowwidth\": 1}, \"coloraxis\": {\"colorbar\": {\"outlinewidth\": 0, \"ticks\": \"\"}}, \"colorscale\": {\"diverging\": [[0, \"#8e0152\"], [0.1, \"#c51b7d\"], [0.2, \"#de77ae\"], [0.3, \"#f1b6da\"], [0.4, \"#fde0ef\"], [0.5, \"#f7f7f7\"], [0.6, \"#e6f5d0\"], [0.7, \"#b8e186\"], [0.8, \"#7fbc41\"], [0.9, \"#4d9221\"], [1, \"#276419\"]], \"sequential\": [[0.0, \"#0d0887\"], [0.1111111111111111, \"#46039f\"], [0.2222222222222222, \"#7201a8\"], [0.3333333333333333, \"#9c179e\"], [0.4444444444444444, \"#bd3786\"], [0.5555555555555556, \"#d8576b\"], [0.6666666666666666, \"#ed7953\"], [0.7777777777777778, \"#fb9f3a\"], [0.8888888888888888, \"#fdca26\"], [1.0, \"#f0f921\"]], \"sequentialminus\": [[0.0, \"#0d0887\"], [0.1111111111111111, \"#46039f\"], [0.2222222222222222, \"#7201a8\"], [0.3333333333333333, \"#9c179e\"], [0.4444444444444444, \"#bd3786\"], [0.5555555555555556, \"#d8576b\"], [0.6666666666666666, \"#ed7953\"], [0.7777777777777778, \"#fb9f3a\"], [0.8888888888888888, \"#fdca26\"], [1.0, \"#f0f921\"]]}, \"colorway\": [\"#636efa\", \"#EF553B\", \"#00cc96\", \"#ab63fa\", \"#FFA15A\", \"#19d3f3\", \"#FF6692\", \"#B6E880\", \"#FF97FF\", \"#FECB52\"], \"font\": {\"color\": \"#2a3f5f\"}, \"geo\": {\"bgcolor\": \"white\", \"lakecolor\": \"white\", \"landcolor\": \"#E5ECF6\", \"showlakes\": true, \"showland\": true, \"subunitcolor\": \"white\"}, \"hoverlabel\": {\"align\": \"left\"}, \"hovermode\": \"closest\", \"mapbox\": {\"style\": \"light\"}, \"paper_bgcolor\": \"white\", \"plot_bgcolor\": \"#E5ECF6\", \"polar\": {\"angularaxis\": {\"gridcolor\": \"white\", \"linecolor\": \"white\", \"ticks\": \"\"}, \"bgcolor\": \"#E5ECF6\", \"radialaxis\": {\"gridcolor\": \"white\", \"linecolor\": \"white\", \"ticks\": \"\"}}, \"scene\": {\"xaxis\": {\"backgroundcolor\": \"#E5ECF6\", \"gridcolor\": \"white\", \"gridwidth\": 2, \"linecolor\": \"white\", \"showbackground\": true, \"ticks\": \"\", \"zerolinecolor\": \"white\"}, \"yaxis\": {\"backgroundcolor\": \"#E5ECF6\", \"gridcolor\": \"white\", \"gridwidth\": 2, \"linecolor\": \"white\", \"showbackground\": true, \"ticks\": \"\", \"zerolinecolor\": \"white\"}, \"zaxis\": {\"backgroundcolor\": \"#E5ECF6\", \"gridcolor\": \"white\", \"gridwidth\": 2, \"linecolor\": \"white\", \"showbackground\": true, \"ticks\": \"\", \"zerolinecolor\": \"white\"}}, \"shapedefaults\": {\"line\": {\"color\": \"#2a3f5f\"}}, \"ternary\": {\"aaxis\": {\"gridcolor\": \"white\", \"linecolor\": \"white\", \"ticks\": \"\"}, \"baxis\": {\"gridcolor\": \"white\", \"linecolor\": \"white\", \"ticks\": \"\"}, \"bgcolor\": \"#E5ECF6\", \"caxis\": {\"gridcolor\": \"white\", \"linecolor\": \"white\", \"ticks\": \"\"}}, \"title\": {\"x\": 0.05}, \"xaxis\": {\"automargin\": true, \"gridcolor\": \"white\", \"linecolor\": \"white\", \"ticks\": \"\", \"title\": {\"standoff\": 15}, \"zerolinecolor\": \"white\", \"zerolinewidth\": 2}, \"yaxis\": {\"automargin\": true, \"gridcolor\": \"white\", \"linecolor\": \"white\", \"ticks\": \"\", \"title\": {\"standoff\": 15}, \"zerolinecolor\": \"white\", \"zerolinewidth\": 2}}}},\n",
       "                        {\"responsive\": true}\n",
       "                    ).then(function(){\n",
       "                            \n",
       "var gd = document.getElementById('89020ea8-1e6d-4ca9-81ed-edd17b41a796');\n",
       "var x = new MutationObserver(function (mutations, observer) {{\n",
       "        var display = window.getComputedStyle(gd).display;\n",
       "        if (!display || display === 'none') {{\n",
       "            console.log([gd, 'removed!']);\n",
       "            Plotly.purge(gd);\n",
       "            observer.disconnect();\n",
       "        }}\n",
       "}});\n",
       "\n",
       "// Listen for the removal of the full notebook cells\n",
       "var notebookContainer = gd.closest('#notebook-container');\n",
       "if (notebookContainer) {{\n",
       "    x.observe(notebookContainer, {childList: true});\n",
       "}}\n",
       "\n",
       "// Listen for the clearing of the current output cell\n",
       "var outputEl = gd.closest('.output');\n",
       "if (outputEl) {{\n",
       "    x.observe(outputEl, {childList: true});\n",
       "}}\n",
       "\n",
       "                        })\n",
       "                };\n",
       "                });\n",
       "            </script>\n",
       "        </div>"
      ]
     },
     "metadata": {},
     "output_type": "display_data"
    }
   ],
   "source": [
    "df_pc = pd.DataFrame(Xpca, columns = ['1st','2nd','3rd','4th','5th','6th','7th','8th'])\n",
    "fig = px.scatter_3d(df_pc, x='1st', y='2nd', z='3rd',\n",
    "              color='4th')\n",
    "fig.show()"
   ]
  },
  {
   "cell_type": "code",
   "execution_count": 13,
   "metadata": {},
   "outputs": [],
   "source": [
    "titles = []\n",
    "for i in range(len(X.columns)):\n",
    "    title = ''\n",
    "    for j in [0,1]:\n",
    "        title += list(X.columns)[i][j]\n",
    "        if j ==0:\n",
    "            title+= ', '\n",
    "    titles.append(title)"
   ]
  },
  {
   "cell_type": "code",
   "execution_count": 14,
   "metadata": {},
   "outputs": [
    {
     "data": {
      "text/plain": [
       "<BarContainer object of 30 artists>"
      ]
     },
     "execution_count": 14,
     "metadata": {},
     "output_type": "execute_result"
    },
    {
     "data": {
      "image/png": "[encoded data removed]",
      "text/plain": [
       "<Figure size 936x720 with 2 Axes>"
      ]
     },
     "metadata": {
      "needs_background": "light"
     },
     "output_type": "display_data"
    }
   ],
   "source": [
    "# composition of first principal component  \n",
    "#plt.figure(figsize = (13,8)).suptitle('Composition of Principal components',size=16)\n",
    "fig, (ax1, ax2) = plt.subplots(1, 2,figsize = (13,10),sharey = True)\n",
    "\n",
    "#ax=plt.subplot(1,2,1)\n",
    "ax1.set_title('PC1',size=14)\n",
    "ax1.barh(titles,pca.components_[0],height = 0.9,edgecolor='#cccccc')\n",
    "\n",
    "#ax=plt.subplot(1,2,2)\n",
    "ax2.set_title('PC2',size=14)\n",
    "#ax2.tick_params('x',direction ='in')\n",
    "ax2.barh(titles,pca.components_[1],height = 0.9,edgecolor='#cccccc')\n"
   ]
  },
  {
   "cell_type": "code",
   "execution_count": 15,
   "metadata": {},
   "outputs": [
    {
     "data": {
      "image/png": "[encoded data removed]",
      "text/plain": [
       "<Figure size 936x720 with 2 Axes>"
      ]
     },
     "metadata": {
      "needs_background": "light"
     },
     "output_type": "display_data"
    }
   ],
   "source": [
    "# same graph than the previous one\n",
    "labels = list(df_param.index)\n",
    "\n",
    "fig, ax = plt.subplots(1, 2,figsize = (13,10),sharey = True)\n",
    "\n",
    "x = np.arange(len(labels))  # the label locations\n",
    "width = 1/6  # the width of the bars  \n",
    "\n",
    "\n",
    "for j in [0,1]:\n",
    "    \n",
    "    pc_compo = []\n",
    "    for i in range(len(sectors)):\n",
    "        pc_compo.append((pca.components_[j])[np.array(range(i,pca.n_features_,len(sectors)))[:]])\n",
    "        ax[j].barh(x - 2*width-width/2+i/6, pc_compo[i], width, label=sectors[i])\n",
    "  \n",
    "    ax[j].set_xlabel('Composition',size=13)\n",
    "    ax[j].set_title('Principal component ' + str(j+1),size=14)\n",
    "    ax[j].set_yticks(x)\n",
    "    ax[j].set_yticklabels(labels,size=13)\n",
    "\n",
    "    if j == 1:\n",
    "        ax[j].legend(fontsize = 12,bbox_to_anchor=(1.05, 1), loc='upper left', borderaxespad=0.)"
   ]
  },
  {
   "cell_type": "code",
   "execution_count": 16,
   "metadata": {},
   "outputs": [
    {
     "data": {
      "image/png": "[encoded data removed]",
      "text/plain": [
       "<Figure size 936x720 with 2 Axes>"
      ]
     },
     "metadata": {
      "needs_background": "light"
     },
     "output_type": "display_data"
    }
   ],
   "source": [
    "labels = sectors\n",
    "\n",
    "fig, ax = plt.subplots(1, 2,figsize = (13,10),sharey = True)\n",
    "\n",
    "x = np.arange(len(labels))  # the label locations\n",
    "width = 1/6  # the width of the bars  \n",
    "\n",
    "for j in [0,1]:\n",
    "    \n",
    "    pc_compo = []\n",
    "    for i in range(len(list(df_param.index))):\n",
    "        pc_compo.append((pca.components_[j])[np.array(range(0,len(sectors)))[:]+len(sectors)*i])\n",
    "        ax[j].barh(x - 2*width+i/6, pc_compo[i], width, label=df_param.index[i])\n",
    "  \n",
    "    ax[j].set_xlabel('Composition',size=13)\n",
    "    ax[j].set_title('Principal component ' + str(j+1),size=14)\n",
    "    ax[j].set_yticks(x)\n",
    "    ax[j].set_yticklabels(labels,size=13)\n",
    "\n",
    "    if j == 1:\n",
    "        ax[j].legend(fontsize = 12,bbox_to_anchor=(1.05, 1), loc='upper left', borderaxespad=0.)"
   ]
  },
  {
   "cell_type": "markdown",
   "metadata": {},
   "source": [
    "#### Now, we know that the transition length = 1/acuteness might be interesting too\n",
    "let us try a pca with three features (& 6 sectors): 'transition length','transition day','intensity'\n",
    "inverting acuteness does not change the result"
   ]
  },
  {
   "cell_type": "code",
   "execution_count": 17,
   "metadata": {},
   "outputs": [],
   "source": [
    "X = X.join(X.loc[:,('acuteness',sectors)],rsuffix = ' inverse')\n",
    "X = X.rename(columns = {'acuteness inverse' : 'transition length'})"
   ]
  },
  {
   "cell_type": "code",
   "execution_count": 18,
   "metadata": {},
   "outputs": [
    {
     "name": "stdout",
     "output_type": "stream",
     "text": [
      "number of componants: 5\n",
      "explained variance per component: [0.34828473 0.19041027 0.11936155 0.0812037  0.0487145 ]\n",
      "total explained variance: 0.7879747528268051\n"
     ]
    },
    {
     "data": {
      "text/plain": [
       "Text(0.5, 1.0, 'Cumulative proportion of variance explained')"
      ]
     },
     "execution_count": 18,
     "metadata": {},
     "output_type": "execute_result"
    },
    {
     "data": {
      "image/png": "[encoded data removed]",
      "text/plain": [
       "<Figure size 936x288 with 2 Axes>"
      ]
     },
     "metadata": {
      "needs_background": "light"
     },
     "output_type": "display_data"
    }
   ],
   "source": [
    "pca = decomposition.PCA(n_components=0.75)\n",
    "pca.fit(X[['transition length','transition day','intensity']])\n",
    "Xpca = pca.transform(X[['transition length','transition day','intensity']])\n",
    "print('number of componants: ' + str(pca.n_components_))\n",
    "print('explained variance per component: ' + str(pca.explained_variance_ratio_))\n",
    "print('total explained variance: ' + str(sum(pca.explained_variance_ratio_)))\n",
    "\n",
    "plt.figure(figsize = (13,4))\n",
    "plt.subplot(1,2, 1)\n",
    "plt.bar(range(1,pca.n_components_+1),pca.explained_variance_ratio_)\n",
    "plt.title('Proportion of variance explained')\n",
    "\n",
    "plt.subplot(1,2, 2)\n",
    "data = []\n",
    "for i in range(1,pca.n_components_+1):\n",
    "    data.append(sum(pca.explained_variance_ratio_[0:i]))\n",
    "plt.bar(range(1,pca.n_components_+1),data)\n",
    "plt.title('Cumulative proportion of variance explained')"
   ]
  },
  {
   "cell_type": "code",
   "execution_count": 19,
   "metadata": {},
   "outputs": [
    {
     "data": {
      "image/png": "[encoded data removed]",
      "text/plain": [
       "<Figure size 936x720 with 2 Axes>"
      ]
     },
     "metadata": {
      "needs_background": "light"
     },
     "output_type": "display_data"
    }
   ],
   "source": [
    "labels = ['transition length','transition day','intensity']\n",
    "\n",
    "fig, ax = plt.subplots(1, 2,figsize = (13,10),sharey = True)\n",
    "\n",
    "x = np.arange(len(labels))  # the label locations\n",
    "width = 1/6  # the width of the bars  \n",
    "\n",
    "for j in [0,1]:\n",
    "    \n",
    "    pc_compo = []\n",
    "    for i in range(len(sectors)):\n",
    "        pc_compo.append((pca.components_[j])[np.array(range(i,pca.n_features_,len(sectors)))[:]])\n",
    "        ax[j].barh(x - 2*width-width/2+i/6, pc_compo[i], width, label=sectors[i])\n",
    "  \n",
    "    ax[j].set_xlabel('Composition',size=13)\n",
    "    ax[j].set_title('Principal component ' + str(j+1),size=14)\n",
    "    ax[j].set_yticks(x)\n",
    "    ax[j].set_yticklabels(labels,size=13)\n",
    "\n",
    "    if j == 1:\n",
    "        ax[j].legend(fontsize = 12,bbox_to_anchor=(1.05, 1), loc='upper left', borderaxespad=0.)"
   ]
  },
  {
   "cell_type": "code",
   "execution_count": null,
   "metadata": {},
   "outputs": [],
   "source": []
  },
  {
   "cell_type": "code",
   "execution_count": null,
   "metadata": {
    "scrolled": true
   },
   "outputs": [],
   "source": []
  },
  {
   "cell_type": "code",
   "execution_count": null,
   "metadata": {},
   "outputs": [],
   "source": []
  }
 ],
 "metadata": {
  "kernelspec": {
   "display_name": "Python 3",
   "language": "python",
   "name": "python3"
  },
  "language_info": {
   "codemirror_mode": {
    "name": "ipython",
    "version": 3
   },
   "file_extension": ".py",
   "mimetype": "text/x-python",
   "name": "python",
   "nbconvert_exporter": "python",
   "pygments_lexer": "ipython3",
   "version": "3.7.6"
  }
 },
 "nbformat": 4,
 "nbformat_minor": 4
}
