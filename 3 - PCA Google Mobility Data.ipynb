{
 "cells": [
  {
   "cell_type": "markdown",
   "metadata": {},
   "source": [
    "# Studying mobility changes due to covid 19 political measures"
   ]
  },
  {
   "cell_type": "markdown",
   "metadata": {},
   "source": [
    "#### simple PCA analysis\n",
    "\n",
    "input:\n",
    "- df_param as Google_mobility_fit_df_param.csv\n",
    "- df_param as Google_mobility_raw_df.csv\n",
    "\n",
    "no output"
   ]
  },
  {
   "cell_type": "code",
   "execution_count": 1,
   "metadata": {},
   "outputs": [
    {
     "data": {
      "text/html": [
       "        <script type=\"text/javascript\">\n",
       "        window.PlotlyConfig = {MathJaxConfig: 'local'};\n",
       "        if (window.MathJax) {MathJax.Hub.Config({SVG: {font: \"STIX-Web\"}});}\n",
       "        if (typeof require !== 'undefined') {\n",
       "        require.undef(\"plotly\");\n",
       "        requirejs.config({\n",
       "            paths: {\n",
       "                'plotly': ['https://cdn.plot.ly/plotly-latest.min']\n",
       "            }\n",
       "        });\n",
       "        require(['plotly'], function(Plotly) {\n",
       "            window._Plotly = Plotly;\n",
       "        });\n",
       "        }\n",
       "        </script>\n",
       "        "
      ]
     },
     "metadata": {},
     "output_type": "display_data"
    }
   ],
   "source": [
    "# Data Manipulation\n",
    "import numpy as np\n",
    "import matplotlib.pyplot as plt\n",
    "import pandas as pd\n",
    "import pyodbc as pyo\n",
    "import time\n",
    "from datetime import datetime\n",
    "from dateutil.parser import  *\n",
    "import itertools\n",
    "\n",
    "# Data Visualization\n",
    "import plotly.express as px\n",
    "from plotly.offline import init_notebook_mode\n",
    "init_notebook_mode(connected=True) \n",
    "from plotly.subplots import make_subplots\n",
    "import plotly.graph_objects as go\n",
    "\n",
    "# PCA\n",
    "from sklearn import decomposition"
   ]
  },
  {
   "cell_type": "markdown",
   "metadata": {},
   "source": [
    "## Import data & rapid preprocessing"
   ]
  },
  {
   "cell_type": "code",
   "execution_count": 2,
   "metadata": {},
   "outputs": [
    {
     "data": {
      "text/html": [
       "<div>\n",
       "<style scoped>\n",
       "    .dataframe tbody tr th:only-of-type {\n",
       "        vertical-align: middle;\n",
       "    }\n",
       "\n",
       "    .dataframe tbody tr th {\n",
       "        vertical-align: top;\n",
       "    }\n",
       "\n",
       "    .dataframe thead tr th {\n",
       "        text-align: left;\n",
       "    }\n",
       "\n",
       "    .dataframe thead tr:last-of-type th {\n",
       "        text-align: right;\n",
       "    }\n",
       "</style>\n",
       "<table border=\"1\" class=\"dataframe\">\n",
       "  <thead>\n",
       "    <tr>\n",
       "      <th>Country</th>\n",
       "      <th colspan=\"6\" halign=\"left\">Afghanistan</th>\n",
       "      <th colspan=\"4\" halign=\"left\">Angola</th>\n",
       "      <th>...</th>\n",
       "      <th colspan=\"4\" halign=\"left\">Zambia</th>\n",
       "      <th colspan=\"6\" halign=\"left\">Zimbabwe</th>\n",
       "    </tr>\n",
       "    <tr>\n",
       "      <th>Sector</th>\n",
       "      <th>Grocery &amp; pharmacy</th>\n",
       "      <th>Parks</th>\n",
       "      <th>Residential</th>\n",
       "      <th>Retail &amp; recreation</th>\n",
       "      <th>Transit stations</th>\n",
       "      <th>Workplace</th>\n",
       "      <th>Grocery &amp; pharmacy</th>\n",
       "      <th>Parks</th>\n",
       "      <th>Residential</th>\n",
       "      <th>Retail &amp; recreation</th>\n",
       "      <th>...</th>\n",
       "      <th>Residential</th>\n",
       "      <th>Retail &amp; recreation</th>\n",
       "      <th>Transit stations</th>\n",
       "      <th>Workplace</th>\n",
       "      <th>Grocery &amp; pharmacy</th>\n",
       "      <th>Parks</th>\n",
       "      <th>Residential</th>\n",
       "      <th>Retail &amp; recreation</th>\n",
       "      <th>Transit stations</th>\n",
       "      <th>Workplace</th>\n",
       "    </tr>\n",
       "    <tr>\n",
       "      <th>parameters</th>\n",
       "      <th></th>\n",
       "      <th></th>\n",
       "      <th></th>\n",
       "      <th></th>\n",
       "      <th></th>\n",
       "      <th></th>\n",
       "      <th></th>\n",
       "      <th></th>\n",
       "      <th></th>\n",
       "      <th></th>\n",
       "      <th></th>\n",
       "      <th></th>\n",
       "      <th></th>\n",
       "      <th></th>\n",
       "      <th></th>\n",
       "      <th></th>\n",
       "      <th></th>\n",
       "      <th></th>\n",
       "      <th></th>\n",
       "      <th></th>\n",
       "      <th></th>\n",
       "    </tr>\n",
       "  </thead>\n",
       "  <tbody>\n",
       "    <tr>\n",
       "      <th>acuteness</th>\n",
       "      <td>10.000000</td>\n",
       "      <td>0.624789</td>\n",
       "      <td>0.284801</td>\n",
       "      <td>0.319800</td>\n",
       "      <td>0.209542</td>\n",
       "      <td>3.089872</td>\n",
       "      <td>10.000000</td>\n",
       "      <td>0.323832</td>\n",
       "      <td>0.420756</td>\n",
       "      <td>3.043538</td>\n",
       "      <td>...</td>\n",
       "      <td>0.245632</td>\n",
       "      <td>0.200000</td>\n",
       "      <td>0.200000</td>\n",
       "      <td>0.200000</td>\n",
       "      <td>10.000000</td>\n",
       "      <td>0.468455</td>\n",
       "      <td>0.498078</td>\n",
       "      <td>10.000000</td>\n",
       "      <td>10.000000</td>\n",
       "      <td>0.599979</td>\n",
       "    </tr>\n",
       "    <tr>\n",
       "      <th>transition day</th>\n",
       "      <td>41.857616</td>\n",
       "      <td>40.362680</td>\n",
       "      <td>41.173570</td>\n",
       "      <td>39.386526</td>\n",
       "      <td>38.719832</td>\n",
       "      <td>41.621038</td>\n",
       "      <td>40.946044</td>\n",
       "      <td>37.074623</td>\n",
       "      <td>37.654515</td>\n",
       "      <td>40.501179</td>\n",
       "      <td>...</td>\n",
       "      <td>41.888258</td>\n",
       "      <td>41.499351</td>\n",
       "      <td>41.417020</td>\n",
       "      <td>44.821920</td>\n",
       "      <td>43.519254</td>\n",
       "      <td>42.017633</td>\n",
       "      <td>41.400674</td>\n",
       "      <td>43.415239</td>\n",
       "      <td>43.584050</td>\n",
       "      <td>42.457331</td>\n",
       "    </tr>\n",
       "    <tr>\n",
       "      <th>intensity</th>\n",
       "      <td>-29.895426</td>\n",
       "      <td>-14.646242</td>\n",
       "      <td>-12.959441</td>\n",
       "      <td>-46.476161</td>\n",
       "      <td>-52.000000</td>\n",
       "      <td>-35.980899</td>\n",
       "      <td>-37.516984</td>\n",
       "      <td>-45.320953</td>\n",
       "      <td>-27.296113</td>\n",
       "      <td>-51.716102</td>\n",
       "      <td>...</td>\n",
       "      <td>-11.148057</td>\n",
       "      <td>-22.289023</td>\n",
       "      <td>-21.916520</td>\n",
       "      <td>-27.602718</td>\n",
       "      <td>-60.424010</td>\n",
       "      <td>-46.444337</td>\n",
       "      <td>-40.921894</td>\n",
       "      <td>-63.639418</td>\n",
       "      <td>-65.611296</td>\n",
       "      <td>-68.743481</td>\n",
       "    </tr>\n",
       "    <tr>\n",
       "      <th>offset</th>\n",
       "      <td>4.095363</td>\n",
       "      <td>2.463956</td>\n",
       "      <td>-0.674879</td>\n",
       "      <td>0.798643</td>\n",
       "      <td>4.622126</td>\n",
       "      <td>1.085921</td>\n",
       "      <td>1.707271</td>\n",
       "      <td>4.925963</td>\n",
       "      <td>-0.171635</td>\n",
       "      <td>-3.703236</td>\n",
       "      <td>...</td>\n",
       "      <td>-2.364054</td>\n",
       "      <td>0.170077</td>\n",
       "      <td>-3.577105</td>\n",
       "      <td>4.490555</td>\n",
       "      <td>5.093659</td>\n",
       "      <td>-3.868086</td>\n",
       "      <td>-1.326554</td>\n",
       "      <td>-2.683319</td>\n",
       "      <td>-13.860382</td>\n",
       "      <td>4.346077</td>\n",
       "    </tr>\n",
       "    <tr>\n",
       "      <th>error</th>\n",
       "      <td>32.298828</td>\n",
       "      <td>5.601513</td>\n",
       "      <td>3.371539</td>\n",
       "      <td>18.888179</td>\n",
       "      <td>22.668155</td>\n",
       "      <td>90.130409</td>\n",
       "      <td>52.949917</td>\n",
       "      <td>42.287646</td>\n",
       "      <td>15.765583</td>\n",
       "      <td>77.804041</td>\n",
       "      <td>...</td>\n",
       "      <td>5.859250</td>\n",
       "      <td>35.274266</td>\n",
       "      <td>18.709830</td>\n",
       "      <td>123.015129</td>\n",
       "      <td>33.668760</td>\n",
       "      <td>35.943083</td>\n",
       "      <td>21.148464</td>\n",
       "      <td>41.060552</td>\n",
       "      <td>43.221788</td>\n",
       "      <td>193.039495</td>\n",
       "    </tr>\n",
       "  </tbody>\n",
       "</table>\n",
       "<p>5 rows × 775 columns</p>\n",
       "</div>"
      ],
      "text/plain": [
       "Country               Afghanistan                                             \\\n",
       "Sector         Grocery & pharmacy      Parks Residential Retail & recreation   \n",
       "parameters                                                                     \n",
       "acuteness               10.000000   0.624789    0.284801            0.319800   \n",
       "transition day          41.857616  40.362680   41.173570           39.386526   \n",
       "intensity              -29.895426 -14.646242  -12.959441          -46.476161   \n",
       "offset                   4.095363   2.463956   -0.674879            0.798643   \n",
       "error                   32.298828   5.601513    3.371539           18.888179   \n",
       "\n",
       "Country                                                Angola             \\\n",
       "Sector         Transit stations  Workplace Grocery & pharmacy      Parks   \n",
       "parameters                                                                 \n",
       "acuteness              0.209542   3.089872          10.000000   0.323832   \n",
       "transition day        38.719832  41.621038          40.946044  37.074623   \n",
       "intensity            -52.000000 -35.980899         -37.516984 -45.320953   \n",
       "offset                 4.622126   1.085921           1.707271   4.925963   \n",
       "error                 22.668155  90.130409          52.949917  42.287646   \n",
       "\n",
       "Country                                         ...      Zambia  \\\n",
       "Sector         Residential Retail & recreation  ... Residential   \n",
       "parameters                                      ...               \n",
       "acuteness         0.420756            3.043538  ...    0.245632   \n",
       "transition day   37.654515           40.501179  ...   41.888258   \n",
       "intensity       -27.296113          -51.716102  ...  -11.148057   \n",
       "offset           -0.171635           -3.703236  ...   -2.364054   \n",
       "error            15.765583           77.804041  ...    5.859250   \n",
       "\n",
       "Country                                                          \\\n",
       "Sector         Retail & recreation Transit stations   Workplace   \n",
       "parameters                                                        \n",
       "acuteness                 0.200000         0.200000    0.200000   \n",
       "transition day           41.499351        41.417020   44.821920   \n",
       "intensity               -22.289023       -21.916520  -27.602718   \n",
       "offset                    0.170077        -3.577105    4.490555   \n",
       "error                    35.274266        18.709830  123.015129   \n",
       "\n",
       "Country                  Zimbabwe                                             \\\n",
       "Sector         Grocery & pharmacy      Parks Residential Retail & recreation   \n",
       "parameters                                                                     \n",
       "acuteness               10.000000   0.468455    0.498078           10.000000   \n",
       "transition day          43.519254  42.017633   41.400674           43.415239   \n",
       "intensity              -60.424010 -46.444337  -40.921894          -63.639418   \n",
       "offset                   5.093659  -3.868086   -1.326554           -2.683319   \n",
       "error                   33.668760  35.943083   21.148464           41.060552   \n",
       "\n",
       "Country                                      \n",
       "Sector         Transit stations   Workplace  \n",
       "parameters                                   \n",
       "acuteness             10.000000    0.599979  \n",
       "transition day        43.584050   42.457331  \n",
       "intensity            -65.611296  -68.743481  \n",
       "offset               -13.860382    4.346077  \n",
       "error                 43.221788  193.039495  \n",
       "\n",
       "[5 rows x 775 columns]"
      ]
     },
     "execution_count": 2,
     "metadata": {},
     "output_type": "execute_result"
    }
   ],
   "source": [
    "# Import per country, per sector time series (% mobility change wrt. baseline)\n",
    "url = \"https://raw.githubusercontent.com/sylvainhislaire/projects/master/Google_Mobility_raw_df.csv\"\n",
    "df = pd.read_csv(url, header = [0,1], index_col = [0])\n",
    "\n",
    "# Import per country, per sector bset-fit sigmoid parameters (acuteness = 1/transition length)\n",
    "url = \"https://raw.githubusercontent.com/sylvainhislaire/projects/master/Google_Mobility_fit_df_param.csv\"\n",
    "df_param = pd.read_csv(url, header = [0,1], index_col = [0])\n",
    "\n",
    "# retrieve sector and country names\n",
    "sectors = list(df_param.groupby('Sector',axis=1).min().columns.get_level_values('Sector'))\n",
    "countries = list(df_param.groupby('Country',axis=1).min().columns.get_level_values('Country'))\n",
    "\n",
    "# visualisation\n",
    "df_param"
   ]
  },
  {
   "cell_type": "code",
   "execution_count": 3,
   "metadata": {},
   "outputs": [
    {
     "name": "stdout",
     "output_type": "stream",
     "text": [
      "Guinea-Bissau 4\n",
      "Liechtenstein 4\n",
      "Réunion 5\n"
     ]
    }
   ],
   "source": [
    "# find and delete countries with less than 6 sectors\n",
    "to_be_deleted = []\n",
    "for country in countries:\n",
    "    if len(df_param[country].columns) < 6:\n",
    "        print(country + ' ' + str(len(df[country].columns)))\n",
    "        to_be_deleted.append(country)\n",
    "        \n",
    "df_param_clean = df_param.drop(to_be_deleted,axis=1)\n",
    "\n",
    "# find and delete countries with NaN values\n",
    "to_be_deleted = []\n",
    "for column in df_param_clean:\n",
    "    for i in df_param_clean[column]:\n",
    "        if i != i:\n",
    "            print(column)\n",
    "            to_be_deleted.append(column[0])  \n",
    "            \n",
    "# clean dataset\n",
    "df_param_clean = df_param_clean.drop(to_be_deleted,axis=1)"
   ]
  },
  {
   "cell_type": "code",
   "execution_count": 4,
   "metadata": {},
   "outputs": [],
   "source": [
    "# set the features (sectors and sigmoid parameters) as columns, countries as rows\n",
    "X = df_param_clean.transpose().reset_index('Sector').pivot(columns='Sector')\n",
    "\n",
    "# normalising\n",
    "X = (X-X.mean()) / X.std() # unbiased std estimator ./(N-1)"
   ]
  },
  {
   "cell_type": "markdown",
   "metadata": {},
   "source": [
    "## PCA"
   ]
  },
  {
   "cell_type": "code",
   "execution_count": 5,
   "metadata": {},
   "outputs": [
    {
     "name": "stdout",
     "output_type": "stream",
     "text": [
      "number of componants: 8\n",
      "explained variance per component: [0.22310365 0.15943661 0.10239884 0.0815621  0.06545651 0.04490163\n",
      " 0.04286793 0.03866482]\n",
      "total explained variance: 0.7583921018274336\n"
     ]
    },
    {
     "data": {
      "text/plain": [
       "Text(0.5, 1.0, 'Cumulative proportion of variance explained')"
      ]
     },
     "execution_count": 5,
     "metadata": {},
     "output_type": "execute_result"
    },
    {
     "data": {
      "image/png": "[encoded data removed]",
      "text/plain": [
       "<Figure size 936x288 with 2 Axes>"
      ]
     },
     "metadata": {
      "needs_background": "light"
     },
     "output_type": "display_data"
    }
   ],
   "source": [
    "# Apply PCA\n",
    "pca = decomposition.PCA(n_components=0.75)\n",
    "pca.fit(X)\n",
    "Xpca = pca.transform(X)\n",
    "print('number of componants: ' + str(pca.n_components_))\n",
    "print('explained variance per component: ' + str(pca.explained_variance_ratio_))\n",
    "print('total explained variance: ' + str(sum(pca.explained_variance_ratio_)))\n",
    "\n",
    "# visualisation: %variance per Principal Component\n",
    "plt.figure(figsize = (13,4))\n",
    "plt.subplot(1,2, 1)\n",
    "plt.bar(range(1,pca.n_components_+1),pca.explained_variance_ratio_)\n",
    "plt.title('Proportion of variance explained')\n",
    "\n",
    "# visualisation: cumulative % variance per Principal Component\n",
    "plt.subplot(1,2, 2)\n",
    "data = []\n",
    "for i in range(1,pca.n_components_+1):\n",
    "    data.append(sum(pca.explained_variance_ratio_[0:i]))\n",
    "plt.bar(range(1,pca.n_components_+1),data)\n",
    "plt.title('Cumulative proportion of variance explained')"
   ]
  },
  {
   "cell_type": "code",
   "execution_count": 6,
   "metadata": {},
   "outputs": [
    {
     "data": {
      "application/vnd.plotly.v1+json": {
       "config": {
        "plotlyServerURL": "https://plot.ly"
       },
       "data": [
        {
         "hovertemplate": "1st=%{x}<br>2nd=%{y}<br>3rd=%{z}<br>4th=%{marker.color}<extra></extra>",
         "legendgroup": "",
         "marker": {
          "color": [
           0.5605367148771858,
           -0.3987261625868454,
           -0.21658817560198637,
           0.39557480001760437,
           -0.8504802670782852,
           1.064567863531102,
           -1.814013961348956,
           -0.06954624488448653,
           0.9181574476021909,
           -0.05861192492716709,
           -2.2232557186158948,
           -1.5550524336712657,
           0.03317694208182127,
           0.04422993402826648,
           -0.048927605698724785,
           0.5511694030153994,
           -0.13819949913452417,
           0.1428998498576075,
           -0.9808743505844192,
           0.8630358747308072,
           0.17727390376525917,
           0.5660885882865943,
           -0.09397049969758714,
           0.0761939728753729,
           0.8493387040358935,
           1.2349190966237777,
           0.7659891116236436,
           -0.39874290389677264,
           -1.6841442570380993,
           0.8003400982535049,
           -1.810637971721974,
           0.21666860272887273,
           -0.10403999491059038,
           -0.05071961563923649,
           0.8292336921467457,
           -2.498464333358435,
           0.4196392805782066,
           -1.9841351867067332,
           -0.336835880873019,
           -1.1596469728275787,
           0.7197663922250707,
           -1.9857146338788327,
           -0.23616373534833168,
           -1.5794741205584737,
           0.949768074523248,
           -1.0823731700091166,
           1.1251876471552256,
           -5.677056557770031,
           -0.8152687859235668,
           0.17361672369791734,
           0.8173879275219975,
           1.3771590188165483,
           -1.9242953974884125,
           -2.0812739740013777,
           -0.5298021792778204,
           -0.6917043508509209,
           -4.402805432708521,
           -2.145834798687283,
           1.4430925955594818,
           1.075709111961486,
           -0.09591294582451272,
           1.8127187719953224,
           0.5623829877162009,
           -1.4797250145631127,
           0.40215037290097805,
           0.9440170060133324,
           -1.6926530394697874,
           -1.096005762167888,
           1.1865898904854455,
           0.15477668165455305,
           0.42098200452742035,
           -0.020007561278661413,
           0.8854854515458997,
           0.9605995917677358,
           1.4234080745308837,
           3.030274516633422,
           -0.2331272600047209,
           1.394410973691139,
           -0.70738272856614,
           0.9649687824079304,
           0.7079309931781717,
           1.1811434837507682,
           0.5458430257911072,
           0.19727163852370555,
           -3.2711777237678716,
           0.8244342659034571,
           1.8698707878574272,
           -0.46197903800156775,
           4.408294678222564,
           0.8768218008306141,
           0.908700263648344,
           0.6697424183396128,
           0.07708025894433902,
           -0.1378863374052113,
           0.46371875633315535,
           0.5239709225524736,
           1.164242915672113,
           0.7466387413413801,
           0.18616928580118924,
           0.6287257351975027,
           -2.4421957469335447,
           -2.3504435051740495,
           -0.7445756970556606,
           -0.7375943143483271,
           4.088156281407654,
           0.6262698380824662,
           0.4904068172598557,
           -0.680987026317978,
           -3.4219341804504344,
           2.772417707474657,
           6.678336917623673,
           0.12423454744720061,
           0.1691627551130998,
           -1.2256761507584026,
           -0.9986843938783583,
           -1.97673672523938,
           0.4792763973936002,
           1.1527926274017908,
           0.16045999850291973,
           -0.2813070586381188,
           -1.0776987718061073,
           0.6924304063939177,
           1.452097797620835,
           -0.7690774153532356,
           1.4045077129616195,
           -2.5049928633093597,
           1.430506103055396
          ],
          "coloraxis": "coloraxis",
          "symbol": "circle"
         },
         "mode": "markers",
         "name": "",
         "scene": "scene",
         "showlegend": false,
         "type": "scatter3d",
         "x": [
          -0.2815534223872924,
          -0.683246693845663,
          -2.959731625399324,
          -1.4917996866736154,
          -2.0702170165373484,
          -1.2960997579295088,
          0.6332603751283656,
          1.7896875232575007,
          -2.398448696781545,
          -4.625348976905294,
          2.0878520650178336,
          0.29341472048490086,
          -3.7404846374539935,
          2.2347883615429662,
          -2.597837580373023,
          -0.4689103830767009,
          -2.1770238781799645,
          0.2774941044805778,
          1.1250771419263896,
          0.7050303132037121,
          1.2154808775304025,
          1.4059798372324006,
          -0.68175353867106,
          -1.9050364054437188,
          -1.108224647115901,
          -2.4956289808929766,
          -1.1775133143794476,
          -1.1768105146978685,
          1.5672786879478204,
          0.22845050869843392,
          3.43139939040514,
          -1.6134434720641715,
          -1.143238550286785,
          -0.26513888547383957,
          -2.1840082232153546,
          2.927426420826953,
          -1.839388095883757,
          2.247907433634769,
          -0.9872483581294627,
          0.7260046068596667,
          -1.018511032873282,
          1.5718299007533816,
          -1.252260987969099,
          -0.25624175231998947,
          -0.7112536700102555,
          3.172940083613008,
          -0.873739125031508,
          9.303371003139548,
          -0.37063090516700015,
          -1.5698664031237775,
          0.3490860133289814,
          -0.8661883476040262,
          1.3545746869615019,
          -0.6938078140820325,
          -1.0503453028815395,
          -0.2991368811758856,
          3.066771061064852,
          -0.5570295595794622,
          -1.5974657859883354,
          -0.756425266657125,
          -0.3056239888414942,
          -2.951974883445051,
          -1.6565683767040613,
          2.4105327850999525,
          -0.3478378272697046,
          -0.24035720091272744,
          2.5281059284574505,
          -0.9873403207981143,
          -0.8114937757654322,
          1.6665905801359897,
          -1.2222552420040513,
          -0.9047578422912349,
          -0.8444108473023564,
          -0.44500305399983514,
          10.630985099191667,
          2.1402916875772715,
          -3.5495992730469026,
          -2.148364137306055,
          1.7649762737612824,
          -3.082634555630461,
          0.8184958600664313,
          0.5622815533936268,
          -1.8864525336681965,
          -0.7731551877374889,
          3.196608311479207,
          -0.7808672536531773,
          -0.64208080675955,
          -2.8624137354431856,
          5.325311636869534,
          -1.1448202931386107,
          -1.5031573067766069,
          -1.6780619489234836,
          0.08199062091420947,
          -1.764554246017144,
          -1.1975647706617585,
          -0.1880302559660474,
          -1.2984949876702052,
          -1.9749084101846175,
          -1.261167253921626,
          0.5351962743249902,
          -0.8027173239670032,
          0.31204298214627046,
          -0.31908408932530036,
          -1.7250381098258536,
          11.58365071345925,
          -2.1592947952078463,
          -2.2190241909760324,
          2.7355624096345568,
          1.3173050187610014,
          7.784841827453573,
          7.296161064485165,
          0.09108151933759004,
          0.1425539597373843,
          -3.025370540212079,
          1.7156736608407452,
          -2.5047585964001824,
          -1.5978900813851786,
          -2.7674516784682055,
          -1.913825662235275,
          -1.601422609250216,
          0.7905156240771406,
          0.18828344376803682,
          -0.1788105156429567,
          0.3501225120592364,
          2.8104080926877923,
          3.1681213410046674,
          -1.1531192127668932
         ],
         "y": [
          -2.2129249745310497,
          -0.4959234023322632,
          -0.23872185866179824,
          1.0697360859034664,
          2.143807460003424,
          1.7052450601127502,
          2.731790946188797,
          -2.9920875827138222,
          -0.7868066811627583,
          0.23215943223602692,
          -0.6217991514708243,
          1.5350969533865866,
          0.7706792909121718,
          -3.6047022693340374,
          0.5996736585471079,
          0.3903633828245011,
          -1.2786678416326183,
          -0.025572554360822702,
          2.0967866008016314,
          -2.2780280346663635,
          -2.9693995350035105,
          -3.157793363747223,
          0.7073576151051602,
          -1.8570031751624425,
          0.03652364238013049,
          0.5544870701932235,
          0.6255823134699604,
          1.2460153770217903,
          1.9702589885032884,
          -2.4300022752594677,
          1.7155274344081417,
          -0.22306219826745158,
          1.2483860905048223,
          1.298277763392051,
          -0.060283002396107795,
          1.3838262029690453,
          -1.8403855050456444,
          0.001347715975399913,
          1.5677988920934274,
          -1.692037120670415,
          0.23930908459729056,
          0.9657264023297966,
          -2.3160233977205653,
          3.4675458076495027,
          0.2503289366101078,
          -2.1571998373872705,
          0.9154745968011585,
          -4.492890842848999,
          2.8968704281013964,
          -0.5003094028551869,
          -2.0702930180765735,
          1.0294581075946296,
          0.35552245379139324,
          3.533870745279487,
          2.140805636334372,
          0.6964589780973878,
          -4.90488953909127,
          2.3540778492439562,
          0.009414374486115706,
          -1.7755626111152598,
          0.029154399000568768,
          0.3456398421179925,
          -2.711457568475186,
          0.5134857438536939,
          0.7079325702162783,
          -0.5811850646281377,
          2.0783896298764484,
          1.533917548451385,
          -0.4924811882778214,
          -3.3404848065040844,
          2.4234909017027078,
          1.9685474728924441,
          0.9489444919878389,
          0.42241819997668995,
          7.8257055354401155,
          -1.8393958628075562,
          -2.6762832759395185,
          -0.4083893006294574,
          -0.07003102153009833,
          0.40822188956437916,
          -1.6229765208086084,
          -2.976927125263542,
          -2.485736004714772,
          2.2183820796106835,
          3.283867796552319,
          -1.8927408505699908,
          -0.5952870709949126,
          1.8938363110594794,
          0.5139716730779214,
          0.10605826704347279,
          1.1455888720020446,
          0.13616936946436053,
          2.279818237183305,
          2.5522856323415164,
          1.2117854669964014,
          -0.6246594402962481,
          0.8789868854681259,
          -0.5235824163498911,
          -1.079521301484293,
          -2.7129448195594033,
          -5.573485487249058,
          4.597525302480653,
          2.479827322368858,
          0.5147127495898504,
          3.4456390669244783,
          2.1998553867970103,
          2.074170992994174,
          -0.9497411136527762,
          1.886181328526105,
          -0.37311175854557166,
          0.8098529557960593,
          -4.752527445980245,
          -3.024658014610994,
          2.930837224018326,
          -3.4697457593936702,
          3.849644684577857,
          1.2761948365270839,
          -2.0293573457068645,
          -1.0853988781798933,
          -0.31804682373392396,
          0.327858111199804,
          -0.522087542376729,
          1.0397078384598637,
          -4.795118075439245,
          -2.342945656220277,
          -4.37981307788427,
          -0.11170820066902554
         ],
         "z": [
          -0.6035755058665718,
          2.193779297295759,
          1.4056325959413996,
          1.310208085508814,
          0.23274629970902777,
          -1.8554028344014148,
          0.5816399652666049,
          -0.07498729508210786,
          -0.511806447689995,
          0.6773962334586001,
          -3.5546500418623093,
          0.3600521426506294,
          -0.31381186065623534,
          -2.183103820074146,
          2.8981928408728974,
          -1.438520057744151,
          4.952309281618573,
          0.28945986552530606,
          -0.9027840054705542,
          -1.439263274640581,
          -0.40179148942739273,
          -1.769176563683132,
          -1.1573213019312851,
          0.7917638828340748,
          -0.584113212250073,
          1.2267690390563784,
          0.2049913508014854,
          -0.9829110789690191,
          -1.8341105343683615,
          -1.9753427630024836,
          -0.963093728273902,
          1.262611559779014,
          2.7996200433718497,
          -0.8145734743003836,
          0.3297936909973668,
          -1.5625196454468069,
          -0.1553401163813062,
          -1.6126541073470937,
          1.3628750107391714,
          0.13121054923772785,
          -1.471932235968935,
          -0.44774584565612857,
          1.229073640982945,
          -0.8599711889475189,
          0.2101815530312684,
          1.8400238218587028,
          1.6033317758961045,
          4.749865176440858,
          -1.7024046570731735,
          1.5645761118203356,
          -1.180950283071271,
          -1.8634118776774256,
          -0.5318783722151398,
          -1.0893243850555876,
          0.3787006078422708,
          0.029258979118888834,
          0.23291542366109105,
          3.3127498583794153,
          -1.6063450500707794,
          -1.6728762822136864,
          -0.12292313713058126,
          -1.1624624060846203,
          -0.11365070259628852,
          -2.257276819551808,
          -0.9252783775582878,
          -1.969843465424534,
          -0.5374033516861949,
          0.6845945911311098,
          2.027594885898525,
          -2.024265203595122,
          -2.5145625468541297,
          4.733221397821064,
          -1.2663566515469926,
          -1.2513776762682718,
          3.2505311634435854,
          -0.8902612307928855,
          0.6441829973845544,
          0.9821460697087832,
          -1.1214130453273263,
          1.6704303077807148,
          -0.9443207406277568,
          -2.1423352241516955,
          -0.10167248528246686,
          -1.466906591884341,
          0.14610472733143484,
          -0.2756116616230705,
          -0.40095772204357777,
          1.1790359635342331,
          1.3092775209617005,
          0.41227976301435226,
          1.5475684330205304,
          0.8780855414891872,
          -0.4241496449690371,
          -0.7254763800189402,
          0.3752076637618255,
          -1.2296005630654299,
          -1.6427073787100521,
          -0.0971124682797039,
          0.3346814693620078,
          -0.5696816721354254,
          5.82364365961971,
          -1.6163606858774628,
          -0.32691522585752275,
          3.6830206763951154,
          2.93707441205205,
          -0.026431467662932348,
          1.5029977566950923,
          -1.933114278277526,
          -2.025336372260716,
          -0.5276338347058058,
          1.1325725669917805,
          -1.3485804667488543,
          -0.2122646080075404,
          0.3891786167970658,
          0.022823213967208177,
          -0.6324848808012995,
          -1.6497506723031388,
          0.3170343340274959,
          0.12591633927446885,
          -0.16724472143093383,
          -3.1356356154955773,
          0.11186951686493385,
          -0.1625957805436236,
          1.8967661877198625,
          -2.6998327165263705,
          -0.6463780059028207,
          6.126291356684661
         ]
        }
       ],
       "layout": {
        "coloraxis": {
         "colorbar": {
          "title": {
           "text": "4th"
          }
         },
         "colorscale": [
          [
           0,
           "#0d0887"
          ],
          [
           0.1111111111111111,
           "#46039f"
          ],
          [
           0.2222222222222222,
           "#7201a8"
          ],
          [
           0.3333333333333333,
           "#9c179e"
          ],
          [
           0.4444444444444444,
           "#bd3786"
          ],
          [
           0.5555555555555556,
           "#d8576b"
          ],
          [
           0.6666666666666666,
           "#ed7953"
          ],
          [
           0.7777777777777778,
           "#fb9f3a"
          ],
          [
           0.8888888888888888,
           "#fdca26"
          ],
          [
           1,
           "#f0f921"
          ]
         ]
        },
        "legend": {
         "tracegroupgap": 0
        },
        "margin": {
         "t": 60
        },
        "scene": {
         "domain": {
          "x": [
           0,
           1
          ],
          "y": [
           0,
           1
          ]
         },
         "xaxis": {
          "title": {
           "text": "1st"
          }
         },
         "yaxis": {
          "title": {
           "text": "2nd"
          }
         },
         "zaxis": {
          "title": {
           "text": "3rd"
          }
         }
        },
        "template": {
         "data": {
          "bar": [
           {
            "error_x": {
             "color": "#2a3f5f"
            },
            "error_y": {
             "color": "#2a3f5f"
            },
            "marker": {
             "line": {
              "color": "#E5ECF6",
              "width": 0.5
             }
            },
            "type": "bar"
           }
          ],
          "barpolar": [
           {
            "marker": {
             "line": {
              "color": "#E5ECF6",
              "width": 0.5
             }
            },
            "type": "barpolar"
           }
          ],
          "carpet": [
           {
            "aaxis": {
             "endlinecolor": "#2a3f5f",
             "gridcolor": "white",
             "linecolor": "white",
             "minorgridcolor": "white",
             "startlinecolor": "#2a3f5f"
            },
            "baxis": {
             "endlinecolor": "#2a3f5f",
             "gridcolor": "white",
             "linecolor": "white",
             "minorgridcolor": "white",
             "startlinecolor": "#2a3f5f"
            },
            "type": "carpet"
           }
          ],
          "choropleth": [
           {
            "colorbar": {
             "outlinewidth": 0,
             "ticks": ""
            },
            "type": "choropleth"
           }
          ],
          "contour": [
           {
            "colorbar": {
             "outlinewidth": 0,
             "ticks": ""
            },
            "colorscale": [
             [
              0,
              "#0d0887"
             ],
             [
              0.1111111111111111,
              "#46039f"
             ],
             [
              0.2222222222222222,
              "#7201a8"
             ],
             [
              0.3333333333333333,
              "#9c179e"
             ],
             [
              0.4444444444444444,
              "#bd3786"
             ],
             [
              0.5555555555555556,
              "#d8576b"
             ],
             [
              0.6666666666666666,
              "#ed7953"
             ],
             [
              0.7777777777777778,
              "#fb9f3a"
             ],
             [
              0.8888888888888888,
              "#fdca26"
             ],
             [
              1,
              "#f0f921"
             ]
            ],
            "type": "contour"
           }
          ],
          "contourcarpet": [
           {
            "colorbar": {
             "outlinewidth": 0,
             "ticks": ""
            },
            "type": "contourcarpet"
           }
          ],
          "heatmap": [
           {
            "colorbar": {
             "outlinewidth": 0,
             "ticks": ""
            },
            "colorscale": [
             [
              0,
              "#0d0887"
             ],
             [
              0.1111111111111111,
              "#46039f"
             ],
             [
              0.2222222222222222,
              "#7201a8"
             ],
             [
              0.3333333333333333,
              "#9c179e"
             ],
             [
              0.4444444444444444,
              "#bd3786"
             ],
             [
              0.5555555555555556,
              "#d8576b"
             ],
             [
              0.6666666666666666,
              "#ed7953"
             ],
             [
              0.7777777777777778,
              "#fb9f3a"
             ],
             [
              0.8888888888888888,
              "#fdca26"
             ],
             [
              1,
              "#f0f921"
             ]
            ],
            "type": "heatmap"
           }
          ],
          "heatmapgl": [
           {
            "colorbar": {
             "outlinewidth": 0,
             "ticks": ""
            },
            "colorscale": [
             [
              0,
              "#0d0887"
             ],
             [
              0.1111111111111111,
              "#46039f"
             ],
             [
              0.2222222222222222,
              "#7201a8"
             ],
             [
              0.3333333333333333,
              "#9c179e"
             ],
             [
              0.4444444444444444,
              "#bd3786"
             ],
             [
              0.5555555555555556,
              "#d8576b"
             ],
             [
              0.6666666666666666,
              "#ed7953"
             ],
             [
              0.7777777777777778,
              "#fb9f3a"
             ],
             [
              0.8888888888888888,
              "#fdca26"
             ],
             [
              1,
              "#f0f921"
             ]
            ],
            "type": "heatmapgl"
           }
          ],
          "histogram": [
           {
            "marker": {
             "colorbar": {
              "outlinewidth": 0,
              "ticks": ""
             }
            },
            "type": "histogram"
           }
          ],
          "histogram2d": [
           {
            "colorbar": {
             "outlinewidth": 0,
             "ticks": ""
            },
            "colorscale": [
             [
              0,
              "#0d0887"
             ],
             [
              0.1111111111111111,
              "#46039f"
             ],
             [
              0.2222222222222222,
              "#7201a8"
             ],
             [
              0.3333333333333333,
              "#9c179e"
             ],
             [
              0.4444444444444444,
              "#bd3786"
             ],
             [
              0.5555555555555556,
              "#d8576b"
             ],
             [
              0.6666666666666666,
              "#ed7953"
             ],
             [
              0.7777777777777778,
              "#fb9f3a"
             ],
             [
              0.8888888888888888,
              "#fdca26"
             ],
             [
              1,
              "#f0f921"
             ]
            ],
            "type": "histogram2d"
           }
          ],
          "histogram2dcontour": [
           {
            "colorbar": {
             "outlinewidth": 0,
             "ticks": ""
            },
            "colorscale": [
             [
              0,
              "#0d0887"
             ],
             [
              0.1111111111111111,
              "#46039f"
             ],
             [
              0.2222222222222222,
              "#7201a8"
             ],
             [
              0.3333333333333333,
              "#9c179e"
             ],
             [
              0.4444444444444444,
              "#bd3786"
             ],
             [
              0.5555555555555556,
              "#d8576b"
             ],
             [
              0.6666666666666666,
              "#ed7953"
             ],
             [
              0.7777777777777778,
              "#fb9f3a"
             ],
             [
              0.8888888888888888,
              "#fdca26"
             ],
             [
              1,
              "#f0f921"
             ]
            ],
            "type": "histogram2dcontour"
           }
          ],
          "mesh3d": [
           {
            "colorbar": {
             "outlinewidth": 0,
             "ticks": ""
            },
            "type": "mesh3d"
           }
          ],
          "parcoords": [
           {
            "line": {
             "colorbar": {
              "outlinewidth": 0,
              "ticks": ""
             }
            },
            "type": "parcoords"
           }
          ],
          "pie": [
           {
            "automargin": true,
            "type": "pie"
           }
          ],
          "scatter": [
           {
            "marker": {
             "colorbar": {
              "outlinewidth": 0,
              "ticks": ""
             }
            },
            "type": "scatter"
           }
          ],
          "scatter3d": [
           {
            "line": {
             "colorbar": {
              "outlinewidth": 0,
              "ticks": ""
             }
            },
            "marker": {
             "colorbar": {
              "outlinewidth": 0,
              "ticks": ""
             }
            },
            "type": "scatter3d"
           }
          ],
          "scattercarpet": [
           {
            "marker": {
             "colorbar": {
              "outlinewidth": 0,
              "ticks": ""
             }
            },
            "type": "scattercarpet"
           }
          ],
          "scattergeo": [
           {
            "marker": {
             "colorbar": {
              "outlinewidth": 0,
              "ticks": ""
             }
            },
            "type": "scattergeo"
           }
          ],
          "scattergl": [
           {
            "marker": {
             "colorbar": {
              "outlinewidth": 0,
              "ticks": ""
             }
            },
            "type": "scattergl"
           }
          ],
          "scattermapbox": [
           {
            "marker": {
             "colorbar": {
              "outlinewidth": 0,
              "ticks": ""
             }
            },
            "type": "scattermapbox"
           }
          ],
          "scatterpolar": [
           {
            "marker": {
             "colorbar": {
              "outlinewidth": 0,
              "ticks": ""
             }
            },
            "type": "scatterpolar"
           }
          ],
          "scatterpolargl": [
           {
            "marker": {
             "colorbar": {
              "outlinewidth": 0,
              "ticks": ""
             }
            },
            "type": "scatterpolargl"
           }
          ],
          "scatterternary": [
           {
            "marker": {
             "colorbar": {
              "outlinewidth": 0,
              "ticks": ""
             }
            },
            "type": "scatterternary"
           }
          ],
          "surface": [
           {
            "colorbar": {
             "outlinewidth": 0,
             "ticks": ""
            },
            "colorscale": [
             [
              0,
              "#0d0887"
             ],
             [
              0.1111111111111111,
              "#46039f"
             ],
             [
              0.2222222222222222,
              "#7201a8"
             ],
             [
              0.3333333333333333,
              "#9c179e"
             ],
             [
              0.4444444444444444,
              "#bd3786"
             ],
             [
              0.5555555555555556,
              "#d8576b"
             ],
             [
              0.6666666666666666,
              "#ed7953"
             ],
             [
              0.7777777777777778,
              "#fb9f3a"
             ],
             [
              0.8888888888888888,
              "#fdca26"
             ],
             [
              1,
              "#f0f921"
             ]
            ],
            "type": "surface"
           }
          ],
          "table": [
           {
            "cells": {
             "fill": {
              "color": "#EBF0F8"
             },
             "line": {
              "color": "white"
             }
            },
            "header": {
             "fill": {
              "color": "#C8D4E3"
             },
             "line": {
              "color": "white"
             }
            },
            "type": "table"
           }
          ]
         },
         "layout": {
          "annotationdefaults": {
           "arrowcolor": "#2a3f5f",
           "arrowhead": 0,
           "arrowwidth": 1
          },
          "coloraxis": {
           "colorbar": {
            "outlinewidth": 0,
            "ticks": ""
           }
          },
          "colorscale": {
           "diverging": [
            [
             0,
             "#8e0152"
            ],
            [
             0.1,
             "#c51b7d"
            ],
            [
             0.2,
             "#de77ae"
            ],
            [
             0.3,
             "#f1b6da"
            ],
            [
             0.4,
             "#fde0ef"
            ],
            [
             0.5,
             "#f7f7f7"
            ],
            [
             0.6,
             "#e6f5d0"
            ],
            [
             0.7,
             "#b8e186"
            ],
            [
             0.8,
             "#7fbc41"
            ],
            [
             0.9,
             "#4d9221"
            ],
            [
             1,
             "#276419"
            ]
           ],
           "sequential": [
            [
             0,
             "#0d0887"
            ],
            [
             0.1111111111111111,
             "#46039f"
            ],
            [
             0.2222222222222222,
             "#7201a8"
            ],
            [
             0.3333333333333333,
             "#9c179e"
            ],
            [
             0.4444444444444444,
             "#bd3786"
            ],
            [
             0.5555555555555556,
             "#d8576b"
            ],
            [
             0.6666666666666666,
             "#ed7953"
            ],
            [
             0.7777777777777778,
             "#fb9f3a"
            ],
            [
             0.8888888888888888,
             "#fdca26"
            ],
            [
             1,
             "#f0f921"
            ]
           ],
           "sequentialminus": [
            [
             0,
             "#0d0887"
            ],
            [
             0.1111111111111111,
             "#46039f"
            ],
            [
             0.2222222222222222,
             "#7201a8"
            ],
            [
             0.3333333333333333,
             "#9c179e"
            ],
            [
             0.4444444444444444,
             "#bd3786"
            ],
            [
             0.5555555555555556,
             "#d8576b"
            ],
            [
             0.6666666666666666,
             "#ed7953"
            ],
            [
             0.7777777777777778,
             "#fb9f3a"
            ],
            [
             0.8888888888888888,
             "#fdca26"
            ],
            [
             1,
             "#f0f921"
            ]
           ]
          },
          "colorway": [
           "#636efa",
           "#EF553B",
           "#00cc96",
           "#ab63fa",
           "#FFA15A",
           "#19d3f3",
           "#FF6692",
           "#B6E880",
           "#FF97FF",
           "#FECB52"
          ],
          "font": {
           "color": "#2a3f5f"
          },
          "geo": {
           "bgcolor": "white",
           "lakecolor": "white",
           "landcolor": "#E5ECF6",
           "showlakes": true,
           "showland": true,
           "subunitcolor": "white"
          },
          "hoverlabel": {
           "align": "left"
          },
          "hovermode": "closest",
          "mapbox": {
           "style": "light"
          },
          "paper_bgcolor": "white",
          "plot_bgcolor": "#E5ECF6",
          "polar": {
           "angularaxis": {
            "gridcolor": "white",
            "linecolor": "white",
            "ticks": ""
           },
           "bgcolor": "#E5ECF6",
           "radialaxis": {
            "gridcolor": "white",
            "linecolor": "white",
            "ticks": ""
           }
          },
          "scene": {
           "xaxis": {
            "backgroundcolor": "#E5ECF6",
            "gridcolor": "white",
            "gridwidth": 2,
            "linecolor": "white",
            "showbackground": true,
            "ticks": "",
            "zerolinecolor": "white"
           },
           "yaxis": {
            "backgroundcolor": "#E5ECF6",
            "gridcolor": "white",
            "gridwidth": 2,
            "linecolor": "white",
            "showbackground": true,
            "ticks": "",
            "zerolinecolor": "white"
           },
           "zaxis": {
            "backgroundcolor": "#E5ECF6",
            "gridcolor": "white",
            "gridwidth": 2,
            "linecolor": "white",
            "showbackground": true,
            "ticks": "",
            "zerolinecolor": "white"
           }
          },
          "shapedefaults": {
           "line": {
            "color": "#2a3f5f"
           }
          },
          "ternary": {
           "aaxis": {
            "gridcolor": "white",
            "linecolor": "white",
            "ticks": ""
           },
           "baxis": {
            "gridcolor": "white",
            "linecolor": "white",
            "ticks": ""
           },
           "bgcolor": "#E5ECF6",
           "caxis": {
            "gridcolor": "white",
            "linecolor": "white",
            "ticks": ""
           }
          },
          "title": {
           "x": 0.05
          },
          "xaxis": {
           "automargin": true,
           "gridcolor": "white",
           "linecolor": "white",
           "ticks": "",
           "title": {
            "standoff": 15
           },
           "zerolinecolor": "white",
           "zerolinewidth": 2
          },
          "yaxis": {
           "automargin": true,
           "gridcolor": "white",
           "linecolor": "white",
           "ticks": "",
           "title": {
            "standoff": 15
           },
           "zerolinecolor": "white",
           "zerolinewidth": 2
          }
         }
        }
       }
      },
      "text/html": [
       "<div>\n",
       "        \n",
       "        \n",
       "            <div id=\"62185186-c0ec-4e02-a9ee-fb05b0ad8b28\" class=\"plotly-graph-div\" style=\"height:525px; width:100%;\"></div>\n",
       "            <script type=\"text/javascript\">\n",
       "                require([\"plotly\"], function(Plotly) {\n",
       "                    window.PLOTLYENV=window.PLOTLYENV || {};\n",
       "                    \n",
       "                if (document.getElementById(\"62185186-c0ec-4e02-a9ee-fb05b0ad8b28\")) {\n",
       "                    Plotly.newPlot(\n",
       "                        '62185186-c0ec-4e02-a9ee-fb05b0ad8b28',\n",
       "                        [{\"hovertemplate\": \"1st=%{x}<br>2nd=%{y}<br>3rd=%{z}<br>4th=%{marker.color}<extra></extra>\", \"legendgroup\": \"\", \"marker\": {\"color\": [0.5605367148771858, -0.3987261625868454, -0.21658817560198637, 0.39557480001760437, -0.8504802670782852, 1.064567863531102, -1.814013961348956, -0.06954624488448653, 0.9181574476021909, -0.05861192492716709, -2.2232557186158948, -1.5550524336712657, 0.03317694208182127, 0.04422993402826648, -0.048927605698724785, 0.5511694030153994, -0.13819949913452417, 0.1428998498576075, -0.9808743505844192, 0.8630358747308072, 0.17727390376525917, 0.5660885882865943, -0.09397049969758714, 0.0761939728753729, 0.8493387040358935, 1.2349190966237777, 0.7659891116236436, -0.39874290389677264, -1.6841442570380993, 0.8003400982535049, -1.810637971721974, 0.21666860272887273, -0.10403999491059038, -0.05071961563923649, 0.8292336921467457, -2.498464333358435, 0.4196392805782066, -1.9841351867067332, -0.336835880873019, -1.1596469728275787, 0.7197663922250707, -1.9857146338788327, -0.23616373534833168, -1.5794741205584737, 0.949768074523248, -1.0823731700091166, 1.1251876471552256, -5.677056557770031, -0.8152687859235668, 0.17361672369791734, 0.8173879275219975, 1.3771590188165483, -1.9242953974884125, -2.0812739740013777, -0.5298021792778204, -0.6917043508509209, -4.402805432708521, -2.145834798687283, 1.4430925955594818, 1.075709111961486, -0.09591294582451272, 1.8127187719953224, 0.5623829877162009, -1.4797250145631127, 0.40215037290097805, 0.9440170060133324, -1.6926530394697874, -1.096005762167888, 1.1865898904854455, 0.15477668165455305, 0.42098200452742035, -0.020007561278661413, 0.8854854515458997, 0.9605995917677358, 1.4234080745308837, 3.030274516633422, -0.2331272600047209, 1.394410973691139, -0.70738272856614, 0.9649687824079304, 0.7079309931781717, 1.1811434837507682, 0.5458430257911072, 0.19727163852370555, -3.2711777237678716, 0.8244342659034571, 1.8698707878574272, -0.46197903800156775, 4.408294678222564, 0.8768218008306141, 0.908700263648344, 0.6697424183396128, 0.07708025894433902, -0.1378863374052113, 0.46371875633315535, 0.5239709225524736, 1.164242915672113, 0.7466387413413801, 0.18616928580118924, 0.6287257351975027, -2.4421957469335447, -2.3504435051740495, -0.7445756970556606, -0.7375943143483271, 4.088156281407654, 0.6262698380824662, 0.4904068172598557, -0.680987026317978, -3.4219341804504344, 2.772417707474657, 6.678336917623673, 0.12423454744720061, 0.1691627551130998, -1.2256761507584026, -0.9986843938783583, -1.97673672523938, 0.4792763973936002, 1.1527926274017908, 0.16045999850291973, -0.2813070586381188, -1.0776987718061073, 0.6924304063939177, 1.452097797620835, -0.7690774153532356, 1.4045077129616195, -2.5049928633093597, 1.430506103055396], \"coloraxis\": \"coloraxis\", \"symbol\": \"circle\"}, \"mode\": \"markers\", \"name\": \"\", \"scene\": \"scene\", \"showlegend\": false, \"type\": \"scatter3d\", \"x\": [-0.2815534223872924, -0.683246693845663, -2.959731625399324, -1.4917996866736154, -2.0702170165373484, -1.2960997579295088, 0.6332603751283656, 1.7896875232575007, -2.398448696781545, -4.625348976905294, 2.0878520650178336, 0.29341472048490086, -3.7404846374539935, 2.2347883615429662, -2.597837580373023, -0.4689103830767009, -2.1770238781799645, 0.2774941044805778, 1.1250771419263896, 0.7050303132037121, 1.2154808775304025, 1.4059798372324006, -0.68175353867106, -1.9050364054437188, -1.108224647115901, -2.4956289808929766, -1.1775133143794476, -1.1768105146978685, 1.5672786879478204, 0.22845050869843392, 3.43139939040514, -1.6134434720641715, -1.143238550286785, -0.26513888547383957, -2.1840082232153546, 2.927426420826953, -1.839388095883757, 2.247907433634769, -0.9872483581294627, 0.7260046068596667, -1.018511032873282, 1.5718299007533816, -1.252260987969099, -0.25624175231998947, -0.7112536700102555, 3.172940083613008, -0.873739125031508, 9.303371003139548, -0.37063090516700015, -1.5698664031237775, 0.3490860133289814, -0.8661883476040262, 1.3545746869615019, -0.6938078140820325, -1.0503453028815395, -0.2991368811758856, 3.066771061064852, -0.5570295595794622, -1.5974657859883354, -0.756425266657125, -0.3056239888414942, -2.951974883445051, -1.6565683767040613, 2.4105327850999525, -0.3478378272697046, -0.24035720091272744, 2.5281059284574505, -0.9873403207981143, -0.8114937757654322, 1.6665905801359897, -1.2222552420040513, -0.9047578422912349, -0.8444108473023564, -0.44500305399983514, 10.630985099191667, 2.1402916875772715, -3.5495992730469026, -2.148364137306055, 1.7649762737612824, -3.082634555630461, 0.8184958600664313, 0.5622815533936268, -1.8864525336681965, -0.7731551877374889, 3.196608311479207, -0.7808672536531773, -0.64208080675955, -2.8624137354431856, 5.325311636869534, -1.1448202931386107, -1.5031573067766069, -1.6780619489234836, 0.08199062091420947, -1.764554246017144, -1.1975647706617585, -0.1880302559660474, -1.2984949876702052, -1.9749084101846175, -1.261167253921626, 0.5351962743249902, -0.8027173239670032, 0.31204298214627046, -0.31908408932530036, -1.7250381098258536, 11.58365071345925, -2.1592947952078463, -2.2190241909760324, 2.7355624096345568, 1.3173050187610014, 7.784841827453573, 7.296161064485165, 0.09108151933759004, 0.1425539597373843, -3.025370540212079, 1.7156736608407452, -2.5047585964001824, -1.5978900813851786, -2.7674516784682055, -1.913825662235275, -1.601422609250216, 0.7905156240771406, 0.18828344376803682, -0.1788105156429567, 0.3501225120592364, 2.8104080926877923, 3.1681213410046674, -1.1531192127668932], \"y\": [-2.2129249745310497, -0.4959234023322632, -0.23872185866179824, 1.0697360859034664, 2.143807460003424, 1.7052450601127502, 2.731790946188797, -2.9920875827138222, -0.7868066811627583, 0.23215943223602692, -0.6217991514708243, 1.5350969533865866, 0.7706792909121718, -3.6047022693340374, 0.5996736585471079, 0.3903633828245011, -1.2786678416326183, -0.025572554360822702, 2.0967866008016314, -2.2780280346663635, -2.9693995350035105, -3.157793363747223, 0.7073576151051602, -1.8570031751624425, 0.03652364238013049, 0.5544870701932235, 0.6255823134699604, 1.2460153770217903, 1.9702589885032884, -2.4300022752594677, 1.7155274344081417, -0.22306219826745158, 1.2483860905048223, 1.298277763392051, -0.060283002396107795, 1.3838262029690453, -1.8403855050456444, 0.001347715975399913, 1.5677988920934274, -1.692037120670415, 0.23930908459729056, 0.9657264023297966, -2.3160233977205653, 3.4675458076495027, 0.2503289366101078, -2.1571998373872705, 0.9154745968011585, -4.492890842848999, 2.8968704281013964, -0.5003094028551869, -2.0702930180765735, 1.0294581075946296, 0.35552245379139324, 3.533870745279487, 2.140805636334372, 0.6964589780973878, -4.90488953909127, 2.3540778492439562, 0.009414374486115706, -1.7755626111152598, 0.029154399000568768, 0.3456398421179925, -2.711457568475186, 0.5134857438536939, 0.7079325702162783, -0.5811850646281377, 2.0783896298764484, 1.533917548451385, -0.4924811882778214, -3.3404848065040844, 2.4234909017027078, 1.9685474728924441, 0.9489444919878389, 0.42241819997668995, 7.8257055354401155, -1.8393958628075562, -2.6762832759395185, -0.4083893006294574, -0.07003102153009833, 0.40822188956437916, -1.6229765208086084, -2.976927125263542, -2.485736004714772, 2.2183820796106835, 3.283867796552319, -1.8927408505699908, -0.5952870709949126, 1.8938363110594794, 0.5139716730779214, 0.10605826704347279, 1.1455888720020446, 0.13616936946436053, 2.279818237183305, 2.5522856323415164, 1.2117854669964014, -0.6246594402962481, 0.8789868854681259, -0.5235824163498911, -1.079521301484293, -2.7129448195594033, -5.573485487249058, 4.597525302480653, 2.479827322368858, 0.5147127495898504, 3.4456390669244783, 2.1998553867970103, 2.074170992994174, -0.9497411136527762, 1.886181328526105, -0.37311175854557166, 0.8098529557960593, -4.752527445980245, -3.024658014610994, 2.930837224018326, -3.4697457593936702, 3.849644684577857, 1.2761948365270839, -2.0293573457068645, -1.0853988781798933, -0.31804682373392396, 0.327858111199804, -0.522087542376729, 1.0397078384598637, -4.795118075439245, -2.342945656220277, -4.37981307788427, -0.11170820066902554], \"z\": [-0.6035755058665718, 2.193779297295759, 1.4056325959413996, 1.310208085508814, 0.23274629970902777, -1.8554028344014148, 0.5816399652666049, -0.07498729508210786, -0.511806447689995, 0.6773962334586001, -3.5546500418623093, 0.3600521426506294, -0.31381186065623534, -2.183103820074146, 2.8981928408728974, -1.438520057744151, 4.952309281618573, 0.28945986552530606, -0.9027840054705542, -1.439263274640581, -0.40179148942739273, -1.769176563683132, -1.1573213019312851, 0.7917638828340748, -0.584113212250073, 1.2267690390563784, 0.2049913508014854, -0.9829110789690191, -1.8341105343683615, -1.9753427630024836, -0.963093728273902, 1.262611559779014, 2.7996200433718497, -0.8145734743003836, 0.3297936909973668, -1.5625196454468069, -0.1553401163813062, -1.6126541073470937, 1.3628750107391714, 0.13121054923772785, -1.471932235968935, -0.44774584565612857, 1.229073640982945, -0.8599711889475189, 0.2101815530312684, 1.8400238218587028, 1.6033317758961045, 4.749865176440858, -1.7024046570731735, 1.5645761118203356, -1.180950283071271, -1.8634118776774256, -0.5318783722151398, -1.0893243850555876, 0.3787006078422708, 0.029258979118888834, 0.23291542366109105, 3.3127498583794153, -1.6063450500707794, -1.6728762822136864, -0.12292313713058126, -1.1624624060846203, -0.11365070259628852, -2.257276819551808, -0.9252783775582878, -1.969843465424534, -0.5374033516861949, 0.6845945911311098, 2.027594885898525, -2.024265203595122, -2.5145625468541297, 4.733221397821064, -1.2663566515469926, -1.2513776762682718, 3.2505311634435854, -0.8902612307928855, 0.6441829973845544, 0.9821460697087832, -1.1214130453273263, 1.6704303077807148, -0.9443207406277568, -2.1423352241516955, -0.10167248528246686, -1.466906591884341, 0.14610472733143484, -0.2756116616230705, -0.40095772204357777, 1.1790359635342331, 1.3092775209617005, 0.41227976301435226, 1.5475684330205304, 0.8780855414891872, -0.4241496449690371, -0.7254763800189402, 0.3752076637618255, -1.2296005630654299, -1.6427073787100521, -0.0971124682797039, 0.3346814693620078, -0.5696816721354254, 5.82364365961971, -1.6163606858774628, -0.32691522585752275, 3.6830206763951154, 2.93707441205205, -0.026431467662932348, 1.5029977566950923, -1.933114278277526, -2.025336372260716, -0.5276338347058058, 1.1325725669917805, -1.3485804667488543, -0.2122646080075404, 0.3891786167970658, 0.022823213967208177, -0.6324848808012995, -1.6497506723031388, 0.3170343340274959, 0.12591633927446885, -0.16724472143093383, -3.1356356154955773, 0.11186951686493385, -0.1625957805436236, 1.8967661877198625, -2.6998327165263705, -0.6463780059028207, 6.126291356684661]}],\n",
       "                        {\"coloraxis\": {\"colorbar\": {\"title\": {\"text\": \"4th\"}}, \"colorscale\": [[0.0, \"#0d0887\"], [0.1111111111111111, \"#46039f\"], [0.2222222222222222, \"#7201a8\"], [0.3333333333333333, \"#9c179e\"], [0.4444444444444444, \"#bd3786\"], [0.5555555555555556, \"#d8576b\"], [0.6666666666666666, \"#ed7953\"], [0.7777777777777778, \"#fb9f3a\"], [0.8888888888888888, \"#fdca26\"], [1.0, \"#f0f921\"]]}, \"legend\": {\"tracegroupgap\": 0}, \"margin\": {\"t\": 60}, \"scene\": {\"domain\": {\"x\": [0.0, 1.0], \"y\": [0.0, 1.0]}, \"xaxis\": {\"title\": {\"text\": \"1st\"}}, \"yaxis\": {\"title\": {\"text\": \"2nd\"}}, \"zaxis\": {\"title\": {\"text\": \"3rd\"}}}, \"template\": {\"data\": {\"bar\": [{\"error_x\": {\"color\": \"#2a3f5f\"}, \"error_y\": {\"color\": \"#2a3f5f\"}, \"marker\": {\"line\": {\"color\": \"#E5ECF6\", \"width\": 0.5}}, \"type\": \"bar\"}], \"barpolar\": [{\"marker\": {\"line\": {\"color\": \"#E5ECF6\", \"width\": 0.5}}, \"type\": \"barpolar\"}], \"carpet\": [{\"aaxis\": {\"endlinecolor\": \"#2a3f5f\", \"gridcolor\": \"white\", \"linecolor\": \"white\", \"minorgridcolor\": \"white\", \"startlinecolor\": \"#2a3f5f\"}, \"baxis\": {\"endlinecolor\": \"#2a3f5f\", \"gridcolor\": \"white\", \"linecolor\": \"white\", \"minorgridcolor\": \"white\", \"startlinecolor\": \"#2a3f5f\"}, \"type\": \"carpet\"}], \"choropleth\": [{\"colorbar\": {\"outlinewidth\": 0, \"ticks\": \"\"}, \"type\": \"choropleth\"}], \"contour\": [{\"colorbar\": {\"outlinewidth\": 0, \"ticks\": \"\"}, \"colorscale\": [[0.0, \"#0d0887\"], [0.1111111111111111, \"#46039f\"], [0.2222222222222222, \"#7201a8\"], [0.3333333333333333, \"#9c179e\"], [0.4444444444444444, \"#bd3786\"], [0.5555555555555556, \"#d8576b\"], [0.6666666666666666, \"#ed7953\"], [0.7777777777777778, \"#fb9f3a\"], [0.8888888888888888, \"#fdca26\"], [1.0, \"#f0f921\"]], \"type\": \"contour\"}], \"contourcarpet\": [{\"colorbar\": {\"outlinewidth\": 0, \"ticks\": \"\"}, \"type\": \"contourcarpet\"}], \"heatmap\": [{\"colorbar\": {\"outlinewidth\": 0, \"ticks\": \"\"}, \"colorscale\": [[0.0, \"#0d0887\"], [0.1111111111111111, \"#46039f\"], [0.2222222222222222, \"#7201a8\"], [0.3333333333333333, \"#9c179e\"], [0.4444444444444444, \"#bd3786\"], [0.5555555555555556, \"#d8576b\"], [0.6666666666666666, \"#ed7953\"], [0.7777777777777778, \"#fb9f3a\"], [0.8888888888888888, \"#fdca26\"], [1.0, \"#f0f921\"]], \"type\": \"heatmap\"}], \"heatmapgl\": [{\"colorbar\": {\"outlinewidth\": 0, \"ticks\": \"\"}, \"colorscale\": [[0.0, \"#0d0887\"], [0.1111111111111111, \"#46039f\"], [0.2222222222222222, \"#7201a8\"], [0.3333333333333333, \"#9c179e\"], [0.4444444444444444, \"#bd3786\"], [0.5555555555555556, \"#d8576b\"], [0.6666666666666666, \"#ed7953\"], [0.7777777777777778, \"#fb9f3a\"], [0.8888888888888888, \"#fdca26\"], [1.0, \"#f0f921\"]], \"type\": \"heatmapgl\"}], \"histogram\": [{\"marker\": {\"colorbar\": {\"outlinewidth\": 0, \"ticks\": \"\"}}, \"type\": \"histogram\"}], \"histogram2d\": [{\"colorbar\": {\"outlinewidth\": 0, \"ticks\": \"\"}, \"colorscale\": [[0.0, \"#0d0887\"], [0.1111111111111111, \"#46039f\"], [0.2222222222222222, \"#7201a8\"], [0.3333333333333333, \"#9c179e\"], [0.4444444444444444, \"#bd3786\"], [0.5555555555555556, \"#d8576b\"], [0.6666666666666666, \"#ed7953\"], [0.7777777777777778, \"#fb9f3a\"], [0.8888888888888888, \"#fdca26\"], [1.0, \"#f0f921\"]], \"type\": \"histogram2d\"}], \"histogram2dcontour\": [{\"colorbar\": {\"outlinewidth\": 0, \"ticks\": \"\"}, \"colorscale\": [[0.0, \"#0d0887\"], [0.1111111111111111, \"#46039f\"], [0.2222222222222222, \"#7201a8\"], [0.3333333333333333, \"#9c179e\"], [0.4444444444444444, \"#bd3786\"], [0.5555555555555556, \"#d8576b\"], [0.6666666666666666, \"#ed7953\"], [0.7777777777777778, \"#fb9f3a\"], [0.8888888888888888, \"#fdca26\"], [1.0, \"#f0f921\"]], \"type\": \"histogram2dcontour\"}], \"mesh3d\": [{\"colorbar\": {\"outlinewidth\": 0, \"ticks\": \"\"}, \"type\": \"mesh3d\"}], \"parcoords\": [{\"line\": {\"colorbar\": {\"outlinewidth\": 0, \"ticks\": \"\"}}, \"type\": \"parcoords\"}], \"pie\": [{\"automargin\": true, \"type\": \"pie\"}], \"scatter\": [{\"marker\": {\"colorbar\": {\"outlinewidth\": 0, \"ticks\": \"\"}}, \"type\": \"scatter\"}], \"scatter3d\": [{\"line\": {\"colorbar\": {\"outlinewidth\": 0, \"ticks\": \"\"}}, \"marker\": {\"colorbar\": {\"outlinewidth\": 0, \"ticks\": \"\"}}, \"type\": \"scatter3d\"}], \"scattercarpet\": [{\"marker\": {\"colorbar\": {\"outlinewidth\": 0, \"ticks\": \"\"}}, \"type\": \"scattercarpet\"}], \"scattergeo\": [{\"marker\": {\"colorbar\": {\"outlinewidth\": 0, \"ticks\": \"\"}}, \"type\": \"scattergeo\"}], \"scattergl\": [{\"marker\": {\"colorbar\": {\"outlinewidth\": 0, \"ticks\": \"\"}}, \"type\": \"scattergl\"}], \"scattermapbox\": [{\"marker\": {\"colorbar\": {\"outlinewidth\": 0, \"ticks\": \"\"}}, \"type\": \"scattermapbox\"}], \"scatterpolar\": [{\"marker\": {\"colorbar\": {\"outlinewidth\": 0, \"ticks\": \"\"}}, \"type\": \"scatterpolar\"}], \"scatterpolargl\": [{\"marker\": {\"colorbar\": {\"outlinewidth\": 0, \"ticks\": \"\"}}, \"type\": \"scatterpolargl\"}], \"scatterternary\": [{\"marker\": {\"colorbar\": {\"outlinewidth\": 0, \"ticks\": \"\"}}, \"type\": \"scatterternary\"}], \"surface\": [{\"colorbar\": {\"outlinewidth\": 0, \"ticks\": \"\"}, \"colorscale\": [[0.0, \"#0d0887\"], [0.1111111111111111, \"#46039f\"], [0.2222222222222222, \"#7201a8\"], [0.3333333333333333, \"#9c179e\"], [0.4444444444444444, \"#bd3786\"], [0.5555555555555556, \"#d8576b\"], [0.6666666666666666, \"#ed7953\"], [0.7777777777777778, \"#fb9f3a\"], [0.8888888888888888, \"#fdca26\"], [1.0, \"#f0f921\"]], \"type\": \"surface\"}], \"table\": [{\"cells\": {\"fill\": {\"color\": \"#EBF0F8\"}, \"line\": {\"color\": \"white\"}}, \"header\": {\"fill\": {\"color\": \"#C8D4E3\"}, \"line\": {\"color\": \"white\"}}, \"type\": \"table\"}]}, \"layout\": {\"annotationdefaults\": {\"arrowcolor\": \"#2a3f5f\", \"arrowhead\": 0, \"arrowwidth\": 1}, \"coloraxis\": {\"colorbar\": {\"outlinewidth\": 0, \"ticks\": \"\"}}, \"colorscale\": {\"diverging\": [[0, \"#8e0152\"], [0.1, \"#c51b7d\"], [0.2, \"#de77ae\"], [0.3, \"#f1b6da\"], [0.4, \"#fde0ef\"], [0.5, \"#f7f7f7\"], [0.6, \"#e6f5d0\"], [0.7, \"#b8e186\"], [0.8, \"#7fbc41\"], [0.9, \"#4d9221\"], [1, \"#276419\"]], \"sequential\": [[0.0, \"#0d0887\"], [0.1111111111111111, \"#46039f\"], [0.2222222222222222, \"#7201a8\"], [0.3333333333333333, \"#9c179e\"], [0.4444444444444444, \"#bd3786\"], [0.5555555555555556, \"#d8576b\"], [0.6666666666666666, \"#ed7953\"], [0.7777777777777778, \"#fb9f3a\"], [0.8888888888888888, \"#fdca26\"], [1.0, \"#f0f921\"]], \"sequentialminus\": [[0.0, \"#0d0887\"], [0.1111111111111111, \"#46039f\"], [0.2222222222222222, \"#7201a8\"], [0.3333333333333333, \"#9c179e\"], [0.4444444444444444, \"#bd3786\"], [0.5555555555555556, \"#d8576b\"], [0.6666666666666666, \"#ed7953\"], [0.7777777777777778, \"#fb9f3a\"], [0.8888888888888888, \"#fdca26\"], [1.0, \"#f0f921\"]]}, \"colorway\": [\"#636efa\", \"#EF553B\", \"#00cc96\", \"#ab63fa\", \"#FFA15A\", \"#19d3f3\", \"#FF6692\", \"#B6E880\", \"#FF97FF\", \"#FECB52\"], \"font\": {\"color\": \"#2a3f5f\"}, \"geo\": {\"bgcolor\": \"white\", \"lakecolor\": \"white\", \"landcolor\": \"#E5ECF6\", \"showlakes\": true, \"showland\": true, \"subunitcolor\": \"white\"}, \"hoverlabel\": {\"align\": \"left\"}, \"hovermode\": \"closest\", \"mapbox\": {\"style\": \"light\"}, \"paper_bgcolor\": \"white\", \"plot_bgcolor\": \"#E5ECF6\", \"polar\": {\"angularaxis\": {\"gridcolor\": \"white\", \"linecolor\": \"white\", \"ticks\": \"\"}, \"bgcolor\": \"#E5ECF6\", \"radialaxis\": {\"gridcolor\": \"white\", \"linecolor\": \"white\", \"ticks\": \"\"}}, \"scene\": {\"xaxis\": {\"backgroundcolor\": \"#E5ECF6\", \"gridcolor\": \"white\", \"gridwidth\": 2, \"linecolor\": \"white\", \"showbackground\": true, \"ticks\": \"\", \"zerolinecolor\": \"white\"}, \"yaxis\": {\"backgroundcolor\": \"#E5ECF6\", \"gridcolor\": \"white\", \"gridwidth\": 2, \"linecolor\": \"white\", \"showbackground\": true, \"ticks\": \"\", \"zerolinecolor\": \"white\"}, \"zaxis\": {\"backgroundcolor\": \"#E5ECF6\", \"gridcolor\": \"white\", \"gridwidth\": 2, \"linecolor\": \"white\", \"showbackground\": true, \"ticks\": \"\", \"zerolinecolor\": \"white\"}}, \"shapedefaults\": {\"line\": {\"color\": \"#2a3f5f\"}}, \"ternary\": {\"aaxis\": {\"gridcolor\": \"white\", \"linecolor\": \"white\", \"ticks\": \"\"}, \"baxis\": {\"gridcolor\": \"white\", \"linecolor\": \"white\", \"ticks\": \"\"}, \"bgcolor\": \"#E5ECF6\", \"caxis\": {\"gridcolor\": \"white\", \"linecolor\": \"white\", \"ticks\": \"\"}}, \"title\": {\"x\": 0.05}, \"xaxis\": {\"automargin\": true, \"gridcolor\": \"white\", \"linecolor\": \"white\", \"ticks\": \"\", \"title\": {\"standoff\": 15}, \"zerolinecolor\": \"white\", \"zerolinewidth\": 2}, \"yaxis\": {\"automargin\": true, \"gridcolor\": \"white\", \"linecolor\": \"white\", \"ticks\": \"\", \"title\": {\"standoff\": 15}, \"zerolinecolor\": \"white\", \"zerolinewidth\": 2}}}},\n",
       "                        {\"responsive\": true}\n",
       "                    ).then(function(){\n",
       "                            \n",
       "var gd = document.getElementById('62185186-c0ec-4e02-a9ee-fb05b0ad8b28');\n",
       "var x = new MutationObserver(function (mutations, observer) {{\n",
       "        var display = window.getComputedStyle(gd).display;\n",
       "        if (!display || display === 'none') {{\n",
       "            console.log([gd, 'removed!']);\n",
       "            Plotly.purge(gd);\n",
       "            observer.disconnect();\n",
       "        }}\n",
       "}});\n",
       "\n",
       "// Listen for the removal of the full notebook cells\n",
       "var notebookContainer = gd.closest('#notebook-container');\n",
       "if (notebookContainer) {{\n",
       "    x.observe(notebookContainer, {childList: true});\n",
       "}}\n",
       "\n",
       "// Listen for the clearing of the current output cell\n",
       "var outputEl = gd.closest('.output');\n",
       "if (outputEl) {{\n",
       "    x.observe(outputEl, {childList: true});\n",
       "}}\n",
       "\n",
       "                        })\n",
       "                };\n",
       "                });\n",
       "            </script>\n",
       "        </div>"
      ]
     },
     "metadata": {},
     "output_type": "display_data"
    }
   ],
   "source": [
    "# 3D plot with PC1, PC2, PC3 as axis and PC4 as color\n",
    "df_pc = pd.DataFrame(Xpca, columns = ['1st','2nd','3rd','4th','5th','6th','7th','8th'])\n",
    "fig = px.scatter_3d(df_pc, x='1st', y='2nd', z='3rd',\n",
    "              color='4th')\n",
    "fig.show()"
   ]
  },
  {
   "cell_type": "code",
   "execution_count": 7,
   "metadata": {},
   "outputs": [],
   "source": [
    "# retrieve feature names\n",
    "titles = []\n",
    "for i in range(len(X.columns)):\n",
    "    title = ''\n",
    "    for j in [0,1]:\n",
    "        title += list(X.columns)[i][j]\n",
    "        if j ==0:\n",
    "            title+= ', '\n",
    "    titles.append(title)"
   ]
  },
  {
   "cell_type": "code",
   "execution_count": 8,
   "metadata": {},
   "outputs": [
    {
     "data": {
      "image/png": "[encoded data removed]",
      "text/plain": [
       "<Figure size 936x720 with 2 Axes>"
      ]
     },
     "metadata": {
      "needs_background": "light"
     },
     "output_type": "display_data"
    }
   ],
   "source": [
    "# Composition of PC1 and PC2, grouped by sigmoid parameters\n",
    "labels = list(df_param.index)\n",
    "\n",
    "fig, ax = plt.subplots(1, 2,figsize = (13,10),sharey = True)\n",
    "\n",
    "x = np.arange(len(labels))  # the label locations\n",
    "width = 1/6  # the width of the bars  \n",
    "\n",
    "for j in [0,1]:\n",
    "    \n",
    "    pc_compo = []\n",
    "    for i in range(len(sectors)):\n",
    "        pc_compo.append((pca.components_[j])[np.array(range(i,pca.n_features_,len(sectors)))[:]])\n",
    "        ax[j].barh(x - 2*width-width/2+i/6, pc_compo[i], width, label=sectors[i])\n",
    "  \n",
    "    ax[j].set_xlabel('Composition',size=13)\n",
    "    ax[j].set_title('Principal component ' + str(j+1),size=14)\n",
    "    ax[j].set_yticks(x)\n",
    "    ax[j].set_yticklabels(labels,size=13)\n",
    "\n",
    "    if j == 1:\n",
    "        ax[j].legend(fontsize = 12,bbox_to_anchor=(1.05, 1), loc='upper left', borderaxespad=0.)"
   ]
  },
  {
   "cell_type": "code",
   "execution_count": 9,
   "metadata": {},
   "outputs": [
    {
     "data": {
      "image/png": "[encoded data removed]",
      "text/plain": [
       "<Figure size 936x720 with 2 Axes>"
      ]
     },
     "metadata": {
      "needs_background": "light"
     },
     "output_type": "display_data"
    }
   ],
   "source": [
    "# Composition of PC1 and PC2, grouped by sector\n",
    "labels = sectors\n",
    "\n",
    "fig, ax = plt.subplots(1, 2,figsize = (13,10),sharey = True)\n",
    "\n",
    "x = np.arange(len(labels))  # the label locations\n",
    "width = 1/6  # the width of the bars  \n",
    "\n",
    "for j in [0,1]:\n",
    "    \n",
    "    pc_compo = []\n",
    "    for i in range(len(list(df_param.index))):\n",
    "        pc_compo.append((pca.components_[j])[np.array(range(0,len(sectors)))[:]+len(sectors)*i])\n",
    "        ax[j].barh(x - 2*width+i/6, pc_compo[i], width, label=df_param.index[i])\n",
    "  \n",
    "    ax[j].set_xlabel('Composition',size=13)\n",
    "    ax[j].set_title('Principal component ' + str(j+1),size=14)\n",
    "    ax[j].set_yticks(x)\n",
    "    ax[j].set_yticklabels(labels,size=13)\n",
    "\n",
    "    if j == 1:\n",
    "        ax[j].legend(fontsize = 12,bbox_to_anchor=(1.05, 1), loc='upper left', borderaxespad=0.)"
   ]
  },
  {
   "cell_type": "markdown",
   "metadata": {},
   "source": [
    "### Now, we know that the transition length = 1/acuteness might be interesting too\n",
    "pca with limited number of features (& 6 sectors): 'transition length','transition day','intensity'"
   ]
  },
  {
   "cell_type": "code",
   "execution_count": 10,
   "metadata": {},
   "outputs": [
    {
     "data": {
      "text/plain": [
       "Sector\n",
       "Grocery & pharmacy     1.0\n",
       "Parks                  1.0\n",
       "Residential            1.0\n",
       "Retail & recreation    1.0\n",
       "Transit stations       1.0\n",
       "Workplace              1.0\n",
       "dtype: float64"
      ]
     },
     "execution_count": 10,
     "metadata": {},
     "output_type": "execute_result"
    }
   ],
   "source": [
    "X = X.join(X.loc[:,('acuteness',sectors)],rsuffix = ' inverse')\n",
    "X = X.rename(columns = {'acuteness inverse' : 'transition length'})\n",
    "X.xs('transition length', axis = 1, level=0).std() # taking 1/acuteness instead of acuteness does not change the result of the PCA"
   ]
  },
  {
   "cell_type": "code",
   "execution_count": 11,
   "metadata": {},
   "outputs": [
    {
     "name": "stdout",
     "output_type": "stream",
     "text": [
      "number of componants: 5\n",
      "explained variance per component: [0.34828473 0.19041027 0.11936155 0.0812037  0.0487145 ]\n",
      "total explained variance: 0.7879747528268047\n"
     ]
    },
    {
     "data": {
      "text/plain": [
       "Text(0.5, 1.0, 'Cumulative proportion of variance explained')"
      ]
     },
     "execution_count": 11,
     "metadata": {},
     "output_type": "execute_result"
    },
    {
     "data": {
      "image/png": "[encoded data removed]",
      "text/plain": [
       "<Figure size 936x288 with 2 Axes>"
      ]
     },
     "metadata": {
      "needs_background": "light"
     },
     "output_type": "display_data"
    }
   ],
   "source": [
    "# Apply PCA\n",
    "pca = decomposition.PCA(n_components=0.75)\n",
    "pca.fit(X[['transition length','transition day','intensity']])\n",
    "Xpca = pca.transform(X[['transition length','transition day','intensity']])\n",
    "print('number of componants: ' + str(pca.n_components_))\n",
    "print('explained variance per component: ' + str(pca.explained_variance_ratio_))\n",
    "print('total explained variance: ' + str(sum(pca.explained_variance_ratio_)))\n",
    "\n",
    "# visualisation: cumulative % variance per Principal Component\n",
    "plt.figure(figsize = (13,4))\n",
    "plt.subplot(1,2, 1)\n",
    "plt.bar(range(1,pca.n_components_+1),pca.explained_variance_ratio_)\n",
    "plt.title('Proportion of variance explained')\n",
    "\n",
    "# visualisation: % variance per Principal Component\n",
    "plt.subplot(1,2, 2)\n",
    "data = []\n",
    "for i in range(1,pca.n_components_+1):\n",
    "    data.append(sum(pca.explained_variance_ratio_[0:i]))\n",
    "plt.bar(range(1,pca.n_components_+1),data)\n",
    "plt.title('Cumulative proportion of variance explained')"
   ]
  },
  {
   "cell_type": "code",
   "execution_count": 12,
   "metadata": {},
   "outputs": [
    {
     "data": {
      "image/png": "[encoded data removed]",
      "text/plain": [
       "<Figure size 936x720 with 2 Axes>"
      ]
     },
     "metadata": {
      "needs_background": "light"
     },
     "output_type": "display_data"
    }
   ],
   "source": [
    "# Composition of PC1 and PC2, grouped by sigmoid parameter\n",
    "labels = ['transition length','transition day','intensity']\n",
    "\n",
    "fig, ax = plt.subplots(1, 2,figsize = (13,10),sharey = True)\n",
    "\n",
    "x = np.arange(len(labels))  # the label locations\n",
    "width = 1/6  # the width of the bars  \n",
    "\n",
    "for j in [0,1]:\n",
    "    \n",
    "    pc_compo = []\n",
    "    for i in range(len(sectors)):\n",
    "        pc_compo.append((pca.components_[j])[np.array(range(i,pca.n_features_,len(sectors)))[:]])\n",
    "        ax[j].barh(x - 2*width-width/2+i/6, pc_compo[i], width, label=sectors[i])\n",
    "  \n",
    "    ax[j].set_xlabel('Composition',size=13)\n",
    "    ax[j].set_title('Principal component ' + str(j+1),size=14)\n",
    "    ax[j].set_yticks(x)\n",
    "    ax[j].set_yticklabels(labels,size=13)\n",
    "\n",
    "    if j == 1:\n",
    "        ax[j].legend(fontsize = 12,bbox_to_anchor=(1.05, 1), loc='upper left', borderaxespad=0.)"
   ]
  },
  {
   "cell_type": "code",
   "execution_count": null,
   "metadata": {},
   "outputs": [],
   "source": []
  },
  {
   "cell_type": "code",
   "execution_count": null,
   "metadata": {
    "scrolled": true
   },
   "outputs": [],
   "source": []
  },
  {
   "cell_type": "code",
   "execution_count": null,
   "metadata": {},
   "outputs": [],
   "source": []
  }
 ],
 "metadata": {
  "kernelspec": {
   "display_name": "Python 3",
   "language": "python",
   "name": "python3"
  },
  "language_info": {
   "codemirror_mode": {
    "name": "ipython",
    "version": 3
   },
   "file_extension": ".py",
   "mimetype": "text/x-python",
   "name": "python",
   "nbconvert_exporter": "python",
   "pygments_lexer": "ipython3",
   "version": "3.7.6"
  }
 },
 "nbformat": 4,
 "nbformat_minor": 4
}
